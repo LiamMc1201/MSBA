{
    "metadata": {
        "kernelspec": {
            "name": "SQL",
            "display_name": "SQL",
            "language": "sql"
        },
        "language_info": {
            "name": "sql",
            "version": ""
        }
    },
    "nbformat_minor": 2,
    "nbformat": 4,
    "cells": [
        {
            "cell_type": "markdown",
            "source": [
                "Liam McGrath \n",
                "\n",
                "  \n",
                "\n",
                "SQL Familiarization Assignment"
            ],
            "metadata": {
                "azdata_cell_guid": "4a4ea811-2d1a-4aea-a9b4-ffde4f511ba3"
            },
            "attachments": {}
        },
        {
            "cell_type": "code",
            "source": [
                "SELECT FirstName, LastName\r\n",
                "From Person.Person\r\n",
                "Where FirstName = 'Michael'"
            ],
            "metadata": {
                "azdata_cell_guid": "76b0818f-6d52-4579-84b0-228a2407c744",
                "language": "sql"
            },
            "outputs": [
                {
                    "output_type": "display_data",
                    "data": {
                        "text/html": "(54 rows affected)"
                    },
                    "metadata": {}
                },
                {
                    "output_type": "display_data",
                    "data": {
                        "text/html": "Total execution time: 00:00:00.144"
                    },
                    "metadata": {}
                },
                {
                    "output_type": "execute_result",
                    "metadata": {},
                    "execution_count": 1,
                    "data": {
                        "application/vnd.dataresource+json": {
                            "schema": {
                                "fields": [
                                    {
                                        "name": "FirstName"
                                    },
                                    {
                                        "name": "LastName"
                                    }
                                ]
                            },
                            "data": [
                                {
                                    "FirstName": "Michael",
                                    "LastName": "Allen"
                                },
                                {
                                    "FirstName": "Michael",
                                    "LastName": "Allen"
                                },
                                {
                                    "FirstName": "Michael",
                                    "LastName": "Allen"
                                },
                                {
                                    "FirstName": "Michael",
                                    "LastName": "Anderson"
                                },
                                {
                                    "FirstName": "Michael",
                                    "LastName": "Blythe"
                                },
                                {
                                    "FirstName": "Michael",
                                    "LastName": "Blythe"
                                },
                                {
                                    "FirstName": "Michael",
                                    "LastName": "Bohling"
                                },
                                {
                                    "FirstName": "Michael",
                                    "LastName": "Brown"
                                },
                                {
                                    "FirstName": "Michael",
                                    "LastName": "Brundage"
                                },
                                {
                                    "FirstName": "Michael",
                                    "LastName": "Clark"
                                },
                                {
                                    "FirstName": "Michael",
                                    "LastName": "Davis"
                                },
                                {
                                    "FirstName": "Michael",
                                    "LastName": "Emanuel"
                                },
                                {
                                    "FirstName": "Michael",
                                    "LastName": "Entin"
                                },
                                {
                                    "FirstName": "Michael",
                                    "LastName": "Galos"
                                },
                                {
                                    "FirstName": "Michael",
                                    "LastName": "Garcia"
                                },
                                {
                                    "FirstName": "Michael",
                                    "LastName": "Graff"
                                },
                                {
                                    "FirstName": "Michael",
                                    "LastName": "Harris"
                                },
                                {
                                    "FirstName": "Michael",
                                    "LastName": "Hines"
                                },
                                {
                                    "FirstName": "Michael",
                                    "LastName": "Holm"
                                },
                                {
                                    "FirstName": "Michael",
                                    "LastName": "Hummer"
                                },
                                {
                                    "FirstName": "Michael",
                                    "LastName": "Jones"
                                },
                                {
                                    "FirstName": "Michael",
                                    "LastName": "Lee"
                                },
                                {
                                    "FirstName": "Michael",
                                    "LastName": "Lewis"
                                },
                                {
                                    "FirstName": "Michael",
                                    "LastName": "Martin"
                                },
                                {
                                    "FirstName": "Michael",
                                    "LastName": "Martinez"
                                },
                                {
                                    "FirstName": "Michael",
                                    "LastName": "Miller"
                                },
                                {
                                    "FirstName": "Michael",
                                    "LastName": "Moore"
                                },
                                {
                                    "FirstName": "Michael",
                                    "LastName": "O'Connell"
                                },
                                {
                                    "FirstName": "Michael",
                                    "LastName": "Patten"
                                },
                                {
                                    "FirstName": "Michael",
                                    "LastName": "Patten"
                                },
                                {
                                    "FirstName": "Michael",
                                    "LastName": "Raheem"
                                },
                                {
                                    "FirstName": "Michael",
                                    "LastName": "Ray"
                                },
                                {
                                    "FirstName": "Michael",
                                    "LastName": "Ray"
                                },
                                {
                                    "FirstName": "Michael",
                                    "LastName": "Robinson"
                                },
                                {
                                    "FirstName": "Michael",
                                    "LastName": "Rodriguez"
                                },
                                {
                                    "FirstName": "Michael",
                                    "LastName": "Rothkugel"
                                },
                                {
                                    "FirstName": "Michael",
                                    "LastName": "Rothkugel"
                                },
                                {
                                    "FirstName": "Michael",
                                    "LastName": "Ruggiero"
                                },
                                {
                                    "FirstName": "Michael",
                                    "LastName": "Ruggiero"
                                },
                                {
                                    "FirstName": "Michael",
                                    "LastName": "Smith"
                                },
                                {
                                    "FirstName": "Michael",
                                    "LastName": "Sullivan"
                                },
                                {
                                    "FirstName": "Michael",
                                    "LastName": "Sullivan"
                                },
                                {
                                    "FirstName": "Michael",
                                    "LastName": "Taylor"
                                },
                                {
                                    "FirstName": "Michael",
                                    "LastName": "Thomas"
                                },
                                {
                                    "FirstName": "Michael",
                                    "LastName": "Thompson"
                                },
                                {
                                    "FirstName": "Michael",
                                    "LastName": "Vanderhyde"
                                },
                                {
                                    "FirstName": "Michael",
                                    "LastName": "Vanderhyde"
                                },
                                {
                                    "FirstName": "Michael",
                                    "LastName": "White"
                                },
                                {
                                    "FirstName": "Michael",
                                    "LastName": "Williams"
                                },
                                {
                                    "FirstName": "Michael",
                                    "LastName": "Wilson"
                                },
                                {
                                    "FirstName": "Michael",
                                    "LastName": "Worland"
                                },
                                {
                                    "FirstName": "Michael",
                                    "LastName": "Zeman"
                                },
                                {
                                    "FirstName": "Michael",
                                    "LastName": "Zwilling"
                                },
                                {
                                    "FirstName": "Michael",
                                    "LastName": "Zwilling"
                                }
                            ]
                        },
                        "text/html": [
                            "<table>",
                            "<tr><th>FirstName</th><th>LastName</th></tr>",
                            "<tr><td>Michael</td><td>Allen</td></tr>",
                            "<tr><td>Michael</td><td>Allen</td></tr>",
                            "<tr><td>Michael</td><td>Allen</td></tr>",
                            "<tr><td>Michael</td><td>Anderson</td></tr>",
                            "<tr><td>Michael</td><td>Blythe</td></tr>",
                            "<tr><td>Michael</td><td>Blythe</td></tr>",
                            "<tr><td>Michael</td><td>Bohling</td></tr>",
                            "<tr><td>Michael</td><td>Brown</td></tr>",
                            "<tr><td>Michael</td><td>Brundage</td></tr>",
                            "<tr><td>Michael</td><td>Clark</td></tr>",
                            "<tr><td>Michael</td><td>Davis</td></tr>",
                            "<tr><td>Michael</td><td>Emanuel</td></tr>",
                            "<tr><td>Michael</td><td>Entin</td></tr>",
                            "<tr><td>Michael</td><td>Galos</td></tr>",
                            "<tr><td>Michael</td><td>Garcia</td></tr>",
                            "<tr><td>Michael</td><td>Graff</td></tr>",
                            "<tr><td>Michael</td><td>Harris</td></tr>",
                            "<tr><td>Michael</td><td>Hines</td></tr>",
                            "<tr><td>Michael</td><td>Holm</td></tr>",
                            "<tr><td>Michael</td><td>Hummer</td></tr>",
                            "<tr><td>Michael</td><td>Jones</td></tr>",
                            "<tr><td>Michael</td><td>Lee</td></tr>",
                            "<tr><td>Michael</td><td>Lewis</td></tr>",
                            "<tr><td>Michael</td><td>Martin</td></tr>",
                            "<tr><td>Michael</td><td>Martinez</td></tr>",
                            "<tr><td>Michael</td><td>Miller</td></tr>",
                            "<tr><td>Michael</td><td>Moore</td></tr>",
                            "<tr><td>Michael</td><td>O&#39;Connell</td></tr>",
                            "<tr><td>Michael</td><td>Patten</td></tr>",
                            "<tr><td>Michael</td><td>Patten</td></tr>",
                            "<tr><td>Michael</td><td>Raheem</td></tr>",
                            "<tr><td>Michael</td><td>Ray</td></tr>",
                            "<tr><td>Michael</td><td>Ray</td></tr>",
                            "<tr><td>Michael</td><td>Robinson</td></tr>",
                            "<tr><td>Michael</td><td>Rodriguez</td></tr>",
                            "<tr><td>Michael</td><td>Rothkugel</td></tr>",
                            "<tr><td>Michael</td><td>Rothkugel</td></tr>",
                            "<tr><td>Michael</td><td>Ruggiero</td></tr>",
                            "<tr><td>Michael</td><td>Ruggiero</td></tr>",
                            "<tr><td>Michael</td><td>Smith</td></tr>",
                            "<tr><td>Michael</td><td>Sullivan</td></tr>",
                            "<tr><td>Michael</td><td>Sullivan</td></tr>",
                            "<tr><td>Michael</td><td>Taylor</td></tr>",
                            "<tr><td>Michael</td><td>Thomas</td></tr>",
                            "<tr><td>Michael</td><td>Thompson</td></tr>",
                            "<tr><td>Michael</td><td>Vanderhyde</td></tr>",
                            "<tr><td>Michael</td><td>Vanderhyde</td></tr>",
                            "<tr><td>Michael</td><td>White</td></tr>",
                            "<tr><td>Michael</td><td>Williams</td></tr>",
                            "<tr><td>Michael</td><td>Wilson</td></tr>",
                            "<tr><td>Michael</td><td>Worland</td></tr>",
                            "<tr><td>Michael</td><td>Zeman</td></tr>",
                            "<tr><td>Michael</td><td>Zwilling</td></tr>",
                            "<tr><td>Michael</td><td>Zwilling</td></tr>",
                            "</table>"
                        ]
                    }
                }
            ],
            "execution_count": 1
        }
    ]
}