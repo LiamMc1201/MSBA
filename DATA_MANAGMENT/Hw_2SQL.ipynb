{
    "metadata": {
        "kernelspec": {
            "name": "SQL",
            "display_name": "SQL",
            "language": "sql"
        },
        "language_info": {
            "name": "sql",
            "version": ""
        }
    },
    "nbformat_minor": 2,
    "nbformat": 4,
    "cells": [
        {
            "cell_type": "markdown",
            "source": [
                "<span style=\"font-size: 12pt; font-family: &quot;Times New Roman&quot;, serif; color: rgb(0, 0, 0); background-color: transparent; font-weight: 700; font-variant-numeric: normal; font-variant-east-asian: normal; font-variant-alternates: normal; text-decoration-line: underline; text-decoration-skip-ink: none; vertical-align: baseline; white-space-collapse: preserve;\">Problem 1</span>\n",
                "\n",
                "<span style=\"font-size: 12pt; font-family: &quot;Times New Roman&quot;, serif; color: rgb(0, 0, 0); background-color: transparent; font-variant-numeric: normal; font-variant-east-asian: normal; font-variant-alternates: normal; vertical-align: baseline; white-space-collapse: preserve;\">You are a business analyst at AdventureWorks and are assisting the Sales management team with analyzing sales results.&nbsp; They would like to look at sales revenue both by territory and by individual salesperson.</span>\n",
                "\n",
                "  \n",
                "\n",
                "<span style=\"font-size: 12pt; font-family: &quot;Times New Roman&quot;, serif; color: rgb(0, 0, 0); background-color: transparent; font-variant-numeric: normal; font-variant-east-asian: normal; font-variant-alternates: normal; vertical-align: baseline; white-space-collapse: preserve;\">Each time a customer places an order, the salesperson creates a sales order record in the SalesOrderHeader table.&nbsp; The SalesOrderHeader contains information about the entire order.&nbsp; </span>  [<span style=\"font-size: 12pt; font-family: &quot;Times New Roman&quot;, serif; color: rgb(17, 85, 204); background-color: transparent; font-variant-numeric: normal; font-variant-east-asian: normal; font-variant-alternates: normal; text-decoration-line: underline; text-decoration-skip-ink: none; vertical-align: baseline; white-space-collapse: preserve;\">about:blank#blocked</span>](about:blank)<span style=\"font-size: 12pt; font-family: &quot;Times New Roman&quot;, serif; color: rgb(0, 0, 0); background-color: transparent; font-variant-numeric: normal; font-variant-east-asian: normal; font-variant-alternates: normal; vertical-align: baseline; white-space-collapse: preserve;\">Orders may consist of one or more product types.&nbsp; The SalesOrderDetail table contains information about individual products that were included in each order and there may be multiple SalesOrderDetail records for each sales order.</span>\n",
                "\n",
                "  \n",
                "\n",
                "<span style=\"font-size: 12pt; font-family: &quot;Times New Roman&quot;, serif; color: rgb(0, 0, 0); background-color: transparent; font-variant-numeric: normal; font-variant-east-asian: normal; font-variant-alternates: normal; vertical-align: baseline; white-space-collapse: preserve;\">When recognizing revenue for sales purposes, the company does not include tax or shipping charges.&nbsp; They also use the date that the order was placed as the date of record.</span>\n",
                "\n",
                "<span style=\"font-size: 12pt; font-family: &quot;Times New Roman&quot;, serif; color: rgb(0, 0, 0); background-color: transparent; font-variant-numeric: normal; font-variant-east-asian: normal; font-variant-alternates: normal; vertical-align: baseline; white-space-collapse: preserve;\"><br></span>"
            ],
            "metadata": {
                "azdata_cell_guid": "0654e195-86a0-4e83-b75e-5265c89652b6"
            },
            "attachments": {}
        },
        {
            "cell_type": "markdown",
            "source": [
                "<span style=\"font-size: 12pt; font-family: &quot;Times New Roman&quot;, serif; color: rgb(0, 0, 0); background-color: transparent; font-variant-numeric: normal; font-variant-east-asian: normal; font-variant-alternates: normal; text-decoration-line: underline; text-decoration-skip-ink: none; vertical-align: baseline; white-space-collapse: preserve;\">Part A</span>\n",
                "\n",
                "<span style=\"font-size: 12pt; font-family: &quot;Times New Roman&quot;, serif; color: rgb(0, 0, 0); background-color: transparent; font-variant-numeric: normal; font-variant-east-asian: normal; font-variant-alternates: normal; vertical-align: baseline; white-space-collapse: preserve;\">The first thing that the sales manager would like to know is the total sales revenue associated with each sales territory.&nbsp; Create a report showing the total sales revenue broken out by territory name.&nbsp; You can determine this by adding together the SubTotal figures from the relevant SalesOrderHeader records.&nbsp; Round the revenue figures to the nearest dollar and sort the list so that the highest revenue territory appears first.</span>\n",
                "\n",
                "<span style=\"font-size: 12pt; font-family: &quot;Times New Roman&quot;, serif; color: rgb(0, 0, 0); background-color: transparent; font-variant-numeric: normal; font-variant-east-asian: normal; font-variant-alternates: normal; vertical-align: baseline; white-space-collapse: preserve;\"><br></span>"
            ],
            "metadata": {
                "azdata_cell_guid": "2e1af606-ef89-4dd8-8542-4f75c083520a"
            },
            "attachments": {}
        },
        {
            "cell_type": "code",
            "source": [
                "Select \r\n",
                "    t.Name as TerritoryName,\r\n",
                "    round(sum(sod.OrderQty * sod.UnitPrice), 0) as TotalSalesRevenue\r\n",
                "from Sales.SalesOrderDetail sod\r\n",
                "join Sales.SalesOrderHeader soh\r\n",
                "on sod.SalesOrderID = soh.SalesOrderID\r\n",
                "join Sales.SalesTerritory t\r\n",
                "on soh.TerritoryID = t.TerritoryID\r\n",
                "group by t.Name\r\n",
                "order by TotalSalesRevenue desc"
            ],
            "metadata": {
                "azdata_cell_guid": "ce42cdf5-5144-4bd0-a469-1648d740c0b5",
                "language": "sql"
            },
            "outputs": [
                {
                    "output_type": "display_data",
                    "data": {
                        "text/html": "(10 rows affected)"
                    },
                    "metadata": {}
                },
                {
                    "output_type": "display_data",
                    "data": {
                        "text/html": "Total execution time: 00:00:00.178"
                    },
                    "metadata": {}
                },
                {
                    "output_type": "execute_result",
                    "execution_count": 1,
                    "data": {
                        "application/vnd.dataresource+json": {
                            "schema": {
                                "fields": [
                                    {
                                        "name": "TerritoryName"
                                    },
                                    {
                                        "name": "TotalSalesRevenue"
                                    }
                                ]
                            },
                            "data": [
                                {
                                    "TerritoryName": "Southwest",
                                    "TotalSalesRevenue": "24316178.00"
                                },
                                {
                                    "TerritoryName": "Canada",
                                    "TotalSalesRevenue": "16441125.00"
                                },
                                {
                                    "TerritoryName": "Northwest",
                                    "TotalSalesRevenue": "16172929.00"
                                },
                                {
                                    "TerritoryName": "Australia",
                                    "TotalSalesRevenue": "10683870.00"
                                },
                                {
                                    "TerritoryName": "Central",
                                    "TotalSalesRevenue": "7935852.00"
                                },
                                {
                                    "TerritoryName": "Southeast",
                                    "TotalSalesRevenue": "7920557.00"
                                },
                                {
                                    "TerritoryName": "United Kingdom",
                                    "TotalSalesRevenue": "7702839.00"
                                },
                                {
                                    "TerritoryName": "France",
                                    "TotalSalesRevenue": "7291472.00"
                                },
                                {
                                    "TerritoryName": "Northeast",
                                    "TotalSalesRevenue": "6963206.00"
                                },
                                {
                                    "TerritoryName": "Germany",
                                    "TotalSalesRevenue": "4945860.00"
                                }
                            ]
                        },
                        "text/html": "<table><tr><th>TerritoryName</th><th>TotalSalesRevenue</th></tr><tr><td>Southwest</td><td>24316178.00</td></tr><tr><td>Canada</td><td>16441125.00</td></tr><tr><td>Northwest</td><td>16172929.00</td></tr><tr><td>Australia</td><td>10683870.00</td></tr><tr><td>Central</td><td>7935852.00</td></tr><tr><td>Southeast</td><td>7920557.00</td></tr><tr><td>United Kingdom</td><td>7702839.00</td></tr><tr><td>France</td><td>7291472.00</td></tr><tr><td>Northeast</td><td>6963206.00</td></tr><tr><td>Germany</td><td>4945860.00</td></tr></table>"
                    },
                    "metadata": {}
                }
            ],
            "execution_count": 1
        },
        {
            "cell_type": "markdown",
            "source": [
                "<span style=\"font-size: 12pt; font-family: &quot;Times New Roman&quot;, serif; color: rgb(0, 0, 0); background-color: transparent; font-variant-numeric: normal; font-variant-east-asian: normal; font-variant-alternates: normal; text-decoration-line: underline; text-decoration-skip-ink: none; vertical-align: baseline; white-space-collapse: preserve;\">Part B</span>\n",
                "\n",
                "<span style=\"font-size: 12pt; font-family: &quot;Times New Roman&quot;, serif; color: rgb(0, 0, 0); background-color: transparent; font-variant-numeric: normal; font-variant-east-asian: normal; font-variant-alternates: normal; vertical-align: baseline; white-space-collapse: preserve;\">The sales manager would now like to drill into the 2013 sales results.&nbsp; Revise your query from Part A to focus only on results from 2013 and break the results down by month.&nbsp; Your result set should include four columns: Name (of the territory), Month, Year, and SalesRevenue.&nbsp; This time, sort the list first by territory name and then by month.</span>\n",
                "\n",
                "<span style=\"font-size: 12pt; font-family: &quot;Times New Roman&quot;, serif; color: rgb(0, 0, 0); background-color: transparent; font-variant-numeric: normal; font-variant-east-asian: normal; font-variant-alternates: normal; vertical-align: baseline; white-space-collapse: preserve;\"><br></span>"
            ],
            "metadata": {
                "language": "sql",
                "azdata_cell_guid": "e74bde5e-b544-41e1-9d86-8bf1b14154b7"
            },
            "attachments": {}
        },
        {
            "cell_type": "code",
            "source": [
                "Select \r\n",
                "    t.Name as TerritoryName,\r\n",
                "    month(soh.OrderDate) as Month,\r\n",
                "    year(soh.OrderDate) as Year,\r\n",
                "    sum(sod.OrderQty * sod.UnitPrice) as SalesRevenue\r\n",
                "from Sales.SalesOrderDetail sod\r\n",
                "join Sales.SalesOrderHeader soh\r\n",
                "on sod.SalesOrderID = soh.SalesOrderID\r\n",
                "join Sales.SalesTerritory t\r\n",
                "on soh.TerritoryID = t.TerritoryID\r\n",
                "where year(soh.OrderDate) = 2013\r\n",
                "group by t.Name, month(soh.OrderDate), year(soh.OrderDate)\r\n",
                "order by t.Name, month(soh.OrderDate)\r\n",
                ""
            ],
            "metadata": {
                "language": "sql",
                "azdata_cell_guid": "d3bab36e-1163-45c0-8a92-9c02be267687"
            },
            "outputs": [
                {
                    "output_type": "display_data",
                    "data": {
                        "text/html": "(120 rows affected)"
                    },
                    "metadata": {}
                },
                {
                    "output_type": "display_data",
                    "data": {
                        "text/html": "Total execution time: 00:00:00.261"
                    },
                    "metadata": {}
                },
                {
                    "output_type": "execute_result",
                    "execution_count": 2,
                    "data": {
                        "application/vnd.dataresource+json": {
                            "schema": {
                                "fields": [
                                    {
                                        "name": "TerritoryName"
                                    },
                                    {
                                        "name": "Month"
                                    },
                                    {
                                        "name": "Year"
                                    },
                                    {
                                        "name": "SalesRevenue"
                                    }
                                ]
                            },
                            "data": [
                                {
                                    "TerritoryName": "Australia",
                                    "Month": "1",
                                    "Year": "2013",
                                    "SalesRevenue": "222513.7199"
                                },
                                {
                                    "TerritoryName": "Australia",
                                    "Month": "2",
                                    "Year": "2013",
                                    "SalesRevenue": "177688.0601"
                                },
                                {
                                    "TerritoryName": "Australia",
                                    "Month": "3",
                                    "Year": "2013",
                                    "SalesRevenue": "215687.8517"
                                },
                                {
                                    "TerritoryName": "Australia",
                                    "Month": "4",
                                    "Year": "2013",
                                    "SalesRevenue": "205166.1319"
                                },
                                {
                                    "TerritoryName": "Australia",
                                    "Month": "5",
                                    "Year": "2013",
                                    "SalesRevenue": "256923.396"
                                },
                                {
                                    "TerritoryName": "Australia",
                                    "Month": "6",
                                    "Year": "2013",
                                    "SalesRevenue": "391744.4453"
                                },
                                {
                                    "TerritoryName": "Australia",
                                    "Month": "7",
                                    "Year": "2013",
                                    "SalesRevenue": "468684.6033"
                                },
                                {
                                    "TerritoryName": "Australia",
                                    "Month": "8",
                                    "Year": "2013",
                                    "SalesRevenue": "394785.632"
                                },
                                {
                                    "TerritoryName": "Australia",
                                    "Month": "9",
                                    "Year": "2013",
                                    "SalesRevenue": "457109.644"
                                },
                                {
                                    "TerritoryName": "Australia",
                                    "Month": "10",
                                    "Year": "2013",
                                    "SalesRevenue": "572374.0182"
                                },
                                {
                                    "TerritoryName": "Australia",
                                    "Month": "11",
                                    "Year": "2013",
                                    "SalesRevenue": "427532.806"
                                },
                                {
                                    "TerritoryName": "Australia",
                                    "Month": "12",
                                    "Year": "2013",
                                    "SalesRevenue": "468650.34"
                                },
                                {
                                    "TerritoryName": "Canada",
                                    "Month": "1",
                                    "Year": "2013",
                                    "SalesRevenue": "417137.2821"
                                },
                                {
                                    "TerritoryName": "Canada",
                                    "Month": "2",
                                    "Year": "2013",
                                    "SalesRevenue": "462281.8262"
                                },
                                {
                                    "TerritoryName": "Canada",
                                    "Month": "3",
                                    "Year": "2013",
                                    "SalesRevenue": "486657.6341"
                                },
                                {
                                    "TerritoryName": "Canada",
                                    "Month": "4",
                                    "Year": "2013",
                                    "SalesRevenue": "467464.9375"
                                },
                                {
                                    "TerritoryName": "Canada",
                                    "Month": "5",
                                    "Year": "2013",
                                    "SalesRevenue": "515512.6287"
                                },
                                {
                                    "TerritoryName": "Canada",
                                    "Month": "6",
                                    "Year": "2013",
                                    "SalesRevenue": "616550.6423"
                                },
                                {
                                    "TerritoryName": "Canada",
                                    "Month": "7",
                                    "Year": "2013",
                                    "SalesRevenue": "755280.274"
                                },
                                {
                                    "TerritoryName": "Canada",
                                    "Month": "8",
                                    "Year": "2013",
                                    "SalesRevenue": "467960.6191"
                                },
                                {
                                    "TerritoryName": "Canada",
                                    "Month": "9",
                                    "Year": "2013",
                                    "SalesRevenue": "481987.8966"
                                },
                                {
                                    "TerritoryName": "Canada",
                                    "Month": "10",
                                    "Year": "2013",
                                    "SalesRevenue": "805519.9705"
                                },
                                {
                                    "TerritoryName": "Canada",
                                    "Month": "11",
                                    "Year": "2013",
                                    "SalesRevenue": "356288.8312"
                                },
                                {
                                    "TerritoryName": "Canada",
                                    "Month": "12",
                                    "Year": "2013",
                                    "SalesRevenue": "436188.538"
                                },
                                {
                                    "TerritoryName": "Central",
                                    "Month": "1",
                                    "Year": "2013",
                                    "SalesRevenue": "179654.8585"
                                },
                                {
                                    "TerritoryName": "Central",
                                    "Month": "2",
                                    "Year": "2013",
                                    "SalesRevenue": "194527.4156"
                                },
                                {
                                    "TerritoryName": "Central",
                                    "Month": "3",
                                    "Year": "2013",
                                    "SalesRevenue": "284011.4014"
                                },
                                {
                                    "TerritoryName": "Central",
                                    "Month": "4",
                                    "Year": "2013",
                                    "SalesRevenue": "220321.8442"
                                },
                                {
                                    "TerritoryName": "Central",
                                    "Month": "5",
                                    "Year": "2013",
                                    "SalesRevenue": "217933.6056"
                                },
                                {
                                    "TerritoryName": "Central",
                                    "Month": "6",
                                    "Year": "2013",
                                    "SalesRevenue": "383431.1115"
                                },
                                {
                                    "TerritoryName": "Central",
                                    "Month": "7",
                                    "Year": "2013",
                                    "SalesRevenue": "351209.2739"
                                },
                                {
                                    "TerritoryName": "Central",
                                    "Month": "8",
                                    "Year": "2013",
                                    "SalesRevenue": "162677.9314"
                                },
                                {
                                    "TerritoryName": "Central",
                                    "Month": "9",
                                    "Year": "2013",
                                    "SalesRevenue": "325124.9121"
                                },
                                {
                                    "TerritoryName": "Central",
                                    "Month": "10",
                                    "Year": "2013",
                                    "SalesRevenue": "317823.917"
                                },
                                {
                                    "TerritoryName": "Central",
                                    "Month": "11",
                                    "Year": "2013",
                                    "SalesRevenue": "113974.7902"
                                },
                                {
                                    "TerritoryName": "Central",
                                    "Month": "12",
                                    "Year": "2013",
                                    "SalesRevenue": "256078.312"
                                },
                                {
                                    "TerritoryName": "France",
                                    "Month": "1",
                                    "Year": "2013",
                                    "SalesRevenue": "108416.0691"
                                },
                                {
                                    "TerritoryName": "France",
                                    "Month": "2",
                                    "Year": "2013",
                                    "SalesRevenue": "123091.3561"
                                },
                                {
                                    "TerritoryName": "France",
                                    "Month": "3",
                                    "Year": "2013",
                                    "SalesRevenue": "246731.3419"
                                },
                                {
                                    "TerritoryName": "France",
                                    "Month": "4",
                                    "Year": "2013",
                                    "SalesRevenue": "138184.2351"
                                },
                                {
                                    "TerritoryName": "France",
                                    "Month": "5",
                                    "Year": "2013",
                                    "SalesRevenue": "151783.7837"
                                },
                                {
                                    "TerritoryName": "France",
                                    "Month": "6",
                                    "Year": "2013",
                                    "SalesRevenue": "826011.0643"
                                },
                                {
                                    "TerritoryName": "France",
                                    "Month": "7",
                                    "Year": "2013",
                                    "SalesRevenue": "284055.5028"
                                },
                                {
                                    "TerritoryName": "France",
                                    "Month": "8",
                                    "Year": "2013",
                                    "SalesRevenue": "163990.5956"
                                },
                                {
                                    "TerritoryName": "France",
                                    "Month": "9",
                                    "Year": "2013",
                                    "SalesRevenue": "716815.0235"
                                },
                                {
                                    "TerritoryName": "France",
                                    "Month": "10",
                                    "Year": "2013",
                                    "SalesRevenue": "271600.745"
                                },
                                {
                                    "TerritoryName": "France",
                                    "Month": "11",
                                    "Year": "2013",
                                    "SalesRevenue": "224761.027"
                                },
                                {
                                    "TerritoryName": "France",
                                    "Month": "12",
                                    "Year": "2013",
                                    "SalesRevenue": "583397.7528"
                                },
                                {
                                    "TerritoryName": "Germany",
                                    "Month": "1",
                                    "Year": "2013",
                                    "SalesRevenue": "69560.6821"
                                },
                                {
                                    "TerritoryName": "Germany",
                                    "Month": "2",
                                    "Year": "2013",
                                    "SalesRevenue": "56643.3697"
                                },
                                {
                                    "TerritoryName": "Germany",
                                    "Month": "3",
                                    "Year": "2013",
                                    "SalesRevenue": "66449.9926"
                                },
                                {
                                    "TerritoryName": "Germany",
                                    "Month": "4",
                                    "Year": "2013",
                                    "SalesRevenue": "56415.7773"
                                },
                                {
                                    "TerritoryName": "Germany",
                                    "Month": "5",
                                    "Year": "2013",
                                    "SalesRevenue": "263372.1276"
                                },
                                {
                                    "TerritoryName": "Germany",
                                    "Month": "6",
                                    "Year": "2013",
                                    "SalesRevenue": "371852.6919"
                                },
                                {
                                    "TerritoryName": "Germany",
                                    "Month": "7",
                                    "Year": "2013",
                                    "SalesRevenue": "232329.9517"
                                },
                                {
                                    "TerritoryName": "Germany",
                                    "Month": "8",
                                    "Year": "2013",
                                    "SalesRevenue": "309703.2207"
                                },
                                {
                                    "TerritoryName": "Germany",
                                    "Month": "9",
                                    "Year": "2013",
                                    "SalesRevenue": "295026.3555"
                                },
                                {
                                    "TerritoryName": "Germany",
                                    "Month": "10",
                                    "Year": "2013",
                                    "SalesRevenue": "277011.4359"
                                },
                                {
                                    "TerritoryName": "Germany",
                                    "Month": "11",
                                    "Year": "2013",
                                    "SalesRevenue": "287324.6329"
                                },
                                {
                                    "TerritoryName": "Germany",
                                    "Month": "12",
                                    "Year": "2013",
                                    "SalesRevenue": "308671.5176"
                                },
                                {
                                    "TerritoryName": "Northeast",
                                    "Month": "1",
                                    "Year": "2013",
                                    "SalesRevenue": "152504.733"
                                },
                                {
                                    "TerritoryName": "Northeast",
                                    "Month": "2",
                                    "Year": "2013",
                                    "SalesRevenue": "335262.2768"
                                },
                                {
                                    "TerritoryName": "Northeast",
                                    "Month": "3",
                                    "Year": "2013",
                                    "SalesRevenue": "341172.4496"
                                },
                                {
                                    "TerritoryName": "Northeast",
                                    "Month": "4",
                                    "Year": "2013",
                                    "SalesRevenue": "179670.7316"
                                },
                                {
                                    "TerritoryName": "Northeast",
                                    "Month": "5",
                                    "Year": "2013",
                                    "SalesRevenue": "192607.318"
                                },
                                {
                                    "TerritoryName": "Northeast",
                                    "Month": "6",
                                    "Year": "2013",
                                    "SalesRevenue": "288721.2828"
                                },
                                {
                                    "TerritoryName": "Northeast",
                                    "Month": "7",
                                    "Year": "2013",
                                    "SalesRevenue": "278881.1239"
                                },
                                {
                                    "TerritoryName": "Northeast",
                                    "Month": "8",
                                    "Year": "2013",
                                    "SalesRevenue": "189374.6426"
                                },
                                {
                                    "TerritoryName": "Northeast",
                                    "Month": "9",
                                    "Year": "2013",
                                    "SalesRevenue": "181444.3924"
                                },
                                {
                                    "TerritoryName": "Northeast",
                                    "Month": "10",
                                    "Year": "2013",
                                    "SalesRevenue": "222943.9769"
                                },
                                {
                                    "TerritoryName": "Northeast",
                                    "Month": "11",
                                    "Year": "2013",
                                    "SalesRevenue": "140162.772"
                                },
                                {
                                    "TerritoryName": "Northeast",
                                    "Month": "12",
                                    "Year": "2013",
                                    "SalesRevenue": "140664.574"
                                },
                                {
                                    "TerritoryName": "Northwest",
                                    "Month": "1",
                                    "Year": "2013",
                                    "SalesRevenue": "118273.662"
                                },
                                {
                                    "TerritoryName": "Northwest",
                                    "Month": "2",
                                    "Year": "2013",
                                    "SalesRevenue": "259637.8774"
                                },
                                {
                                    "TerritoryName": "Northwest",
                                    "Month": "3",
                                    "Year": "2013",
                                    "SalesRevenue": "546230.9497"
                                },
                                {
                                    "TerritoryName": "Northwest",
                                    "Month": "4",
                                    "Year": "2013",
                                    "SalesRevenue": "148996.4461"
                                },
                                {
                                    "TerritoryName": "Northwest",
                                    "Month": "5",
                                    "Year": "2013",
                                    "SalesRevenue": "441498.1783"
                                },
                                {
                                    "TerritoryName": "Northwest",
                                    "Month": "6",
                                    "Year": "2013",
                                    "SalesRevenue": "834305.6612"
                                },
                                {
                                    "TerritoryName": "Northwest",
                                    "Month": "7",
                                    "Year": "2013",
                                    "SalesRevenue": "721542.4289"
                                },
                                {
                                    "TerritoryName": "Northwest",
                                    "Month": "8",
                                    "Year": "2013",
                                    "SalesRevenue": "418951.968"
                                },
                                {
                                    "TerritoryName": "Northwest",
                                    "Month": "9",
                                    "Year": "2013",
                                    "SalesRevenue": "713483.5886"
                                },
                                {
                                    "TerritoryName": "Northwest",
                                    "Month": "10",
                                    "Year": "2013",
                                    "SalesRevenue": "676504.2882"
                                },
                                {
                                    "TerritoryName": "Northwest",
                                    "Month": "11",
                                    "Year": "2013",
                                    "SalesRevenue": "545052.9161"
                                },
                                {
                                    "TerritoryName": "Northwest",
                                    "Month": "12",
                                    "Year": "2013",
                                    "SalesRevenue": "637804.3592"
                                },
                                {
                                    "TerritoryName": "Southeast",
                                    "Month": "1",
                                    "Year": "2013",
                                    "SalesRevenue": "139846.7791"
                                },
                                {
                                    "TerritoryName": "Southeast",
                                    "Month": "2",
                                    "Year": "2013",
                                    "SalesRevenue": "174783.9304"
                                },
                                {
                                    "TerritoryName": "Southeast",
                                    "Month": "3",
                                    "Year": "2013",
                                    "SalesRevenue": "213248.074"
                                },
                                {
                                    "TerritoryName": "Southeast",
                                    "Month": "4",
                                    "Year": "2013",
                                    "SalesRevenue": "209214.8063"
                                },
                                {
                                    "TerritoryName": "Southeast",
                                    "Month": "5",
                                    "Year": "2013",
                                    "SalesRevenue": "178225.4437"
                                },
                                {
                                    "TerritoryName": "Southeast",
                                    "Month": "6",
                                    "Year": "2013",
                                    "SalesRevenue": "279373.9722"
                                },
                                {
                                    "TerritoryName": "Southeast",
                                    "Month": "7",
                                    "Year": "2013",
                                    "SalesRevenue": "298867.0178"
                                },
                                {
                                    "TerritoryName": "Southeast",
                                    "Month": "8",
                                    "Year": "2013",
                                    "SalesRevenue": "161728.9112"
                                },
                                {
                                    "TerritoryName": "Southeast",
                                    "Month": "9",
                                    "Year": "2013",
                                    "SalesRevenue": "233708.1562"
                                },
                                {
                                    "TerritoryName": "Southeast",
                                    "Month": "10",
                                    "Year": "2013",
                                    "SalesRevenue": "220084.9244"
                                },
                                {
                                    "TerritoryName": "Southeast",
                                    "Month": "11",
                                    "Year": "2013",
                                    "SalesRevenue": "115107.6915"
                                },
                                {
                                    "TerritoryName": "Southeast",
                                    "Month": "12",
                                    "Year": "2013",
                                    "SalesRevenue": "191157.8362"
                                },
                                {
                                    "TerritoryName": "Southwest",
                                    "Month": "1",
                                    "Year": "2013",
                                    "SalesRevenue": "495096.1473"
                                },
                                {
                                    "TerritoryName": "Southwest",
                                    "Month": "2",
                                    "Year": "2013",
                                    "SalesRevenue": "432152.4343"
                                },
                                {
                                    "TerritoryName": "Southwest",
                                    "Month": "3",
                                    "Year": "2013",
                                    "SalesRevenue": "847226.9622"
                                },
                                {
                                    "TerritoryName": "Southwest",
                                    "Month": "4",
                                    "Year": "2013",
                                    "SalesRevenue": "711603.0125"
                                },
                                {
                                    "TerritoryName": "Southwest",
                                    "Month": "5",
                                    "Year": "2013",
                                    "SalesRevenue": "875113.6798"
                                },
                                {
                                    "TerritoryName": "Southwest",
                                    "Month": "6",
                                    "Year": "2013",
                                    "SalesRevenue": "830670.3558"
                                },
                                {
                                    "TerritoryName": "Southwest",
                                    "Month": "7",
                                    "Year": "2013",
                                    "SalesRevenue": "982071.3626"
                                },
                                {
                                    "TerritoryName": "Southwest",
                                    "Month": "8",
                                    "Year": "2013",
                                    "SalesRevenue": "821912.0215"
                                },
                                {
                                    "TerritoryName": "Southwest",
                                    "Month": "9",
                                    "Year": "2013",
                                    "SalesRevenue": "787440.5606"
                                },
                                {
                                    "TerritoryName": "Southwest",
                                    "Month": "10",
                                    "Year": "2013",
                                    "SalesRevenue": "834491.7291"
                                },
                                {
                                    "TerritoryName": "Southwest",
                                    "Month": "11",
                                    "Year": "2013",
                                    "SalesRevenue": "806297.3879"
                                },
                                {
                                    "TerritoryName": "Southwest",
                                    "Month": "12",
                                    "Year": "2013",
                                    "SalesRevenue": "749200.4723"
                                },
                                {
                                    "TerritoryName": "United Kingdom",
                                    "Month": "1",
                                    "Year": "2013",
                                    "SalesRevenue": "185214.482"
                                },
                                {
                                    "TerritoryName": "United Kingdom",
                                    "Month": "2",
                                    "Year": "2013",
                                    "SalesRevenue": "104015.7319"
                                },
                                {
                                    "TerritoryName": "United Kingdom",
                                    "Month": "3",
                                    "Year": "2013",
                                    "SalesRevenue": "166547.1075"
                                },
                                {
                                    "TerritoryName": "United Kingdom",
                                    "Month": "4",
                                    "Year": "2013",
                                    "SalesRevenue": "197612.8238"
                                },
                                {
                                    "TerritoryName": "United Kingdom",
                                    "Month": "5",
                                    "Year": "2013",
                                    "SalesRevenue": "216186.1071"
                                },
                                {
                                    "TerritoryName": "United Kingdom",
                                    "Month": "6",
                                    "Year": "2013",
                                    "SalesRevenue": "352021.4575"
                                },
                                {
                                    "TerritoryName": "United Kingdom",
                                    "Month": "7",
                                    "Year": "2013",
                                    "SalesRevenue": "629290.7398"
                                },
                                {
                                    "TerritoryName": "United Kingdom",
                                    "Month": "8",
                                    "Year": "2013",
                                    "SalesRevenue": "253982.0246"
                                },
                                {
                                    "TerritoryName": "United Kingdom",
                                    "Month": "9",
                                    "Year": "2013",
                                    "SalesRevenue": "348071.667"
                                },
                                {
                                    "TerritoryName": "United Kingdom",
                                    "Month": "10",
                                    "Year": "2013",
                                    "SalesRevenue": "603507.0237"
                                },
                                {
                                    "TerritoryName": "United Kingdom",
                                    "Month": "11",
                                    "Year": "2013",
                                    "SalesRevenue": "297280.6037"
                                },
                                {
                                    "TerritoryName": "United Kingdom",
                                    "Month": "12",
                                    "Year": "2013",
                                    "SalesRevenue": "306343.322"
                                }
                            ]
                        },
                        "text/html": "<table><tr><th>TerritoryName</th><th>Month</th><th>Year</th><th>SalesRevenue</th></tr><tr><td>Australia</td><td>1</td><td>2013</td><td>222513.7199</td></tr><tr><td>Australia</td><td>2</td><td>2013</td><td>177688.0601</td></tr><tr><td>Australia</td><td>3</td><td>2013</td><td>215687.8517</td></tr><tr><td>Australia</td><td>4</td><td>2013</td><td>205166.1319</td></tr><tr><td>Australia</td><td>5</td><td>2013</td><td>256923.396</td></tr><tr><td>Australia</td><td>6</td><td>2013</td><td>391744.4453</td></tr><tr><td>Australia</td><td>7</td><td>2013</td><td>468684.6033</td></tr><tr><td>Australia</td><td>8</td><td>2013</td><td>394785.632</td></tr><tr><td>Australia</td><td>9</td><td>2013</td><td>457109.644</td></tr><tr><td>Australia</td><td>10</td><td>2013</td><td>572374.0182</td></tr><tr><td>Australia</td><td>11</td><td>2013</td><td>427532.806</td></tr><tr><td>Australia</td><td>12</td><td>2013</td><td>468650.34</td></tr><tr><td>Canada</td><td>1</td><td>2013</td><td>417137.2821</td></tr><tr><td>Canada</td><td>2</td><td>2013</td><td>462281.8262</td></tr><tr><td>Canada</td><td>3</td><td>2013</td><td>486657.6341</td></tr><tr><td>Canada</td><td>4</td><td>2013</td><td>467464.9375</td></tr><tr><td>Canada</td><td>5</td><td>2013</td><td>515512.6287</td></tr><tr><td>Canada</td><td>6</td><td>2013</td><td>616550.6423</td></tr><tr><td>Canada</td><td>7</td><td>2013</td><td>755280.274</td></tr><tr><td>Canada</td><td>8</td><td>2013</td><td>467960.6191</td></tr><tr><td>Canada</td><td>9</td><td>2013</td><td>481987.8966</td></tr><tr><td>Canada</td><td>10</td><td>2013</td><td>805519.9705</td></tr><tr><td>Canada</td><td>11</td><td>2013</td><td>356288.8312</td></tr><tr><td>Canada</td><td>12</td><td>2013</td><td>436188.538</td></tr><tr><td>Central</td><td>1</td><td>2013</td><td>179654.8585</td></tr><tr><td>Central</td><td>2</td><td>2013</td><td>194527.4156</td></tr><tr><td>Central</td><td>3</td><td>2013</td><td>284011.4014</td></tr><tr><td>Central</td><td>4</td><td>2013</td><td>220321.8442</td></tr><tr><td>Central</td><td>5</td><td>2013</td><td>217933.6056</td></tr><tr><td>Central</td><td>6</td><td>2013</td><td>383431.1115</td></tr><tr><td>Central</td><td>7</td><td>2013</td><td>351209.2739</td></tr><tr><td>Central</td><td>8</td><td>2013</td><td>162677.9314</td></tr><tr><td>Central</td><td>9</td><td>2013</td><td>325124.9121</td></tr><tr><td>Central</td><td>10</td><td>2013</td><td>317823.917</td></tr><tr><td>Central</td><td>11</td><td>2013</td><td>113974.7902</td></tr><tr><td>Central</td><td>12</td><td>2013</td><td>256078.312</td></tr><tr><td>France</td><td>1</td><td>2013</td><td>108416.0691</td></tr><tr><td>France</td><td>2</td><td>2013</td><td>123091.3561</td></tr><tr><td>France</td><td>3</td><td>2013</td><td>246731.3419</td></tr><tr><td>France</td><td>4</td><td>2013</td><td>138184.2351</td></tr><tr><td>France</td><td>5</td><td>2013</td><td>151783.7837</td></tr><tr><td>France</td><td>6</td><td>2013</td><td>826011.0643</td></tr><tr><td>France</td><td>7</td><td>2013</td><td>284055.5028</td></tr><tr><td>France</td><td>8</td><td>2013</td><td>163990.5956</td></tr><tr><td>France</td><td>9</td><td>2013</td><td>716815.0235</td></tr><tr><td>France</td><td>10</td><td>2013</td><td>271600.745</td></tr><tr><td>France</td><td>11</td><td>2013</td><td>224761.027</td></tr><tr><td>France</td><td>12</td><td>2013</td><td>583397.7528</td></tr><tr><td>Germany</td><td>1</td><td>2013</td><td>69560.6821</td></tr><tr><td>Germany</td><td>2</td><td>2013</td><td>56643.3697</td></tr><tr><td>Germany</td><td>3</td><td>2013</td><td>66449.9926</td></tr><tr><td>Germany</td><td>4</td><td>2013</td><td>56415.7773</td></tr><tr><td>Germany</td><td>5</td><td>2013</td><td>263372.1276</td></tr><tr><td>Germany</td><td>6</td><td>2013</td><td>371852.6919</td></tr><tr><td>Germany</td><td>7</td><td>2013</td><td>232329.9517</td></tr><tr><td>Germany</td><td>8</td><td>2013</td><td>309703.2207</td></tr><tr><td>Germany</td><td>9</td><td>2013</td><td>295026.3555</td></tr><tr><td>Germany</td><td>10</td><td>2013</td><td>277011.4359</td></tr><tr><td>Germany</td><td>11</td><td>2013</td><td>287324.6329</td></tr><tr><td>Germany</td><td>12</td><td>2013</td><td>308671.5176</td></tr><tr><td>Northeast</td><td>1</td><td>2013</td><td>152504.733</td></tr><tr><td>Northeast</td><td>2</td><td>2013</td><td>335262.2768</td></tr><tr><td>Northeast</td><td>3</td><td>2013</td><td>341172.4496</td></tr><tr><td>Northeast</td><td>4</td><td>2013</td><td>179670.7316</td></tr><tr><td>Northeast</td><td>5</td><td>2013</td><td>192607.318</td></tr><tr><td>Northeast</td><td>6</td><td>2013</td><td>288721.2828</td></tr><tr><td>Northeast</td><td>7</td><td>2013</td><td>278881.1239</td></tr><tr><td>Northeast</td><td>8</td><td>2013</td><td>189374.6426</td></tr><tr><td>Northeast</td><td>9</td><td>2013</td><td>181444.3924</td></tr><tr><td>Northeast</td><td>10</td><td>2013</td><td>222943.9769</td></tr><tr><td>Northeast</td><td>11</td><td>2013</td><td>140162.772</td></tr><tr><td>Northeast</td><td>12</td><td>2013</td><td>140664.574</td></tr><tr><td>Northwest</td><td>1</td><td>2013</td><td>118273.662</td></tr><tr><td>Northwest</td><td>2</td><td>2013</td><td>259637.8774</td></tr><tr><td>Northwest</td><td>3</td><td>2013</td><td>546230.9497</td></tr><tr><td>Northwest</td><td>4</td><td>2013</td><td>148996.4461</td></tr><tr><td>Northwest</td><td>5</td><td>2013</td><td>441498.1783</td></tr><tr><td>Northwest</td><td>6</td><td>2013</td><td>834305.6612</td></tr><tr><td>Northwest</td><td>7</td><td>2013</td><td>721542.4289</td></tr><tr><td>Northwest</td><td>8</td><td>2013</td><td>418951.968</td></tr><tr><td>Northwest</td><td>9</td><td>2013</td><td>713483.5886</td></tr><tr><td>Northwest</td><td>10</td><td>2013</td><td>676504.2882</td></tr><tr><td>Northwest</td><td>11</td><td>2013</td><td>545052.9161</td></tr><tr><td>Northwest</td><td>12</td><td>2013</td><td>637804.3592</td></tr><tr><td>Southeast</td><td>1</td><td>2013</td><td>139846.7791</td></tr><tr><td>Southeast</td><td>2</td><td>2013</td><td>174783.9304</td></tr><tr><td>Southeast</td><td>3</td><td>2013</td><td>213248.074</td></tr><tr><td>Southeast</td><td>4</td><td>2013</td><td>209214.8063</td></tr><tr><td>Southeast</td><td>5</td><td>2013</td><td>178225.4437</td></tr><tr><td>Southeast</td><td>6</td><td>2013</td><td>279373.9722</td></tr><tr><td>Southeast</td><td>7</td><td>2013</td><td>298867.0178</td></tr><tr><td>Southeast</td><td>8</td><td>2013</td><td>161728.9112</td></tr><tr><td>Southeast</td><td>9</td><td>2013</td><td>233708.1562</td></tr><tr><td>Southeast</td><td>10</td><td>2013</td><td>220084.9244</td></tr><tr><td>Southeast</td><td>11</td><td>2013</td><td>115107.6915</td></tr><tr><td>Southeast</td><td>12</td><td>2013</td><td>191157.8362</td></tr><tr><td>Southwest</td><td>1</td><td>2013</td><td>495096.1473</td></tr><tr><td>Southwest</td><td>2</td><td>2013</td><td>432152.4343</td></tr><tr><td>Southwest</td><td>3</td><td>2013</td><td>847226.9622</td></tr><tr><td>Southwest</td><td>4</td><td>2013</td><td>711603.0125</td></tr><tr><td>Southwest</td><td>5</td><td>2013</td><td>875113.6798</td></tr><tr><td>Southwest</td><td>6</td><td>2013</td><td>830670.3558</td></tr><tr><td>Southwest</td><td>7</td><td>2013</td><td>982071.3626</td></tr><tr><td>Southwest</td><td>8</td><td>2013</td><td>821912.0215</td></tr><tr><td>Southwest</td><td>9</td><td>2013</td><td>787440.5606</td></tr><tr><td>Southwest</td><td>10</td><td>2013</td><td>834491.7291</td></tr><tr><td>Southwest</td><td>11</td><td>2013</td><td>806297.3879</td></tr><tr><td>Southwest</td><td>12</td><td>2013</td><td>749200.4723</td></tr><tr><td>United Kingdom</td><td>1</td><td>2013</td><td>185214.482</td></tr><tr><td>United Kingdom</td><td>2</td><td>2013</td><td>104015.7319</td></tr><tr><td>United Kingdom</td><td>3</td><td>2013</td><td>166547.1075</td></tr><tr><td>United Kingdom</td><td>4</td><td>2013</td><td>197612.8238</td></tr><tr><td>United Kingdom</td><td>5</td><td>2013</td><td>216186.1071</td></tr><tr><td>United Kingdom</td><td>6</td><td>2013</td><td>352021.4575</td></tr><tr><td>United Kingdom</td><td>7</td><td>2013</td><td>629290.7398</td></tr><tr><td>United Kingdom</td><td>8</td><td>2013</td><td>253982.0246</td></tr><tr><td>United Kingdom</td><td>9</td><td>2013</td><td>348071.667</td></tr><tr><td>United Kingdom</td><td>10</td><td>2013</td><td>603507.0237</td></tr><tr><td>United Kingdom</td><td>11</td><td>2013</td><td>297280.6037</td></tr><tr><td>United Kingdom</td><td>12</td><td>2013</td><td>306343.322</td></tr></table>"
                    },
                    "metadata": {}
                }
            ],
            "execution_count": 2
        },
        {
            "cell_type": "markdown",
            "source": [
                "<span style=\"font-size: 12pt; font-family: &quot;Times New Roman&quot;, serif; color: rgb(0, 0, 0); background-color: transparent; font-variant-numeric: normal; font-variant-east-asian: normal; font-variant-alternates: normal; text-decoration-line: underline; text-decoration-skip-ink: none; vertical-align: baseline; white-space-collapse: preserve;\">Part C</span>\n",
                "\n",
                "<span style=\"font-size: 12pt; font-family: &quot;Times New Roman&quot;, serif; color: rgb(0, 0, 0); background-color: transparent; font-variant-numeric: normal; font-variant-east-asian: normal; font-variant-alternates: normal; vertical-align: baseline; white-space-collapse: preserve;\">The sales manager would like to recognize territories that had at least one month in 2013 with monthly sales of at least $750,000.&nbsp; Create a report listing these territories.&nbsp; It should contain only a single column named AwardWinners and should be sorted alphabetically.&nbsp; Territories can only win this award once, regardless of the number of months where they exceeded the threshold, so don’t include duplicate values in your list.</span>\n",
                "\n",
                "<span style=\"font-size: 12pt; font-family: &quot;Times New Roman&quot;, serif; color: rgb(0, 0, 0); background-color: transparent; font-variant-numeric: normal; font-variant-east-asian: normal; font-variant-alternates: normal; vertical-align: baseline; white-space-collapse: preserve;\"><br></span>"
            ],
            "metadata": {
                "language": "sql",
                "azdata_cell_guid": "568f1389-acbc-4d08-94b6-17f483959876"
            },
            "attachments": {}
        },
        {
            "cell_type": "code",
            "source": [
                "SELECT DISTINCT\r\n",
                "    t.Name as AwardWinners\r\n",
                "from Sales.SalesOrderDetail sod\r\n",
                "join Sales.SalesOrderHeader soh\r\n",
                "on sod.SalesOrderID = soh.SalesOrderID\r\n",
                "join Sales.SalesTerritory t\r\n",
                "on soh.TerritoryID = t.TerritoryID\r\n",
                "where DATEPART(year,soh.OrderDate) = 2013\r\n",
                "group by t.Name, DATEPART(month,soh.OrderDate), DATEPART(year,soh.OrderDate)\r\n",
                "having sum(sod.OrderQty * sod.UnitPrice) >= 750000\r\n",
                "order by t.Name"
            ],
            "metadata": {
                "language": "sql",
                "azdata_cell_guid": "f893f3c2-3bba-45cf-bf27-f6d51e27971f"
            },
            "outputs": [
                {
                    "output_type": "display_data",
                    "data": {
                        "text/html": "(4 rows affected)"
                    },
                    "metadata": {}
                },
                {
                    "output_type": "display_data",
                    "data": {
                        "text/html": "Total execution time: 00:00:00.583"
                    },
                    "metadata": {}
                },
                {
                    "output_type": "execute_result",
                    "execution_count": 3,
                    "data": {
                        "application/vnd.dataresource+json": {
                            "schema": {
                                "fields": [
                                    {
                                        "name": "AwardWinners"
                                    }
                                ]
                            },
                            "data": [
                                {
                                    "AwardWinners": "Canada"
                                },
                                {
                                    "AwardWinners": "France"
                                },
                                {
                                    "AwardWinners": "Northwest"
                                },
                                {
                                    "AwardWinners": "Southwest"
                                }
                            ]
                        },
                        "text/html": "<table><tr><th>AwardWinners</th></tr><tr><td>Canada</td></tr><tr><td>France</td></tr><tr><td>Northwest</td></tr><tr><td>Southwest</td></tr></table>"
                    },
                    "metadata": {}
                }
            ],
            "execution_count": 3
        },
        {
            "cell_type": "markdown",
            "source": [
                "<span style=\"font-size: 12pt; font-family: &quot;Times New Roman&quot;, serif; color: rgb(0, 0, 0); background-color: transparent; font-variant-numeric: normal; font-variant-east-asian: normal; font-variant-alternates: normal; text-decoration-line: underline; text-decoration-skip-ink: none; vertical-align: baseline; white-space-collapse: preserve;\">Part D</span>\n",
                "\n",
                "<span style=\"font-size: 12pt; font-family: &quot;Times New Roman&quot;, serif; color: rgb(0, 0, 0); background-color: transparent; font-variant-numeric: normal; font-variant-east-asian: normal; font-variant-alternates: normal; vertical-align: baseline; white-space-collapse: preserve;\">The sales manager would like to offer additional training to those territories that did not achieve the $750,000 target at least once in 2013.&nbsp; Create a list of territories that did not achieve their target, sorted alphabetically. </span> <span style=\"font-size: 12pt; font-family: &quot;Times New Roman&quot;, serif; color: rgb(0, 0, 0); background-color: transparent; font-weight: 700; font-variant-numeric: normal; font-variant-east-asian: normal; font-variant-alternates: normal; vertical-align: baseline; white-space-collapse: preserve;\">Do this by using set theory, adding a few lines to your query from Part C.&nbsp;</span> \n",
                "\n",
                "<span style=\"font-size: 12pt; font-family: &quot;Times New Roman&quot;, serif; color: rgb(0, 0, 0); background-color: transparent; font-weight: 700; font-variant-numeric: normal; font-variant-east-asian: normal; font-variant-alternates: normal; vertical-align: baseline; white-space-collapse: preserve;\"><br></span>"
            ],
            "metadata": {
                "language": "sql",
                "azdata_cell_guid": "04eeaeca-2cdf-4e50-a8bd-d741252e3d38"
            },
            "attachments": {}
        },
        {
            "cell_type": "code",
            "source": [
                "Select Distinct t.name as TrainingNeeded\r\n",
                "From Sales.SalesOrderHeader SOH\r\n",
                "Join Sales.SalesTerritory t\r\n",
                "On SOH.TerritoryID = t.TerritoryID\r\n",
                "Where DATEPART(YEAR, SOH.OrderDate) = 2013\r\n",
                "group by t.Name, DATEPART(month,soh.OrderDate), DATEPART(year,soh.OrderDate)\r\n",
                "EXCEPT\r\n",
                "select distinct t.name\r\n",
                "from sales.SalesOrderHeader SOH\r\n",
                "join sales.SalesTerritory t\r\n",
                "on SOH.TerritoryID = t.TerritoryID\r\n",
                "where DATEPART(YEAR, SOH.OrderDate) = 2013\r\n",
                "group by t.Name, DATEPART(month,soh.OrderDate), DATEPART(year,soh.OrderDate)\r\n",
                "HAVING sum(SOH.TotalDue) >= 750000"
            ],
            "metadata": {
                "language": "sql",
                "azdata_cell_guid": "ba202d47-98a6-4efb-b809-1124a04516b8",
                "tags": []
            },
            "outputs": [
                {
                    "output_type": "display_data",
                    "data": {
                        "text/html": "(6 rows affected)"
                    },
                    "metadata": {}
                },
                {
                    "output_type": "display_data",
                    "data": {
                        "text/html": "Total execution time: 00:00:00.159"
                    },
                    "metadata": {}
                },
                {
                    "output_type": "execute_result",
                    "execution_count": 5,
                    "data": {
                        "application/vnd.dataresource+json": {
                            "schema": {
                                "fields": [
                                    {
                                        "name": "TrainingNeeded"
                                    }
                                ]
                            },
                            "data": [
                                {
                                    "TrainingNeeded": "Australia"
                                },
                                {
                                    "TrainingNeeded": "Central"
                                },
                                {
                                    "TrainingNeeded": "Germany"
                                },
                                {
                                    "TrainingNeeded": "Northeast"
                                },
                                {
                                    "TrainingNeeded": "Southeast"
                                },
                                {
                                    "TrainingNeeded": "United Kingdom"
                                }
                            ]
                        },
                        "text/html": "<table><tr><th>TrainingNeeded</th></tr><tr><td>Australia</td></tr><tr><td>Central</td></tr><tr><td>Germany</td></tr><tr><td>Northeast</td></tr><tr><td>Southeast</td></tr><tr><td>United Kingdom</td></tr></table>"
                    },
                    "metadata": {}
                }
            ],
            "execution_count": 5
        },
        {
            "cell_type": "markdown",
            "source": [
                "<span style=\"font-size: 12pt; font-family: &quot;Times New Roman&quot;, serif; color: rgb(0, 0, 0); background-color: transparent; font-weight: 700; font-variant-numeric: normal; font-variant-east-asian: normal; font-variant-alternates: normal; text-decoration-line: underline; text-decoration-skip-ink: none; vertical-align: baseline; white-space-collapse: preserve;\">Problem 2</span>\n",
                "\n",
                "<span style=\"font-size: 12pt; font-family: &quot;Times New Roman&quot;, serif; color: rgb(0, 0, 0); background-color: transparent; font-variant-numeric: normal; font-variant-east-asian: normal; font-variant-alternates: normal; vertical-align: baseline; white-space-collapse: preserve;\">Your next assignment is to work with the production manager on a series of questions that he has about your product catalog.</span>\n",
                "\n",
                "<span style=\"font-size: 12pt; font-family: &quot;Times New Roman&quot;, serif; color: rgb(0, 0, 0); background-color: transparent; font-variant-numeric: normal; font-variant-east-asian: normal; font-variant-alternates: normal; vertical-align: baseline; white-space-collapse: preserve;\"><br></span>"
            ],
            "metadata": {
                "language": "sql",
                "azdata_cell_guid": "c0dcfb16-b8c6-483c-bfcf-dce7ba6babdc"
            },
            "attachments": {}
        },
        {
            "cell_type": "markdown",
            "source": [
                "<span style=\"font-size: 12pt; font-family: &quot;Times New Roman&quot;, serif; color: rgb(0, 0, 0); background-color: transparent; font-variant-numeric: normal; font-variant-east-asian: normal; font-variant-alternates: normal; text-decoration-line: underline; text-decoration-skip-ink: none; vertical-align: baseline; white-space-collapse: preserve;\">--Part A</span>\n",
                "\n",
                "<span style=\"font-size: 12pt; font-family: &quot;Times New Roman&quot;, serif; color: rgb(0, 0, 0); background-color: transparent; font-variant-numeric: normal; font-variant-east-asian: normal; font-variant-alternates: normal; vertical-align: baseline; white-space-collapse: preserve;\">--The production manager is considering dropping some products and would like to generate a report that lists finished goods products where the total sales volume is at least 1 unit, but under 50 units.&nbsp; Create a report</span>\n",
                "\n",
                "<span style=\"font-size: 12pt; font-family: &quot;Times New Roman&quot;, serif; color: rgb(0, 0, 0); background-color: transparent; font-variant-numeric: normal; font-variant-east-asian: normal; font-variant-alternates: normal; vertical-align: baseline; white-space-collapse: preserve;\">--showing the product name and the total number of units ordered.&nbsp; Sort the report so that the product with the highest number of units ordered appears first.</span>\n",
                "\n",
                "<span style=\"font-size: 12pt; font-family: &quot;Times New Roman&quot;, serif; color: rgb(0, 0, 0); background-color: transparent; font-variant-numeric: normal; font-variant-east-asian: normal; font-variant-alternates: normal; vertical-align: baseline; white-space-collapse: preserve;\"><br></span>"
            ],
            "metadata": {
                "language": "sql",
                "azdata_cell_guid": "873e39af-23d0-495f-b487-22cd752734f0"
            },
            "attachments": {}
        },
        {
            "cell_type": "code",
            "source": [
                "Select \r\n",
                "    p.Name as ProductName,\r\n",
                "    sum(sod.OrderQty) as TotalUnitsOrdered\r\n",
                "from Production.Product p\r\n",
                "join Sales.SalesOrderDetail sod\r\n",
                "on p.ProductID = sod.ProductID\r\n",
                "group by p.Name\r\n",
                "having sum(sod.OrderQty) >= 1 and sum(sod.OrderQty) < 50\r\n",
                "order by TotalUnitsOrdered desc\r\n",
                ""
            ],
            "metadata": {
                "language": "sql",
                "azdata_cell_guid": "7f16ae2f-03d8-4a4a-872b-282448f6c87f"
            },
            "outputs": [
                {
                    "output_type": "display_data",
                    "data": {
                        "text/html": "(10 rows affected)"
                    },
                    "metadata": {}
                },
                {
                    "output_type": "display_data",
                    "data": {
                        "text/html": "Total execution time: 00:00:00.216"
                    },
                    "metadata": {}
                },
                {
                    "output_type": "execute_result",
                    "execution_count": 5,
                    "data": {
                        "application/vnd.dataresource+json": {
                            "schema": {
                                "fields": [
                                    {
                                        "name": "ProductName"
                                    },
                                    {
                                        "name": "TotalUnitsOrdered"
                                    }
                                ]
                            },
                            "data": [
                                {
                                    "ProductName": "LL Mountain Frame - Silver, 48",
                                    "TotalUnitsOrdered": "44"
                                },
                                {
                                    "ProductName": "LL Touring Frame - Yellow, 58",
                                    "TotalUnitsOrdered": "36"
                                },
                                {
                                    "ProductName": "LL Touring Frame - Blue, 44",
                                    "TotalUnitsOrdered": "25"
                                },
                                {
                                    "ProductName": "HL Mountain Frame - Black, 44",
                                    "TotalUnitsOrdered": "17"
                                },
                                {
                                    "ProductName": "LL Mountain Frame - Black, 52",
                                    "TotalUnitsOrdered": "15"
                                },
                                {
                                    "ProductName": "LL Touring Frame - Blue, 62",
                                    "TotalUnitsOrdered": "15"
                                },
                                {
                                    "ProductName": "LL Road Seat/Saddle",
                                    "TotalUnitsOrdered": "10"
                                },
                                {
                                    "ProductName": "LL Mountain Frame - Black, 40",
                                    "TotalUnitsOrdered": "8"
                                },
                                {
                                    "ProductName": "ML Mountain Frame-W - Silver, 38",
                                    "TotalUnitsOrdered": "7"
                                },
                                {
                                    "ProductName": "LL Touring Frame - Blue, 58",
                                    "TotalUnitsOrdered": "4"
                                }
                            ]
                        },
                        "text/html": "<table><tr><th>ProductName</th><th>TotalUnitsOrdered</th></tr><tr><td>LL Mountain Frame - Silver, 48</td><td>44</td></tr><tr><td>LL Touring Frame - Yellow, 58</td><td>36</td></tr><tr><td>LL Touring Frame - Blue, 44</td><td>25</td></tr><tr><td>HL Mountain Frame - Black, 44</td><td>17</td></tr><tr><td>LL Mountain Frame - Black, 52</td><td>15</td></tr><tr><td>LL Touring Frame - Blue, 62</td><td>15</td></tr><tr><td>LL Road Seat/Saddle</td><td>10</td></tr><tr><td>LL Mountain Frame - Black, 40</td><td>8</td></tr><tr><td>ML Mountain Frame-W - Silver, 38</td><td>7</td></tr><tr><td>LL Touring Frame - Blue, 58</td><td>4</td></tr></table>"
                    },
                    "metadata": {}
                }
            ],
            "execution_count": 5
        },
        {
            "cell_type": "markdown",
            "source": [
                "<span style=\"font-size: 12pt; font-family: &quot;Times New Roman&quot;, serif; color: rgb(0, 0, 0); background-color: transparent; font-variant-numeric: normal; font-variant-east-asian: normal; font-variant-alternates: normal; text-decoration-line: underline; text-decoration-skip-ink: none; vertical-align: baseline; white-space-collapse: preserve;\">Part B</span>\n",
                "\n",
                "<span style=\"font-size: 12pt; font-family: &quot;Times New Roman&quot;, serif; color: rgb(0, 0, 0); background-color: transparent; font-variant-numeric: normal; font-variant-east-asian: normal; font-variant-alternates: normal; vertical-align: baseline; white-space-collapse: preserve;\">The production manager is working on profit projections for the coming year.&nbsp; She needs to make some assumptions about the sales tax rates in various countries and wants to use a conservatively selected single rate for each country.</span><span style=\"font-size: 12pt; font-family: &quot;Times New Roman&quot;, serif; color: rgb(0, 0, 0); background-color: transparent; font-variant-numeric: normal; font-variant-east-asian: normal; font-variant-alternates: normal; vertical-align: baseline; white-space-collapse: preserve;\"><br></span><span style=\"font-size: 12pt; font-family: &quot;Times New Roman&quot;, serif; color: rgb(0, 0, 0); background-color: transparent; font-variant-numeric: normal; font-variant-east-asian: normal; font-variant-alternates: normal; vertical-align: baseline; white-space-collapse: preserve;\"><br></span><span style=\"font-size: 12pt; font-family: &quot;Times New Roman&quot;, serif; color: rgb(0, 0, 0); background-color: transparent; font-variant-numeric: normal; font-variant-east-asian: normal; font-variant-alternates: normal; vertical-align: baseline; white-space-collapse: preserve;\">Create a report showing the maximum sales tax rate for each country served by AdventureWorks.&nbsp; Use the full country name in the report. Sort the list by tax rate with the highest tax rate first.</span>"
            ],
            "metadata": {
                "language": "sql",
                "azdata_cell_guid": "2558d3c9-b2e1-4880-bcc0-48e70f7fd087"
            },
            "attachments": {}
        },
        {
            "cell_type": "code",
            "source": [
                "Select \r\n",
                "    t.Name as Country,\r\n",
                "    max(str.TaxRate) as MaxSalesTaxRate\r\n",
                "from Sales.SalesTaxRate str\r\n",
                "join Person.StateProvince sp\r\n",
                "on str.StateProvinceID = sp.StateProvinceID\r\n",
                "join Person.CountryRegion t\r\n",
                "on sp.CountryRegionCode = t.CountryRegionCode\r\n",
                "group by t.Name\r\n",
                "order by MaxSalesTaxRate desc"
            ],
            "metadata": {
                "language": "sql",
                "azdata_cell_guid": "68b3f231-ebf6-439f-b9a4-79f52597214f"
            },
            "outputs": [
                {
                    "output_type": "display_data",
                    "data": {
                        "text/html": "(6 rows affected)"
                    },
                    "metadata": {}
                },
                {
                    "output_type": "display_data",
                    "data": {
                        "text/html": "Total execution time: 00:00:00.261"
                    },
                    "metadata": {}
                },
                {
                    "output_type": "execute_result",
                    "execution_count": 6,
                    "data": {
                        "application/vnd.dataresource+json": {
                            "schema": {
                                "fields": [
                                    {
                                        "name": "Country"
                                    },
                                    {
                                        "name": "MaxSalesTaxRate"
                                    }
                                ]
                            },
                            "data": [
                                {
                                    "Country": "France",
                                    "MaxSalesTaxRate": "19.60"
                                },
                                {
                                    "Country": "United Kingdom",
                                    "MaxSalesTaxRate": "17.50"
                                },
                                {
                                    "Country": "Germany",
                                    "MaxSalesTaxRate": "16.00"
                                },
                                {
                                    "Country": "Canada",
                                    "MaxSalesTaxRate": "14.25"
                                },
                                {
                                    "Country": "Australia",
                                    "MaxSalesTaxRate": "10.00"
                                },
                                {
                                    "Country": "United States",
                                    "MaxSalesTaxRate": "8.80"
                                }
                            ]
                        },
                        "text/html": "<table><tr><th>Country</th><th>MaxSalesTaxRate</th></tr><tr><td>France</td><td>19.60</td></tr><tr><td>United Kingdom</td><td>17.50</td></tr><tr><td>Germany</td><td>16.00</td></tr><tr><td>Canada</td><td>14.25</td></tr><tr><td>Australia</td><td>10.00</td></tr><tr><td>United States</td><td>8.80</td></tr></table>"
                    },
                    "metadata": {}
                }
            ],
            "execution_count": 6
        },
        {
            "cell_type": "markdown",
            "source": [
                "<span style=\"font-size: 12pt; font-family: &quot;Times New Roman&quot;, serif; color: rgb(0, 0, 0); background-color: transparent; font-variant-numeric: normal; font-variant-east-asian: normal; font-variant-alternates: normal; text-decoration-line: underline; text-decoration-skip-ink: none; vertical-align: baseline; white-space-collapse: preserve;\">Part C</span>\n",
                "\n",
                "<span style=\"font-size: 12pt; font-family: &quot;Times New Roman&quot;, serif; color: rgb(0, 0, 0); background-color: transparent; font-variant-numeric: normal; font-variant-east-asian: normal; font-variant-alternates: normal; vertical-align: baseline; white-space-collapse: preserve;\">The quality assurance department is issuing a recall for all helmets shipped during the first five days of February 2014 due to a safety issue.&nbsp; Stores will handle the notification of individual customers, but the</span>\n",
                "\n",
                "<span style=\"font-size: 12pt; font-family: &quot;Times New Roman&quot;, serif; color: rgb(0, 0, 0); background-color: transparent; font-variant-numeric: normal; font-variant-east-asian: normal; font-variant-alternates: normal; vertical-align: baseline; white-space-collapse: preserve;\">sales</span><span style=\"background-color: transparent; color: rgb(0, 0, 0); font-family: &quot;Times New Roman&quot;, serif; font-size: 12pt; white-space-collapse: preserve;\">department needs your help to follow up with stores that serve customers who received the helmets.&nbsp; Produce a listing of stores that shipped helmets during the recall period. Your result should have two columns:</span>\n",
                "\n",
                "<span style=\"font-size: 12pt; font-family: &quot;Times New Roman&quot;, serif; color: rgb(0, 0, 0); background-color: transparent; font-variant-numeric: normal; font-variant-east-asian: normal; font-variant-alternates: normal; vertical-align: baseline; white-space-collapse: preserve;\"><br></span>\n",
                "\n",
                "1. <span style=\"font-size: 12pt; background-color: transparent; font-variant-numeric: normal; font-variant-east-asian: normal; font-variant-alternates: normal; vertical-align: baseline; text-wrap: wrap;\">StoreName</span>\n",
                "    \n",
                "2. <span style=\"font-size: 12pt; background-color: transparent; font-variant-numeric: normal; font-variant-east-asian: normal; font-variant-alternates: normal; vertical-align: baseline; text-wrap: wrap;\">TerritoryName</span>\n",
                "    \n",
                "\n",
                "<span style=\"font-size: 12pt; font-family: &quot;Times New Roman&quot;, serif; color: rgb(0, 0, 0); background-color: transparent; font-variant-numeric: normal; font-variant-east-asian: normal; font-variant-alternates: normal; vertical-align: baseline; white-space-collapse: preserve;\">Sort the list in alphabetical order, first by territory name and then by store name.&nbsp; Each store should only appear once in the list, regardless of the number of orders.</span>\n",
                "\n",
                "<span style=\"font-size: 12pt; font-family: &quot;Times New Roman&quot;, serif; color: rgb(0, 0, 0); background-color: transparent; font-variant-numeric: normal; font-variant-east-asian: normal; font-variant-alternates: normal; text-decoration-line: underline; text-decoration-skip-ink: none; vertical-align: baseline; white-space-collapse: preserve;\">Hint</span><span style=\"font-size: 12pt; font-family: &quot;Times New Roman&quot;, serif; color: rgb(0, 0, 0); background-color: transparent; font-variant-numeric: normal; font-variant-east-asian: normal; font-variant-alternates: normal; vertical-align: baseline; white-space-collapse: preserve;\">: My solution to this problem used five INNER JOINs.&nbsp; Most of the tables are ones that you’re already familiar with using.&nbsp; You will need to bring in the Sales.SalesOrderDetail table as well to link to product</span>\n",
                "\n",
                "<span style=\"font-size: 12pt; font-family: &quot;Times New Roman&quot;, serif; color: rgb(0, 0, 0); background-color: transparent; font-variant-numeric: normal; font-variant-east-asian: normal; font-variant-alternates: normal; vertical-align: baseline; white-space-collapse: preserve;\">information.&nbsp; If you aren’t sure how to join two tables together, be sure to consult the data dictionary!</span>"
            ],
            "metadata": {
                "language": "sql",
                "azdata_cell_guid": "5894e226-1805-43a6-9892-bd843260f8df"
            },
            "attachments": {}
        },
        {
            "cell_type": "code",
            "source": [
                "SELECT\r\n",
                "    s.Name as StoreName,\r\n",
                "    t.Name as TerritoryName\r\n",
                "    FROM sales.store s\r\n",
                "    JOIN sales.customer c\r\n",
                "    on s.businessentityid = c.storeid\r\n",
                "    JOIN Sales.SalesTerritory t\r\n",
                "    on c.territoryID = t.TerritoryID\r\n",
                "    JOIN sales.salesorderheader soh\r\n",
                "    on soh.TerritoryID = t.TerritoryID\r\n",
                "    JOIN sales.salesorderdetail sod\r\n",
                "    on soh.SalesOrderID = sod.SalesOrderID\r\n",
                "    JOIN production.product p\r\n",
                "    on sod.ProductID = p.ProductID\r\n",
                "    where p.Name like '%helmet%'\r\n",
                "    and soh.ShipDate between '2014-02-01' and '2014-02-05'\r\n",
                "    group by s.Name, t.Name\r\n",
                "    order by t.Name, s.Name"
            ],
            "metadata": {
                "language": "sql",
                "azdata_cell_guid": "28b50398-db90-4bb4-9c06-a9a7ef05384c"
            },
            "outputs": [
                {
                    "output_type": "display_data",
                    "data": {
                        "text/html": "(701 rows affected)"
                    },
                    "metadata": {}
                },
                {
                    "output_type": "display_data",
                    "data": {
                        "text/html": "Total execution time: 00:00:00.399"
                    },
                    "metadata": {}
                },
                {
                    "output_type": "execute_result",
                    "metadata": {},
                    "execution_count": 4,
                    "data": {
                        "application/vnd.dataresource+json": {
                            "schema": {
                                "fields": [
                                    {
                                        "name": "StoreName"
                                    },
                                    {
                                        "name": "TerritoryName"
                                    }
                                ]
                            },
                            "data": [
                                {
                                    "StoreName": "Bike Part Wholesalers",
                                    "TerritoryName": "Australia"
                                },
                                {
                                    "StoreName": "Budget Toy Store",
                                    "TerritoryName": "Australia"
                                },
                                {
                                    "StoreName": "Cross-town Parts Shop",
                                    "TerritoryName": "Australia"
                                },
                                {
                                    "StoreName": "Cycle Parts and Accessories",
                                    "TerritoryName": "Australia"
                                },
                                {
                                    "StoreName": "Eastside Cycle Shop",
                                    "TerritoryName": "Australia"
                                },
                                {
                                    "StoreName": "Eastward Bike Accessories",
                                    "TerritoryName": "Australia"
                                },
                                {
                                    "StoreName": "Expert Cycle Store",
                                    "TerritoryName": "Australia"
                                },
                                {
                                    "StoreName": "Fast Bike Works",
                                    "TerritoryName": "Australia"
                                },
                                {
                                    "StoreName": "First Supplies",
                                    "TerritoryName": "Australia"
                                },
                                {
                                    "StoreName": "Fitness Bike Accessories",
                                    "TerritoryName": "Australia"
                                },
                                {
                                    "StoreName": "Fitness Discount Store",
                                    "TerritoryName": "Australia"
                                },
                                {
                                    "StoreName": "Gears and Parts Company",
                                    "TerritoryName": "Australia"
                                },
                                {
                                    "StoreName": "Global Sports Outlet",
                                    "TerritoryName": "Australia"
                                },
                                {
                                    "StoreName": "Helmets and Cycles",
                                    "TerritoryName": "Australia"
                                },
                                {
                                    "StoreName": "Helpful Sales and Repair Service ",
                                    "TerritoryName": "Australia"
                                },
                                {
                                    "StoreName": "Ideal Components",
                                    "TerritoryName": "Australia"
                                },
                                {
                                    "StoreName": "Inexpensive Parts Shop",
                                    "TerritoryName": "Australia"
                                },
                                {
                                    "StoreName": "Jumbo Bikes",
                                    "TerritoryName": "Australia"
                                },
                                {
                                    "StoreName": "Kids and Adults Cycle Shop",
                                    "TerritoryName": "Australia"
                                },
                                {
                                    "StoreName": "Liquidation Sales",
                                    "TerritoryName": "Australia"
                                },
                                {
                                    "StoreName": "List Price Catalog Company",
                                    "TerritoryName": "Australia"
                                },
                                {
                                    "StoreName": "Major Bicycle Store",
                                    "TerritoryName": "Australia"
                                },
                                {
                                    "StoreName": "Mass Market Bikes",
                                    "TerritoryName": "Australia"
                                },
                                {
                                    "StoreName": "Nationwide Supply",
                                    "TerritoryName": "Australia"
                                },
                                {
                                    "StoreName": "Nearest Bike Store",
                                    "TerritoryName": "Australia"
                                },
                                {
                                    "StoreName": "Online Bike Catalog",
                                    "TerritoryName": "Australia"
                                },
                                {
                                    "StoreName": "Plastic Products Manufacturers",
                                    "TerritoryName": "Australia"
                                },
                                {
                                    "StoreName": "Popular Bike Lines",
                                    "TerritoryName": "Australia"
                                },
                                {
                                    "StoreName": "Preferable Bikes",
                                    "TerritoryName": "Australia"
                                },
                                {
                                    "StoreName": "Quality Bike Sales",
                                    "TerritoryName": "Australia"
                                },
                                {
                                    "StoreName": "Region Bike Company",
                                    "TerritoryName": "Australia"
                                },
                                {
                                    "StoreName": "Rental Gallery",
                                    "TerritoryName": "Australia"
                                },
                                {
                                    "StoreName": "Rich Department Store",
                                    "TerritoryName": "Australia"
                                },
                                {
                                    "StoreName": "Seaside Bike Works",
                                    "TerritoryName": "Australia"
                                },
                                {
                                    "StoreName": "Second Bike Shop",
                                    "TerritoryName": "Australia"
                                },
                                {
                                    "StoreName": "Sensible Sports",
                                    "TerritoryName": "Australia"
                                },
                                {
                                    "StoreName": "Twin Cycles",
                                    "TerritoryName": "Australia"
                                },
                                {
                                    "StoreName": "Uncompromising Quality Co",
                                    "TerritoryName": "Australia"
                                },
                                {
                                    "StoreName": "Unusual Bicycle Company",
                                    "TerritoryName": "Australia"
                                },
                                {
                                    "StoreName": "Volume Bike Sellers",
                                    "TerritoryName": "Australia"
                                },
                                {
                                    "StoreName": "Acceptable Sales & Service",
                                    "TerritoryName": "Canada"
                                },
                                {
                                    "StoreName": "Active Life Toys",
                                    "TerritoryName": "Canada"
                                },
                                {
                                    "StoreName": "Bikes and Motorbikes",
                                    "TerritoryName": "Canada"
                                },
                                {
                                    "StoreName": "Bikes for Kids and Adults",
                                    "TerritoryName": "Canada"
                                },
                                {
                                    "StoreName": "Bikes for Two",
                                    "TerritoryName": "Canada"
                                },
                                {
                                    "StoreName": "Camping and Sports Store",
                                    "TerritoryName": "Canada"
                                },
                                {
                                    "StoreName": "Certified Sports Supply",
                                    "TerritoryName": "Canada"
                                },
                                {
                                    "StoreName": "City Cycling",
                                    "TerritoryName": "Canada"
                                },
                                {
                                    "StoreName": "Citywide Service and Repair",
                                    "TerritoryName": "Canada"
                                },
                                {
                                    "StoreName": "Commuter Bicycle Store",
                                    "TerritoryName": "Canada"
                                },
                                {
                                    "StoreName": "Consolidated Messenger",
                                    "TerritoryName": "Canada"
                                },
                                {
                                    "StoreName": "Corner Bicycle Supply",
                                    "TerritoryName": "Canada"
                                },
                                {
                                    "StoreName": "Courteous Bicycle Specialists",
                                    "TerritoryName": "Canada"
                                },
                                {
                                    "StoreName": "Cross-Country Riding Supplies",
                                    "TerritoryName": "Canada"
                                },
                                {
                                    "StoreName": "Custom Accessories Company",
                                    "TerritoryName": "Canada"
                                },
                                {
                                    "StoreName": "Custom Sales and Service",
                                    "TerritoryName": "Canada"
                                },
                                {
                                    "StoreName": "Cycle Merchants",
                                    "TerritoryName": "Canada"
                                },
                                {
                                    "StoreName": "Designated Distributors",
                                    "TerritoryName": "Canada"
                                },
                                {
                                    "StoreName": "Eastside Parts Shop",
                                    "TerritoryName": "Canada"
                                },
                                {
                                    "StoreName": "Economy Center",
                                    "TerritoryName": "Canada"
                                },
                                {
                                    "StoreName": "Efficient Cycling",
                                    "TerritoryName": "Canada"
                                },
                                {
                                    "StoreName": "Family Cycle Store",
                                    "TerritoryName": "Canada"
                                },
                                {
                                    "StoreName": "Family's Favorite Bike Shop",
                                    "TerritoryName": "Canada"
                                },
                                {
                                    "StoreName": "Famous Bike Shop",
                                    "TerritoryName": "Canada"
                                },
                                {
                                    "StoreName": "Farthest Bike Store",
                                    "TerritoryName": "Canada"
                                },
                                {
                                    "StoreName": "Fasteners & Bolts Outlet",
                                    "TerritoryName": "Canada"
                                },
                                {
                                    "StoreName": "Finer Cycle Shop",
                                    "TerritoryName": "Canada"
                                },
                                {
                                    "StoreName": "Finer Riding Supplies",
                                    "TerritoryName": "Canada"
                                },
                                {
                                    "StoreName": "Finer Sales and Service",
                                    "TerritoryName": "Canada"
                                },
                                {
                                    "StoreName": "First-Rate Outlet",
                                    "TerritoryName": "Canada"
                                },
                                {
                                    "StoreName": "Future Bikes",
                                    "TerritoryName": "Canada"
                                },
                                {
                                    "StoreName": "Gasless Cycle Shop",
                                    "TerritoryName": "Canada"
                                },
                                {
                                    "StoreName": "Gear-Shift Bikes Limited",
                                    "TerritoryName": "Canada"
                                },
                                {
                                    "StoreName": "General Bike Corporation",
                                    "TerritoryName": "Canada"
                                },
                                {
                                    "StoreName": "General Cycle Storehouse",
                                    "TerritoryName": "Canada"
                                },
                                {
                                    "StoreName": "General Department Stores",
                                    "TerritoryName": "Canada"
                                },
                                {
                                    "StoreName": "General Industries",
                                    "TerritoryName": "Canada"
                                },
                                {
                                    "StoreName": "General Riding Supplies",
                                    "TerritoryName": "Canada"
                                },
                                {
                                    "StoreName": "General Supplies",
                                    "TerritoryName": "Canada"
                                },
                                {
                                    "StoreName": "Grand Industries",
                                    "TerritoryName": "Canada"
                                },
                                {
                                    "StoreName": "Greater Bike Store",
                                    "TerritoryName": "Canada"
                                },
                                {
                                    "StoreName": "Health Spa, Limited",
                                    "TerritoryName": "Canada"
                                },
                                {
                                    "StoreName": "Home Town Bike Store",
                                    "TerritoryName": "Canada"
                                },
                                {
                                    "StoreName": "Large Bike Shop",
                                    "TerritoryName": "Canada"
                                },
                                {
                                    "StoreName": "Leather Seat Factory",
                                    "TerritoryName": "Canada"
                                },
                                {
                                    "StoreName": "Leisure Activities",
                                    "TerritoryName": "Canada"
                                },
                                {
                                    "StoreName": "Low Price Cycles",
                                    "TerritoryName": "Canada"
                                },
                                {
                                    "StoreName": "Machines & Cycles Store",
                                    "TerritoryName": "Canada"
                                },
                                {
                                    "StoreName": "Major Cycling",
                                    "TerritoryName": "Canada"
                                },
                                {
                                    "StoreName": "Mercantile Outlet",
                                    "TerritoryName": "Canada"
                                },
                                {
                                    "StoreName": "Metal Clearing House",
                                    "TerritoryName": "Canada"
                                },
                                {
                                    "StoreName": "Metal Processing Company",
                                    "TerritoryName": "Canada"
                                },
                                {
                                    "StoreName": "Metro Manufacturing",
                                    "TerritoryName": "Canada"
                                },
                                {
                                    "StoreName": "National Manufacturing",
                                    "TerritoryName": "Canada"
                                },
                                {
                                    "StoreName": "Neighborhood Store",
                                    "TerritoryName": "Canada"
                                },
                                {
                                    "StoreName": "Nice Bikes",
                                    "TerritoryName": "Canada"
                                },
                                {
                                    "StoreName": "Non-Slip Pedal Company",
                                    "TerritoryName": "Canada"
                                },
                                {
                                    "StoreName": "Nuts and Bolts Mfg.",
                                    "TerritoryName": "Canada"
                                },
                                {
                                    "StoreName": "Odometers and Accessories Company",
                                    "TerritoryName": "Canada"
                                },
                                {
                                    "StoreName": "One Bike Company",
                                    "TerritoryName": "Canada"
                                },
                                {
                                    "StoreName": "Online Bike Warehouse",
                                    "TerritoryName": "Canada"
                                },
                                {
                                    "StoreName": "Operational Manufacturing",
                                    "TerritoryName": "Canada"
                                },
                                {
                                    "StoreName": "Original Bicycle Supply Company",
                                    "TerritoryName": "Canada"
                                },
                                {
                                    "StoreName": "Our Sporting Goods Store",
                                    "TerritoryName": "Canada"
                                },
                                {
                                    "StoreName": "Petroleum Products Distributors",
                                    "TerritoryName": "Canada"
                                },
                                {
                                    "StoreName": "Plastic Parts Company",
                                    "TerritoryName": "Canada"
                                },
                                {
                                    "StoreName": "Price-Cutter Discount Bikes",
                                    "TerritoryName": "Canada"
                                },
                                {
                                    "StoreName": "Primary Bike Distributors",
                                    "TerritoryName": "Canada"
                                },
                                {
                                    "StoreName": "Professional Cyclists",
                                    "TerritoryName": "Canada"
                                },
                                {
                                    "StoreName": "Purple Bicycle Company",
                                    "TerritoryName": "Canada"
                                },
                                {
                                    "StoreName": "Quick Delivery Service",
                                    "TerritoryName": "Canada"
                                },
                                {
                                    "StoreName": "Quick Parts and Service",
                                    "TerritoryName": "Canada"
                                },
                                {
                                    "StoreName": "Racing Partners",
                                    "TerritoryName": "Canada"
                                },
                                {
                                    "StoreName": "Rapid Bikes",
                                    "TerritoryName": "Canada"
                                },
                                {
                                    "StoreName": "Recommended Bicycles",
                                    "TerritoryName": "Canada"
                                },
                                {
                                    "StoreName": "Red Bicycle Company",
                                    "TerritoryName": "Canada"
                                },
                                {
                                    "StoreName": "Refined Department Stores",
                                    "TerritoryName": "Canada"
                                },
                                {
                                    "StoreName": "Reliable Retail Center",
                                    "TerritoryName": "Canada"
                                },
                                {
                                    "StoreName": "Remote Bicycle Specialists",
                                    "TerritoryName": "Canada"
                                },
                                {
                                    "StoreName": "Requisite Part Supply",
                                    "TerritoryName": "Canada"
                                },
                                {
                                    "StoreName": "Retail Discount Store",
                                    "TerritoryName": "Canada"
                                },
                                {
                                    "StoreName": "Retail Mall",
                                    "TerritoryName": "Canada"
                                },
                                {
                                    "StoreName": "Retreat Inn",
                                    "TerritoryName": "Canada"
                                },
                                {
                                    "StoreName": "Rewarding Activities Company",
                                    "TerritoryName": "Canada"
                                },
                                {
                                    "StoreName": "Road Way Sales and Rental",
                                    "TerritoryName": "Canada"
                                },
                                {
                                    "StoreName": "Rural Bicycle Supply",
                                    "TerritoryName": "Canada"
                                },
                                {
                                    "StoreName": "Rural Cycle Emporium",
                                    "TerritoryName": "Canada"
                                },
                                {
                                    "StoreName": "Scratch-Resistant Finishes Company",
                                    "TerritoryName": "Canada"
                                },
                                {
                                    "StoreName": "Seats and Saddles Company",
                                    "TerritoryName": "Canada"
                                },
                                {
                                    "StoreName": "Serious Cycles",
                                    "TerritoryName": "Canada"
                                },
                                {
                                    "StoreName": "Sharp Bikes",
                                    "TerritoryName": "Canada"
                                },
                                {
                                    "StoreName": "Sixth Bike Store",
                                    "TerritoryName": "Canada"
                                },
                                {
                                    "StoreName": "South Bike Company",
                                    "TerritoryName": "Canada"
                                },
                                {
                                    "StoreName": "Standard Bikes",
                                    "TerritoryName": "Canada"
                                },
                                {
                                    "StoreName": "Sundry Sporting Goods",
                                    "TerritoryName": "Canada"
                                },
                                {
                                    "StoreName": "Superb Sales and Repair",
                                    "TerritoryName": "Canada"
                                },
                                {
                                    "StoreName": "Tandem Sales and Service",
                                    "TerritoryName": "Canada"
                                },
                                {
                                    "StoreName": "Tenth Bike Store",
                                    "TerritoryName": "Canada"
                                },
                                {
                                    "StoreName": "The Commissary",
                                    "TerritoryName": "Canada"
                                },
                                {
                                    "StoreName": "The Showroom",
                                    "TerritoryName": "Canada"
                                },
                                {
                                    "StoreName": "Tire Exchange",
                                    "TerritoryName": "Canada"
                                },
                                {
                                    "StoreName": "Top Bike Market",
                                    "TerritoryName": "Canada"
                                },
                                {
                                    "StoreName": "Top Sports Supply",
                                    "TerritoryName": "Canada"
                                },
                                {
                                    "StoreName": "Toy Manufacturing Inc",
                                    "TerritoryName": "Canada"
                                },
                                {
                                    "StoreName": "Transportation Options",
                                    "TerritoryName": "Canada"
                                },
                                {
                                    "StoreName": "Twelfth Bike Store",
                                    "TerritoryName": "Canada"
                                },
                                {
                                    "StoreName": "Two-Wheeled Transit Company",
                                    "TerritoryName": "Canada"
                                },
                                {
                                    "StoreName": "Up-To-Date Sports",
                                    "TerritoryName": "Canada"
                                },
                                {
                                    "StoreName": "Urban Sports Emporium",
                                    "TerritoryName": "Canada"
                                },
                                {
                                    "StoreName": "Valley Toy Store",
                                    "TerritoryName": "Canada"
                                },
                                {
                                    "StoreName": "Vigorous Exercise Company",
                                    "TerritoryName": "Canada"
                                },
                                {
                                    "StoreName": "Vinyl and Plastic Goods Corporation",
                                    "TerritoryName": "Canada"
                                },
                                {
                                    "StoreName": "Wholesale Parts",
                                    "TerritoryName": "Canada"
                                },
                                {
                                    "StoreName": "Workout Emporium",
                                    "TerritoryName": "Canada"
                                },
                                {
                                    "StoreName": "A Great Bicycle Company",
                                    "TerritoryName": "Central"
                                },
                                {
                                    "StoreName": "Active Systems",
                                    "TerritoryName": "Central"
                                },
                                {
                                    "StoreName": "Another Sporting Goods Company",
                                    "TerritoryName": "Central"
                                },
                                {
                                    "StoreName": "Best o' Bikes",
                                    "TerritoryName": "Central"
                                },
                                {
                                    "StoreName": "Bicycle Lines Distributors",
                                    "TerritoryName": "Central"
                                },
                                {
                                    "StoreName": "Black Bicycle Company",
                                    "TerritoryName": "Central"
                                },
                                {
                                    "StoreName": "Blue Bicycle Company",
                                    "TerritoryName": "Central"
                                },
                                {
                                    "StoreName": "Bold Bike Accessories",
                                    "TerritoryName": "Central"
                                },
                                {
                                    "StoreName": "Catalog Store",
                                    "TerritoryName": "Central"
                                },
                                {
                                    "StoreName": "Client Discount Store",
                                    "TerritoryName": "Central"
                                },
                                {
                                    "StoreName": "Discount Bicycle Specialists",
                                    "TerritoryName": "Central"
                                },
                                {
                                    "StoreName": "District Mall",
                                    "TerritoryName": "Central"
                                },
                                {
                                    "StoreName": "Exhilarating Cycles",
                                    "TerritoryName": "Central"
                                },
                                {
                                    "StoreName": "Extras Sporting Goods",
                                    "TerritoryName": "Central"
                                },
                                {
                                    "StoreName": "Fabrikam Inc., West",
                                    "TerritoryName": "Central"
                                },
                                {
                                    "StoreName": "Field Trip Inc",
                                    "TerritoryName": "Central"
                                },
                                {
                                    "StoreName": "Field Trip Store",
                                    "TerritoryName": "Central"
                                },
                                {
                                    "StoreName": "First Bike Store",
                                    "TerritoryName": "Central"
                                },
                                {
                                    "StoreName": "Fitness Hotel",
                                    "TerritoryName": "Central"
                                },
                                {
                                    "StoreName": "Friendly Bike Shop",
                                    "TerritoryName": "Central"
                                },
                                {
                                    "StoreName": "Friendly Neighborhood Bikes",
                                    "TerritoryName": "Central"
                                },
                                {
                                    "StoreName": "Full-Service Bike Store",
                                    "TerritoryName": "Central"
                                },
                                {
                                    "StoreName": "Fun Times Club",
                                    "TerritoryName": "Central"
                                },
                                {
                                    "StoreName": "Futuristic Sport Distributors",
                                    "TerritoryName": "Central"
                                },
                                {
                                    "StoreName": "Gift and Toy Store",
                                    "TerritoryName": "Central"
                                },
                                {
                                    "StoreName": "Good Bike Shop",
                                    "TerritoryName": "Central"
                                },
                                {
                                    "StoreName": "Grand Sport Boutique",
                                    "TerritoryName": "Central"
                                },
                                {
                                    "StoreName": "Great Bicycle Supply",
                                    "TerritoryName": "Central"
                                },
                                {
                                    "StoreName": "Handy Bike Services",
                                    "TerritoryName": "Central"
                                },
                                {
                                    "StoreName": "Hardware Components",
                                    "TerritoryName": "Central"
                                },
                                {
                                    "StoreName": "Historic Bicycle Sales",
                                    "TerritoryName": "Central"
                                },
                                {
                                    "StoreName": "Immense Manufacturing Company",
                                    "TerritoryName": "Central"
                                },
                                {
                                    "StoreName": "Initial Bike Company",
                                    "TerritoryName": "Central"
                                },
                                {
                                    "StoreName": "Kickstand Sellers",
                                    "TerritoryName": "Central"
                                },
                                {
                                    "StoreName": "Largest Bike Store",
                                    "TerritoryName": "Central"
                                },
                                {
                                    "StoreName": "Leading Sales & Repair",
                                    "TerritoryName": "Central"
                                },
                                {
                                    "StoreName": "Little Bicycle Supply Shop",
                                    "TerritoryName": "Central"
                                },
                                {
                                    "StoreName": "Local Hardware Factory",
                                    "TerritoryName": "Central"
                                },
                                {
                                    "StoreName": "Local Sales and Rental",
                                    "TerritoryName": "Central"
                                },
                                {
                                    "StoreName": "Lots of Bikes Storehouse",
                                    "TerritoryName": "Central"
                                },
                                {
                                    "StoreName": "Metro Bike Works",
                                    "TerritoryName": "Central"
                                },
                                {
                                    "StoreName": "Novelty Bikes",
                                    "TerritoryName": "Central"
                                },
                                {
                                    "StoreName": "Online Bike Sellers",
                                    "TerritoryName": "Central"
                                },
                                {
                                    "StoreName": "Orange Bicycle Company",
                                    "TerritoryName": "Central"
                                },
                                {
                                    "StoreName": "Out-of-the-Way Hotels",
                                    "TerritoryName": "Central"
                                },
                                {
                                    "StoreName": "Paints and Solvents Company",
                                    "TerritoryName": "Central"
                                },
                                {
                                    "StoreName": "Practical Bike Supply Company",
                                    "TerritoryName": "Central"
                                },
                                {
                                    "StoreName": "Reasonable Bicycle Sales",
                                    "TerritoryName": "Central"
                                },
                                {
                                    "StoreName": "Responsible Bike Dealers",
                                    "TerritoryName": "Central"
                                },
                                {
                                    "StoreName": "Riders Company",
                                    "TerritoryName": "Central"
                                },
                                {
                                    "StoreName": "Sample Bike Store",
                                    "TerritoryName": "Central"
                                },
                                {
                                    "StoreName": "Sleek Bikes ",
                                    "TerritoryName": "Central"
                                },
                                {
                                    "StoreName": "Small Cycle Store",
                                    "TerritoryName": "Central"
                                },
                                {
                                    "StoreName": "Summer Sports Place",
                                    "TerritoryName": "Central"
                                },
                                {
                                    "StoreName": "The Accessories Store",
                                    "TerritoryName": "Central"
                                },
                                {
                                    "StoreName": "This Area Sporting Goods",
                                    "TerritoryName": "Central"
                                },
                                {
                                    "StoreName": "Travel Systems",
                                    "TerritoryName": "Central"
                                },
                                {
                                    "StoreName": "Unique Bikes",
                                    "TerritoryName": "Central"
                                },
                                {
                                    "StoreName": "Valley Bicycle Specialists",
                                    "TerritoryName": "Central"
                                },
                                {
                                    "StoreName": "Westside Cycle Store",
                                    "TerritoryName": "Central"
                                },
                                {
                                    "StoreName": "Work and Play Association",
                                    "TerritoryName": "Central"
                                },
                                {
                                    "StoreName": "World of Bikes",
                                    "TerritoryName": "Central"
                                },
                                {
                                    "StoreName": "Yellow Bicycle Company",
                                    "TerritoryName": "Central"
                                },
                                {
                                    "StoreName": "Accessories Network",
                                    "TerritoryName": "France"
                                },
                                {
                                    "StoreName": "Ace Bicycle Supply",
                                    "TerritoryName": "France"
                                },
                                {
                                    "StoreName": "Atypical Bike Company",
                                    "TerritoryName": "France"
                                },
                                {
                                    "StoreName": "Brand New Bikes",
                                    "TerritoryName": "France"
                                },
                                {
                                    "StoreName": "Community Department Stores",
                                    "TerritoryName": "France"
                                },
                                {
                                    "StoreName": "Country Parts Shop",
                                    "TerritoryName": "France"
                                },
                                {
                                    "StoreName": "Cycles Sales and Repair",
                                    "TerritoryName": "France"
                                },
                                {
                                    "StoreName": "Favorite Toy Distributor",
                                    "TerritoryName": "France"
                                },
                                {
                                    "StoreName": "Finer Sporting Goods",
                                    "TerritoryName": "France"
                                },
                                {
                                    "StoreName": "Finished Parts Shop",
                                    "TerritoryName": "France"
                                },
                                {
                                    "StoreName": "First Center",
                                    "TerritoryName": "France"
                                },
                                {
                                    "StoreName": "Full Sports Supply",
                                    "TerritoryName": "France"
                                },
                                {
                                    "StoreName": "Getaway Inn",
                                    "TerritoryName": "France"
                                },
                                {
                                    "StoreName": "Hiatus Bike Tours",
                                    "TerritoryName": "France"
                                },
                                {
                                    "StoreName": "Impervious Paint Company",
                                    "TerritoryName": "France"
                                },
                                {
                                    "StoreName": "Instant Cycle Store",
                                    "TerritoryName": "France"
                                },
                                {
                                    "StoreName": "Major Amusement Company",
                                    "TerritoryName": "France"
                                },
                                {
                                    "StoreName": "Metro Sports Equipment",
                                    "TerritoryName": "France"
                                },
                                {
                                    "StoreName": "Metropolitan Equipment",
                                    "TerritoryName": "France"
                                },
                                {
                                    "StoreName": "Neighborhood Bicycle Storehouse",
                                    "TerritoryName": "France"
                                },
                                {
                                    "StoreName": "Outdoor Toy Store",
                                    "TerritoryName": "France"
                                },
                                {
                                    "StoreName": "Perfect Toys",
                                    "TerritoryName": "France"
                                },
                                {
                                    "StoreName": "Pretty Bikes and Toys",
                                    "TerritoryName": "France"
                                },
                                {
                                    "StoreName": "Racing Sales and Service",
                                    "TerritoryName": "France"
                                },
                                {
                                    "StoreName": "Racing Store",
                                    "TerritoryName": "France"
                                },
                                {
                                    "StoreName": "Racing Supply Distributors",
                                    "TerritoryName": "France"
                                },
                                {
                                    "StoreName": "Racing Tours",
                                    "TerritoryName": "France"
                                },
                                {
                                    "StoreName": "Recreation Toy Store",
                                    "TerritoryName": "France"
                                },
                                {
                                    "StoreName": "Registered Cycle Store",
                                    "TerritoryName": "France"
                                },
                                {
                                    "StoreName": "Roadway Bicycle Supply",
                                    "TerritoryName": "France"
                                },
                                {
                                    "StoreName": "Rural Mountain Bike Mart",
                                    "TerritoryName": "France"
                                },
                                {
                                    "StoreName": "Self-Contained Cycle Parts Company",
                                    "TerritoryName": "France"
                                },
                                {
                                    "StoreName": "Spa and Exercise Outfitters",
                                    "TerritoryName": "France"
                                },
                                {
                                    "StoreName": "Spare Parts Co.",
                                    "TerritoryName": "France"
                                },
                                {
                                    "StoreName": "Sports Products Store",
                                    "TerritoryName": "France"
                                },
                                {
                                    "StoreName": "Steel Inc.",
                                    "TerritoryName": "France"
                                },
                                {
                                    "StoreName": "The Bike Outlet",
                                    "TerritoryName": "France"
                                },
                                {
                                    "StoreName": "Township Inn",
                                    "TerritoryName": "France"
                                },
                                {
                                    "StoreName": "Ultimate Bicycle Company",
                                    "TerritoryName": "France"
                                },
                                {
                                    "StoreName": "Wheels Inc.",
                                    "TerritoryName": "France"
                                },
                                {
                                    "StoreName": "Amalgamated Parts Shop",
                                    "TerritoryName": "Germany"
                                },
                                {
                                    "StoreName": "Best Cycle Store",
                                    "TerritoryName": "Germany"
                                },
                                {
                                    "StoreName": "Bicycle Exporters",
                                    "TerritoryName": "Germany"
                                },
                                {
                                    "StoreName": "Bicycle Warehouse Inc.",
                                    "TerritoryName": "Germany"
                                },
                                {
                                    "StoreName": "Capital Riding Supplies",
                                    "TerritoryName": "Germany"
                                },
                                {
                                    "StoreName": "Educational Services",
                                    "TerritoryName": "Germany"
                                },
                                {
                                    "StoreName": "Enterprise Center",
                                    "TerritoryName": "Germany"
                                },
                                {
                                    "StoreName": "Excellent Bikes",
                                    "TerritoryName": "Germany"
                                },
                                {
                                    "StoreName": "Fabrikam Inc., East",
                                    "TerritoryName": "Germany"
                                },
                                {
                                    "StoreName": "Fast Services",
                                    "TerritoryName": "Germany"
                                },
                                {
                                    "StoreName": "Fitness Toys",
                                    "TerritoryName": "Germany"
                                },
                                {
                                    "StoreName": "Functional Store South",
                                    "TerritoryName": "Germany"
                                },
                                {
                                    "StoreName": "Global Bike Retailers",
                                    "TerritoryName": "Germany"
                                },
                                {
                                    "StoreName": "Good Bicycle Store",
                                    "TerritoryName": "Germany"
                                },
                                {
                                    "StoreName": "Hometown Riding Supplies",
                                    "TerritoryName": "Germany"
                                },
                                {
                                    "StoreName": "Irregulars Outlet",
                                    "TerritoryName": "Germany"
                                },
                                {
                                    "StoreName": "Links Works",
                                    "TerritoryName": "Germany"
                                },
                                {
                                    "StoreName": "Lustrous Paints and Components",
                                    "TerritoryName": "Germany"
                                },
                                {
                                    "StoreName": "Major Equipment Co",
                                    "TerritoryName": "Germany"
                                },
                                {
                                    "StoreName": "Mechanical Brake Manufacturers",
                                    "TerritoryName": "Germany"
                                },
                                {
                                    "StoreName": "Nearby Bike Mall",
                                    "TerritoryName": "Germany"
                                },
                                {
                                    "StoreName": "Next Door Cycles",
                                    "TerritoryName": "Germany"
                                },
                                {
                                    "StoreName": "North Bike Company",
                                    "TerritoryName": "Germany"
                                },
                                {
                                    "StoreName": "Off-Price Bike Center",
                                    "TerritoryName": "Germany"
                                },
                                {
                                    "StoreName": "Pedaling Components",
                                    "TerritoryName": "Germany"
                                },
                                {
                                    "StoreName": "Precision Gears Inc.",
                                    "TerritoryName": "Germany"
                                },
                                {
                                    "StoreName": "Primary Cycle Shop",
                                    "TerritoryName": "Germany"
                                },
                                {
                                    "StoreName": "Producer Goods Clearinghouse",
                                    "TerritoryName": "Germany"
                                },
                                {
                                    "StoreName": "Rambling Tours",
                                    "TerritoryName": "Germany"
                                },
                                {
                                    "StoreName": "Regional Cycle Shop",
                                    "TerritoryName": "Germany"
                                },
                                {
                                    "StoreName": "Rodeway Bike Store",
                                    "TerritoryName": "Germany"
                                },
                                {
                                    "StoreName": "Rural Sporting Goods",
                                    "TerritoryName": "Germany"
                                },
                                {
                                    "StoreName": "Rustic Bike Store",
                                    "TerritoryName": "Germany"
                                },
                                {
                                    "StoreName": "Showcase for Cycles",
                                    "TerritoryName": "Germany"
                                },
                                {
                                    "StoreName": "Speedometer Sales",
                                    "TerritoryName": "Germany"
                                },
                                {
                                    "StoreName": "Teen Discount Store",
                                    "TerritoryName": "Germany"
                                },
                                {
                                    "StoreName": "Top of the Line Bikes",
                                    "TerritoryName": "Germany"
                                },
                                {
                                    "StoreName": "Versatile Sporting Goods Company",
                                    "TerritoryName": "Germany"
                                },
                                {
                                    "StoreName": "Very Best Sports Supply",
                                    "TerritoryName": "Germany"
                                },
                                {
                                    "StoreName": "West Wind Distributors",
                                    "TerritoryName": "Germany"
                                },
                                {
                                    "StoreName": "A Bicycle Association",
                                    "TerritoryName": "Northeast"
                                },
                                {
                                    "StoreName": "Active Cycling",
                                    "TerritoryName": "Northeast"
                                },
                                {
                                    "StoreName": "Active Transport Inc.",
                                    "TerritoryName": "Northeast"
                                },
                                {
                                    "StoreName": "Bicycle Outfitters",
                                    "TerritoryName": "Northeast"
                                },
                                {
                                    "StoreName": "Bike Boutique",
                                    "TerritoryName": "Northeast"
                                },
                                {
                                    "StoreName": "Bikes Anyone?",
                                    "TerritoryName": "Northeast"
                                },
                                {
                                    "StoreName": "Casual Bicycle Store",
                                    "TerritoryName": "Northeast"
                                },
                                {
                                    "StoreName": "Classic Cycle Store",
                                    "TerritoryName": "Northeast"
                                },
                                {
                                    "StoreName": "Convenient Bike Shop",
                                    "TerritoryName": "Northeast"
                                },
                                {
                                    "StoreName": "Curbside Universe",
                                    "TerritoryName": "Northeast"
                                },
                                {
                                    "StoreName": "Eastside Sporting Goods",
                                    "TerritoryName": "Northeast"
                                },
                                {
                                    "StoreName": "Economic Parts Supply",
                                    "TerritoryName": "Northeast"
                                },
                                {
                                    "StoreName": "Eleventh Bike Store",
                                    "TerritoryName": "Northeast"
                                },
                                {
                                    "StoreName": "Endurance Bikes",
                                    "TerritoryName": "Northeast"
                                },
                                {
                                    "StoreName": "Executive Gift Store",
                                    "TerritoryName": "Northeast"
                                },
                                {
                                    "StoreName": "Exotic Bikes",
                                    "TerritoryName": "Northeast"
                                },
                                {
                                    "StoreName": "Expert Sports Store",
                                    "TerritoryName": "Northeast"
                                },
                                {
                                    "StoreName": "Famous Bike Sales and Service",
                                    "TerritoryName": "Northeast"
                                },
                                {
                                    "StoreName": "Fashionable Department Stores",
                                    "TerritoryName": "Northeast"
                                },
                                {
                                    "StoreName": "Fitness Sport Boutique",
                                    "TerritoryName": "Northeast"
                                },
                                {
                                    "StoreName": "Fourth Bike Store",
                                    "TerritoryName": "Northeast"
                                },
                                {
                                    "StoreName": "Glossy Bikes",
                                    "TerritoryName": "Northeast"
                                },
                                {
                                    "StoreName": "Grand Discount Store",
                                    "TerritoryName": "Northeast"
                                },
                                {
                                    "StoreName": "Grown-up Bike Store",
                                    "TerritoryName": "Northeast"
                                },
                                {
                                    "StoreName": "Guaranteed Sales and Service",
                                    "TerritoryName": "Northeast"
                                },
                                {
                                    "StoreName": "Immediate Repair Shop",
                                    "TerritoryName": "Northeast"
                                },
                                {
                                    "StoreName": "Incomparable Bicycle Store",
                                    "TerritoryName": "Northeast"
                                },
                                {
                                    "StoreName": "Independent Outlet",
                                    "TerritoryName": "Northeast"
                                },
                                {
                                    "StoreName": "Larger Cycle Shop",
                                    "TerritoryName": "Northeast"
                                },
                                {
                                    "StoreName": "Lease-a-Bike Shop",
                                    "TerritoryName": "Northeast"
                                },
                                {
                                    "StoreName": "Leather and Vinyl Manufacturing",
                                    "TerritoryName": "Northeast"
                                },
                                {
                                    "StoreName": "Margie's Travel",
                                    "TerritoryName": "Northeast"
                                },
                                {
                                    "StoreName": "Mechanical Sports Center",
                                    "TerritoryName": "Northeast"
                                },
                                {
                                    "StoreName": "Metropolitan Sales and Rental",
                                    "TerritoryName": "Northeast"
                                },
                                {
                                    "StoreName": "Mobile Outlet",
                                    "TerritoryName": "Northeast"
                                },
                                {
                                    "StoreName": "Modern Bike Store",
                                    "TerritoryName": "Northeast"
                                },
                                {
                                    "StoreName": "Mountain Bike Store",
                                    "TerritoryName": "Northeast"
                                },
                                {
                                    "StoreName": "Only Bikes and Accessories",
                                    "TerritoryName": "Northeast"
                                },
                                {
                                    "StoreName": "Outdoor Distributors",
                                    "TerritoryName": "Northeast"
                                },
                                {
                                    "StoreName": "Outdoor Equipment Store",
                                    "TerritoryName": "Northeast"
                                },
                                {
                                    "StoreName": "Painters Bicycle Specialists",
                                    "TerritoryName": "Northeast"
                                },
                                {
                                    "StoreName": "Professional Sporting Goods",
                                    "TerritoryName": "Northeast"
                                },
                                {
                                    "StoreName": "Purchase Mart",
                                    "TerritoryName": "Northeast"
                                },
                                {
                                    "StoreName": "Recreation Systems",
                                    "TerritoryName": "Northeast"
                                },
                                {
                                    "StoreName": "Retail Sales and Service",
                                    "TerritoryName": "Northeast"
                                },
                                {
                                    "StoreName": "Riverside Company",
                                    "TerritoryName": "Northeast"
                                },
                                {
                                    "StoreName": "Seventh Bike Store",
                                    "TerritoryName": "Northeast"
                                },
                                {
                                    "StoreName": "Small Bike Accessories Shop",
                                    "TerritoryName": "Northeast"
                                },
                                {
                                    "StoreName": "Strong Metal Manufacturing",
                                    "TerritoryName": "Northeast"
                                },
                                {
                                    "StoreName": "Super Sports Store",
                                    "TerritoryName": "Northeast"
                                },
                                {
                                    "StoreName": "The Bike Mechanics",
                                    "TerritoryName": "Northeast"
                                },
                                {
                                    "StoreName": "Tire Company",
                                    "TerritoryName": "Northeast"
                                },
                                {
                                    "StoreName": "Traditional Department Stores",
                                    "TerritoryName": "Northeast"
                                },
                                {
                                    "StoreName": "Weekend Tours",
                                    "TerritoryName": "Northeast"
                                },
                                {
                                    "StoreName": "Wheelsets Storehouse",
                                    "TerritoryName": "Northeast"
                                },
                                {
                                    "StoreName": "Wholesale Bikes",
                                    "TerritoryName": "Northeast"
                                },
                                {
                                    "StoreName": "A Bike Store",
                                    "TerritoryName": "Northwest"
                                },
                                {
                                    "StoreName": "A Cycle Shop",
                                    "TerritoryName": "Northwest"
                                },
                                {
                                    "StoreName": "All Cycle Shop",
                                    "TerritoryName": "Northwest"
                                },
                                {
                                    "StoreName": "Alternative Vehicles",
                                    "TerritoryName": "Northwest"
                                },
                                {
                                    "StoreName": "Another Bicycle Company",
                                    "TerritoryName": "Northwest"
                                },
                                {
                                    "StoreName": "Associated Bikes",
                                    "TerritoryName": "Northwest"
                                },
                                {
                                    "StoreName": "Authorized Bike Sales and Rental",
                                    "TerritoryName": "Northwest"
                                },
                                {
                                    "StoreName": "Basic Bike Company",
                                    "TerritoryName": "Northwest"
                                },
                                {
                                    "StoreName": "Bicycle Accessories and Kits",
                                    "TerritoryName": "Northwest"
                                },
                                {
                                    "StoreName": "Bike Experts",
                                    "TerritoryName": "Northwest"
                                },
                                {
                                    "StoreName": "Brakes and Gears",
                                    "TerritoryName": "Northwest"
                                },
                                {
                                    "StoreName": "Brightwork Company",
                                    "TerritoryName": "Northwest"
                                },
                                {
                                    "StoreName": "Capable Sales and Service",
                                    "TerritoryName": "Northwest"
                                },
                                {
                                    "StoreName": "Center Cycle Shop",
                                    "TerritoryName": "Northwest"
                                },
                                {
                                    "StoreName": "Central Discount Store",
                                    "TerritoryName": "Northwest"
                                },
                                {
                                    "StoreName": "Certified Bicycle Supply",
                                    "TerritoryName": "Northwest"
                                },
                                {
                                    "StoreName": "City Manufacturing",
                                    "TerritoryName": "Northwest"
                                },
                                {
                                    "StoreName": "Closeout Boutique",
                                    "TerritoryName": "Northwest"
                                },
                                {
                                    "StoreName": "Coho Sports",
                                    "TerritoryName": "Northwest"
                                },
                                {
                                    "StoreName": "Commendable Bikes",
                                    "TerritoryName": "Northwest"
                                },
                                {
                                    "StoreName": "Convenient Sales and Service",
                                    "TerritoryName": "Northwest"
                                },
                                {
                                    "StoreName": "Countryside Company",
                                    "TerritoryName": "Northwest"
                                },
                                {
                                    "StoreName": "Cycle Clearance",
                                    "TerritoryName": "Northwest"
                                },
                                {
                                    "StoreName": "Demand Distributors",
                                    "TerritoryName": "Northwest"
                                },
                                {
                                    "StoreName": "Downtown Hotel",
                                    "TerritoryName": "Northwest"
                                },
                                {
                                    "StoreName": "Fad Outlet",
                                    "TerritoryName": "Northwest"
                                },
                                {
                                    "StoreName": "Family Entertainment Center",
                                    "TerritoryName": "Northwest"
                                },
                                {
                                    "StoreName": "Fashionable Bikes and Accessories",
                                    "TerritoryName": "Northwest"
                                },
                                {
                                    "StoreName": "Fifth Bike Store",
                                    "TerritoryName": "Northwest"
                                },
                                {
                                    "StoreName": "Finer Mart",
                                    "TerritoryName": "Northwest"
                                },
                                {
                                    "StoreName": "Finer Parts Shop",
                                    "TerritoryName": "Northwest"
                                },
                                {
                                    "StoreName": "First Department Stores",
                                    "TerritoryName": "Northwest"
                                },
                                {
                                    "StoreName": "Fitness Supplies",
                                    "TerritoryName": "Northwest"
                                },
                                {
                                    "StoreName": "Friendly Bike Shop",
                                    "TerritoryName": "Northwest"
                                },
                                {
                                    "StoreName": "Front Sporting Goods",
                                    "TerritoryName": "Northwest"
                                },
                                {
                                    "StoreName": "Frugal Bike Shop",
                                    "TerritoryName": "Northwest"
                                },
                                {
                                    "StoreName": "Grand Cycle Store",
                                    "TerritoryName": "Northwest"
                                },
                                {
                                    "StoreName": "Great Bikes ",
                                    "TerritoryName": "Northwest"
                                },
                                {
                                    "StoreName": "Honest Repair Service",
                                    "TerritoryName": "Northwest"
                                },
                                {
                                    "StoreName": "Imaginary Toys",
                                    "TerritoryName": "Northwest"
                                },
                                {
                                    "StoreName": "Imported and Domestic Cycles",
                                    "TerritoryName": "Northwest"
                                },
                                {
                                    "StoreName": "Impromptu Trips",
                                    "TerritoryName": "Northwest"
                                },
                                {
                                    "StoreName": "Kickstands and Accessories Company",
                                    "TerritoryName": "Northwest"
                                },
                                {
                                    "StoreName": "Latest Accessories Sales",
                                    "TerritoryName": "Northwest"
                                },
                                {
                                    "StoreName": "Latest Sports Equipment",
                                    "TerritoryName": "Northwest"
                                },
                                {
                                    "StoreName": "Mail-Order Outlet",
                                    "TerritoryName": "Northwest"
                                },
                                {
                                    "StoreName": "Major Sport Suppliers",
                                    "TerritoryName": "Northwest"
                                },
                                {
                                    "StoreName": "Metro Cycle Shop",
                                    "TerritoryName": "Northwest"
                                },
                                {
                                    "StoreName": "Moderately-Priced Bikes Store",
                                    "TerritoryName": "Northwest"
                                },
                                {
                                    "StoreName": "Nonskid Tire Company",
                                    "TerritoryName": "Northwest"
                                },
                                {
                                    "StoreName": "Official Parts Shop",
                                    "TerritoryName": "Northwest"
                                },
                                {
                                    "StoreName": "Outdoor Sports Supply",
                                    "TerritoryName": "Northwest"
                                },
                                {
                                    "StoreName": "Outstanding Cycles",
                                    "TerritoryName": "Northwest"
                                },
                                {
                                    "StoreName": "Parcel Express Delivery Service",
                                    "TerritoryName": "Northwest"
                                },
                                {
                                    "StoreName": "Permanent Finish Products",
                                    "TerritoryName": "Northwest"
                                },
                                {
                                    "StoreName": "Progressive Sports",
                                    "TerritoryName": "Northwest"
                                },
                                {
                                    "StoreName": "Racing Bike Outlet",
                                    "TerritoryName": "Northwest"
                                },
                                {
                                    "StoreName": "Raw Materials Inc",
                                    "TerritoryName": "Northwest"
                                },
                                {
                                    "StoreName": "Remarkable Bike Store",
                                    "TerritoryName": "Northwest"
                                },
                                {
                                    "StoreName": "Retail Sporting Goods",
                                    "TerritoryName": "Northwest"
                                },
                                {
                                    "StoreName": "Riding Associates",
                                    "TerritoryName": "Northwest"
                                },
                                {
                                    "StoreName": "Roadway Bike Emporium",
                                    "TerritoryName": "Northwest"
                                },
                                {
                                    "StoreName": "Road-Way Mart",
                                    "TerritoryName": "Northwest"
                                },
                                {
                                    "StoreName": "Roadway Supplies",
                                    "TerritoryName": "Northwest"
                                },
                                {
                                    "StoreName": "Roving Sports",
                                    "TerritoryName": "Northwest"
                                },
                                {
                                    "StoreName": "Rugged Bikes",
                                    "TerritoryName": "Northwest"
                                },
                                {
                                    "StoreName": "Running and Cycling Gear",
                                    "TerritoryName": "Northwest"
                                },
                                {
                                    "StoreName": "Safe Cycles Shop",
                                    "TerritoryName": "Northwest"
                                },
                                {
                                    "StoreName": "Scooters and Bikes Store",
                                    "TerritoryName": "Northwest"
                                },
                                {
                                    "StoreName": "Security Racks and Locks Wholesalers",
                                    "TerritoryName": "Northwest"
                                },
                                {
                                    "StoreName": "Sellers of Cycles",
                                    "TerritoryName": "Northwest"
                                },
                                {
                                    "StoreName": "Some Discount Store",
                                    "TerritoryName": "Northwest"
                                },
                                {
                                    "StoreName": "Sports Commodities",
                                    "TerritoryName": "Northwest"
                                },
                                {
                                    "StoreName": "Sports Merchandise",
                                    "TerritoryName": "Northwest"
                                },
                                {
                                    "StoreName": "Stock Parts and Supplies",
                                    "TerritoryName": "Northwest"
                                },
                                {
                                    "StoreName": "Suburban Cycle Shop",
                                    "TerritoryName": "Northwest"
                                },
                                {
                                    "StoreName": "Successful Sales Company",
                                    "TerritoryName": "Northwest"
                                },
                                {
                                    "StoreName": "Superior Hardware Distributors",
                                    "TerritoryName": "Northwest"
                                },
                                {
                                    "StoreName": "Sure & Reliable Sporting Goods",
                                    "TerritoryName": "Northwest"
                                },
                                {
                                    "StoreName": "Synthetic Materials Manufacturing",
                                    "TerritoryName": "Northwest"
                                },
                                {
                                    "StoreName": "The Bike Shop",
                                    "TerritoryName": "Northwest"
                                },
                                {
                                    "StoreName": "Thorough Parts and Repair Services",
                                    "TerritoryName": "Northwest"
                                },
                                {
                                    "StoreName": "Tires and Tubes",
                                    "TerritoryName": "Northwest"
                                },
                                {
                                    "StoreName": "Transport Bikes",
                                    "TerritoryName": "Northwest"
                                },
                                {
                                    "StoreName": "Travel Sports",
                                    "TerritoryName": "Northwest"
                                },
                                {
                                    "StoreName": "Two Bike Shops",
                                    "TerritoryName": "Northwest"
                                },
                                {
                                    "StoreName": "Utilitarian Sporting Goods",
                                    "TerritoryName": "Northwest"
                                },
                                {
                                    "StoreName": "Vast Bike Sales and Rental",
                                    "TerritoryName": "Northwest"
                                },
                                {
                                    "StoreName": "Vintage Sport Boutique",
                                    "TerritoryName": "Northwest"
                                },
                                {
                                    "StoreName": "Western Bike Supplies",
                                    "TerritoryName": "Northwest"
                                },
                                {
                                    "StoreName": "Wingtip Toys",
                                    "TerritoryName": "Northwest"
                                },
                                {
                                    "StoreName": "Year-Round Sports",
                                    "TerritoryName": "Northwest"
                                },
                                {
                                    "StoreName": "Acclaimed Bicycle Company",
                                    "TerritoryName": "Southeast"
                                },
                                {
                                    "StoreName": "Activity Center",
                                    "TerritoryName": "Southeast"
                                },
                                {
                                    "StoreName": "Better Bike Shop",
                                    "TerritoryName": "Southeast"
                                },
                                {
                                    "StoreName": "Bike Goods ",
                                    "TerritoryName": "Southeast"
                                },
                                {
                                    "StoreName": "Bike Products and Accessories",
                                    "TerritoryName": "Southeast"
                                },
                                {
                                    "StoreName": "Bike Rims Company",
                                    "TerritoryName": "Southeast"
                                },
                                {
                                    "StoreName": "Blue-Ribbon Bike Company",
                                    "TerritoryName": "Southeast"
                                },
                                {
                                    "StoreName": "Budget Bike Company",
                                    "TerritoryName": "Southeast"
                                },
                                {
                                    "StoreName": "Chain and Chain Tool Distributions",
                                    "TerritoryName": "Southeast"
                                },
                                {
                                    "StoreName": "Clamps & Brackets Co.",
                                    "TerritoryName": "Southeast"
                                },
                                {
                                    "StoreName": "Consolidated Sales",
                                    "TerritoryName": "Southeast"
                                },
                                {
                                    "StoreName": "Cycles and Scooters",
                                    "TerritoryName": "Southeast"
                                },
                                {
                                    "StoreName": "Daring Rides",
                                    "TerritoryName": "Southeast"
                                },
                                {
                                    "StoreName": "Distance Bikes",
                                    "TerritoryName": "Southeast"
                                },
                                {
                                    "StoreName": "Distinctive Cycles Sales & Service",
                                    "TerritoryName": "Southeast"
                                },
                                {
                                    "StoreName": "eCommerce Bikes",
                                    "TerritoryName": "Southeast"
                                },
                                {
                                    "StoreName": "Eighty Toy Stores",
                                    "TerritoryName": "Southeast"
                                },
                                {
                                    "StoreName": "Elemental Sporting Goods",
                                    "TerritoryName": "Southeast"
                                },
                                {
                                    "StoreName": "Every Bike Shop",
                                    "TerritoryName": "Southeast"
                                },
                                {
                                    "StoreName": "Excellent Riding Supplies",
                                    "TerritoryName": "Southeast"
                                },
                                {
                                    "StoreName": "Exchange Parts Inc.",
                                    "TerritoryName": "Southeast"
                                },
                                {
                                    "StoreName": "Executive Discount Store",
                                    "TerritoryName": "Southeast"
                                },
                                {
                                    "StoreName": "Exemplary Cycles",
                                    "TerritoryName": "Southeast"
                                },
                                {
                                    "StoreName": "Extreme Toy Store",
                                    "TerritoryName": "Southeast"
                                },
                                {
                                    "StoreName": "Front Runner Bikes",
                                    "TerritoryName": "Southeast"
                                },
                                {
                                    "StoreName": "Functional Store North",
                                    "TerritoryName": "Southeast"
                                },
                                {
                                    "StoreName": "Games and Sport Supply Company",
                                    "TerritoryName": "Southeast"
                                },
                                {
                                    "StoreName": "General Associates",
                                    "TerritoryName": "Southeast"
                                },
                                {
                                    "StoreName": "Global Plaza",
                                    "TerritoryName": "Southeast"
                                },
                                {
                                    "StoreName": "Hobby Store",
                                    "TerritoryName": "Southeast"
                                },
                                {
                                    "StoreName": "Industrial Supplies",
                                    "TerritoryName": "Southeast"
                                },
                                {
                                    "StoreName": "Juvenile Sports Equipment",
                                    "TerritoryName": "Southeast"
                                },
                                {
                                    "StoreName": "Leading Bike Distributors",
                                    "TerritoryName": "Southeast"
                                },
                                {
                                    "StoreName": "Lubricant and Grease Suppliers",
                                    "TerritoryName": "Southeast"
                                },
                                {
                                    "StoreName": "Manufacturers Inc",
                                    "TerritoryName": "Southeast"
                                },
                                {
                                    "StoreName": "Metro Bike Mart",
                                    "TerritoryName": "Southeast"
                                },
                                {
                                    "StoreName": "Mountain Emporium",
                                    "TerritoryName": "Southeast"
                                },
                                {
                                    "StoreName": "New and Used Bicycles",
                                    "TerritoryName": "Southeast"
                                },
                                {
                                    "StoreName": "New Bikes Company",
                                    "TerritoryName": "Southeast"
                                },
                                {
                                    "StoreName": "Next-Door Bike Store",
                                    "TerritoryName": "Southeast"
                                },
                                {
                                    "StoreName": "Noiseless Gear Company",
                                    "TerritoryName": "Southeast"
                                },
                                {
                                    "StoreName": "One-Piece Handle Bars",
                                    "TerritoryName": "Southeast"
                                },
                                {
                                    "StoreName": "Optimal Bikes",
                                    "TerritoryName": "Southeast"
                                },
                                {
                                    "StoreName": "Parts Shop",
                                    "TerritoryName": "Southeast"
                                },
                                {
                                    "StoreName": "Pedal Systems Company",
                                    "TerritoryName": "Southeast"
                                },
                                {
                                    "StoreName": "Pedals Warehouse",
                                    "TerritoryName": "Southeast"
                                },
                                {
                                    "StoreName": "Principal Bicycle Supply",
                                    "TerritoryName": "Southeast"
                                },
                                {
                                    "StoreName": "Qualified Sales and Repair Services",
                                    "TerritoryName": "Southeast"
                                },
                                {
                                    "StoreName": "Quitting Business Distributors",
                                    "TerritoryName": "Southeast"
                                },
                                {
                                    "StoreName": "Racing Association",
                                    "TerritoryName": "Southeast"
                                },
                                {
                                    "StoreName": "Racks and Security Systems",
                                    "TerritoryName": "Southeast"
                                },
                                {
                                    "StoreName": "Rally Day Mall",
                                    "TerritoryName": "Southeast"
                                },
                                {
                                    "StoreName": "Recreation Supplies",
                                    "TerritoryName": "Southeast"
                                },
                                {
                                    "StoreName": "Reliable Brake Systems",
                                    "TerritoryName": "Southeast"
                                },
                                {
                                    "StoreName": "Resident Cycle Shop",
                                    "TerritoryName": "Southeast"
                                },
                                {
                                    "StoreName": "Retail Toy Store",
                                    "TerritoryName": "Southeast"
                                },
                                {
                                    "StoreName": "Retirement Activities Association",
                                    "TerritoryName": "Southeast"
                                },
                                {
                                    "StoreName": "Retread Tire Company",
                                    "TerritoryName": "Southeast"
                                },
                                {
                                    "StoreName": "Sales and Supply Company",
                                    "TerritoryName": "Southeast"
                                },
                                {
                                    "StoreName": "Selected Distributors",
                                    "TerritoryName": "Southeast"
                                },
                                {
                                    "StoreName": "Sensational Discount Store",
                                    "TerritoryName": "Southeast"
                                },
                                {
                                    "StoreName": "Simple Bike Parts",
                                    "TerritoryName": "Southeast"
                                },
                                {
                                    "StoreName": "Spoke Manufacturers",
                                    "TerritoryName": "Southeast"
                                },
                                {
                                    "StoreName": "Sporting Goods and Bicycle Shop",
                                    "TerritoryName": "Southeast"
                                },
                                {
                                    "StoreName": "Sports Sales and Rental",
                                    "TerritoryName": "Southeast"
                                },
                                {
                                    "StoreName": "Stylish Department Stores",
                                    "TerritoryName": "Southeast"
                                },
                                {
                                    "StoreName": "Sunny Place Bikes",
                                    "TerritoryName": "Southeast"
                                },
                                {
                                    "StoreName": "Superlative Bikes",
                                    "TerritoryName": "Southeast"
                                },
                                {
                                    "StoreName": "Tandem Bicycle Store",
                                    "TerritoryName": "Southeast"
                                },
                                {
                                    "StoreName": "The Cycle Store",
                                    "TerritoryName": "Southeast"
                                },
                                {
                                    "StoreName": "Tiny Bike Boutique",
                                    "TerritoryName": "Southeast"
                                },
                                {
                                    "StoreName": "Topnotch Bikes",
                                    "TerritoryName": "Southeast"
                                },
                                {
                                    "StoreName": "Tough and Reliable Parts",
                                    "TerritoryName": "Southeast"
                                },
                                {
                                    "StoreName": "Touring Services",
                                    "TerritoryName": "Southeast"
                                },
                                {
                                    "StoreName": "Tread Industries",
                                    "TerritoryName": "Southeast"
                                },
                                {
                                    "StoreName": "Trusted Catalog Store",
                                    "TerritoryName": "Southeast"
                                },
                                {
                                    "StoreName": "Ultimate Bike Shop",
                                    "TerritoryName": "Southeast"
                                },
                                {
                                    "StoreName": "Underglaze and Finish Company",
                                    "TerritoryName": "Southeast"
                                },
                                {
                                    "StoreName": "Unified Sports Company",
                                    "TerritoryName": "Southeast"
                                },
                                {
                                    "StoreName": "Valuable Bike Parts Company",
                                    "TerritoryName": "Southeast"
                                },
                                {
                                    "StoreName": "Variety Bike Outlet",
                                    "TerritoryName": "Southeast"
                                },
                                {
                                    "StoreName": "Village Tours",
                                    "TerritoryName": "Southeast"
                                },
                                {
                                    "StoreName": "Widget Bicycle Specialists",
                                    "TerritoryName": "Southeast"
                                },
                                {
                                    "StoreName": "Wonderful Bikes Inc.",
                                    "TerritoryName": "Southeast"
                                },
                                {
                                    "StoreName": "Worthwhile Activity Store",
                                    "TerritoryName": "Southeast"
                                },
                                {
                                    "StoreName": "A Typical Bike Shop",
                                    "TerritoryName": "Southwest"
                                },
                                {
                                    "StoreName": "Advanced Bike Components",
                                    "TerritoryName": "Southwest"
                                },
                                {
                                    "StoreName": "Aerobic Exercise Company",
                                    "TerritoryName": "Southwest"
                                },
                                {
                                    "StoreName": "Affordable Sports Equipment",
                                    "TerritoryName": "Southwest"
                                },
                                {
                                    "StoreName": "All Seasons Sports Supply",
                                    "TerritoryName": "Southwest"
                                },
                                {
                                    "StoreName": "Alpine Ski House",
                                    "TerritoryName": "Southwest"
                                },
                                {
                                    "StoreName": "Area Bike Accessories",
                                    "TerritoryName": "Southwest"
                                },
                                {
                                    "StoreName": "Basic Sports Equipment",
                                    "TerritoryName": "Southwest"
                                },
                                {
                                    "StoreName": "Beneficial Exercises and Activities",
                                    "TerritoryName": "Southwest"
                                },
                                {
                                    "StoreName": "Bicycle Merchandise Warehouse",
                                    "TerritoryName": "Southwest"
                                },
                                {
                                    "StoreName": "Big Cycle Mall",
                                    "TerritoryName": "Southwest"
                                },
                                {
                                    "StoreName": "Big-Time Bike Store",
                                    "TerritoryName": "Southwest"
                                },
                                {
                                    "StoreName": "Bike Dealers Association",
                                    "TerritoryName": "Southwest"
                                },
                                {
                                    "StoreName": "Bike Universe",
                                    "TerritoryName": "Southwest"
                                },
                                {
                                    "StoreName": "Bike World",
                                    "TerritoryName": "Southwest"
                                },
                                {
                                    "StoreName": "Brown Bicycle Company",
                                    "TerritoryName": "Southwest"
                                },
                                {
                                    "StoreName": "Cash & Carry Bikes",
                                    "TerritoryName": "Southwest"
                                },
                                {
                                    "StoreName": "Chic Department Stores",
                                    "TerritoryName": "Southwest"
                                },
                                {
                                    "StoreName": "Coalition Bike Company",
                                    "TerritoryName": "Southwest"
                                },
                                {
                                    "StoreName": "Commercial Sporting Goods",
                                    "TerritoryName": "Southwest"
                                },
                                {
                                    "StoreName": "Contoso, Ltd.",
                                    "TerritoryName": "Southwest"
                                },
                                {
                                    "StoreName": "Curbside Sporting Goods",
                                    "TerritoryName": "Southwest"
                                },
                                {
                                    "StoreName": "Designer Department Stores",
                                    "TerritoryName": "Southwest"
                                },
                                {
                                    "StoreName": "Discount Tours",
                                    "TerritoryName": "Southwest"
                                },
                                {
                                    "StoreName": "Distant Inn",
                                    "TerritoryName": "Southwest"
                                },
                                {
                                    "StoreName": "Distinctive Store",
                                    "TerritoryName": "Southwest"
                                },
                                {
                                    "StoreName": "Eastside Department Store",
                                    "TerritoryName": "Southwest"
                                },
                                {
                                    "StoreName": "Economy Bikes Company",
                                    "TerritoryName": "Southwest"
                                },
                                {
                                    "StoreName": "Eighth Bike Store",
                                    "TerritoryName": "Southwest"
                                },
                                {
                                    "StoreName": "Elite Bikes",
                                    "TerritoryName": "Southwest"
                                },
                                {
                                    "StoreName": "Engineered Bike Systems",
                                    "TerritoryName": "Southwest"
                                },
                                {
                                    "StoreName": "Exercise Center",
                                    "TerritoryName": "Southwest"
                                },
                                {
                                    "StoreName": "Exertion Activities Club",
                                    "TerritoryName": "Southwest"
                                },
                                {
                                    "StoreName": "Extended Bike Sales",
                                    "TerritoryName": "Southwest"
                                },
                                {
                                    "StoreName": "Extraordinary Bike Works",
                                    "TerritoryName": "Southwest"
                                },
                                {
                                    "StoreName": "Extreme Riding Supplies",
                                    "TerritoryName": "Southwest"
                                },
                                {
                                    "StoreName": "Farthermost Bike Shop",
                                    "TerritoryName": "Southwest"
                                },
                                {
                                    "StoreName": "Finish and Sealant Products",
                                    "TerritoryName": "Southwest"
                                },
                                {
                                    "StoreName": "First Cycle Store",
                                    "TerritoryName": "Southwest"
                                },
                                {
                                    "StoreName": "Fitness Cycling",
                                    "TerritoryName": "Southwest"
                                },
                                {
                                    "StoreName": "Fitness Department Stores",
                                    "TerritoryName": "Southwest"
                                },
                                {
                                    "StoreName": "Fitness Toy Store",
                                    "TerritoryName": "Southwest"
                                },
                                {
                                    "StoreName": "Flawless Bike Shop",
                                    "TerritoryName": "Southwest"
                                },
                                {
                                    "StoreName": "Fleet Bikes",
                                    "TerritoryName": "Southwest"
                                },
                                {
                                    "StoreName": "Fun Toys and Bikes",
                                    "TerritoryName": "Southwest"
                                },
                                {
                                    "StoreName": "Futuristic Bikes",
                                    "TerritoryName": "Southwest"
                                },
                                {
                                    "StoreName": "Genial Bike Associates",
                                    "TerritoryName": "Southwest"
                                },
                                {
                                    "StoreName": "Genuine Bike Shop",
                                    "TerritoryName": "Southwest"
                                },
                                {
                                    "StoreName": "Global Sporting Goods",
                                    "TerritoryName": "Southwest"
                                },
                                {
                                    "StoreName": "Go-cart and Bike Specialists",
                                    "TerritoryName": "Southwest"
                                },
                                {
                                    "StoreName": "Golf and Cycle Store",
                                    "TerritoryName": "Southwest"
                                },
                                {
                                    "StoreName": "Good Toys",
                                    "TerritoryName": "Southwest"
                                },
                                {
                                    "StoreName": "Grand Bicycle Stores",
                                    "TerritoryName": "Southwest"
                                },
                                {
                                    "StoreName": "Grease and Oil Products Company",
                                    "TerritoryName": "Southwest"
                                },
                                {
                                    "StoreName": "Healthy Activity Store",
                                    "TerritoryName": "Southwest"
                                },
                                {
                                    "StoreName": "Highway Bike Shop",
                                    "TerritoryName": "Southwest"
                                },
                                {
                                    "StoreName": "Journey Sporting Goods",
                                    "TerritoryName": "Southwest"
                                },
                                {
                                    "StoreName": "Locks Company",
                                    "TerritoryName": "Southwest"
                                },
                                {
                                    "StoreName": "Main Bicycle Services",
                                    "TerritoryName": "Southwest"
                                },
                                {
                                    "StoreName": "Maintenance and Repair for Bicycles",
                                    "TerritoryName": "Southwest"
                                },
                                {
                                    "StoreName": "Major Sporting Goods",
                                    "TerritoryName": "Southwest"
                                },
                                {
                                    "StoreName": "Many Bikes Store",
                                    "TerritoryName": "Southwest"
                                },
                                {
                                    "StoreName": "Mechanical Products Ltd.",
                                    "TerritoryName": "Southwest"
                                },
                                {
                                    "StoreName": "Metallic Paint and Overcoat Co",
                                    "TerritoryName": "Southwest"
                                },
                                {
                                    "StoreName": "Metropolitan Manufacturing",
                                    "TerritoryName": "Southwest"
                                },
                                {
                                    "StoreName": "Metropolitan Sports Supply",
                                    "TerritoryName": "Southwest"
                                },
                                {
                                    "StoreName": "Modular Cycle Systems",
                                    "TerritoryName": "Southwest"
                                },
                                {
                                    "StoreName": "More Bikes!",
                                    "TerritoryName": "Southwest"
                                },
                                {
                                    "StoreName": "Mountain Bike Center",
                                    "TerritoryName": "Southwest"
                                },
                                {
                                    "StoreName": "Mountain Toy Store",
                                    "TerritoryName": "Southwest"
                                },
                                {
                                    "StoreName": "Number 1 Supply",
                                    "TerritoryName": "Southwest"
                                },
                                {
                                    "StoreName": "Outdoor Sporting Goods",
                                    "TerritoryName": "Southwest"
                                },
                                {
                                    "StoreName": "Paint Supply",
                                    "TerritoryName": "Southwest"
                                },
                                {
                                    "StoreName": "Preferred Bikes",
                                    "TerritoryName": "Southwest"
                                },
                                {
                                    "StoreName": "Principal Bike Company",
                                    "TerritoryName": "Southwest"
                                },
                                {
                                    "StoreName": "Pro Sporting Goods",
                                    "TerritoryName": "Southwest"
                                },
                                {
                                    "StoreName": "Professional Containers and Packaging Co.",
                                    "TerritoryName": "Southwest"
                                },
                                {
                                    "StoreName": "Professional Cycle Store",
                                    "TerritoryName": "Southwest"
                                },
                                {
                                    "StoreName": "Professional Sales and Service",
                                    "TerritoryName": "Southwest"
                                },
                                {
                                    "StoreName": "Quantity Discounts",
                                    "TerritoryName": "Southwest"
                                },
                                {
                                    "StoreName": "Racing Toys",
                                    "TerritoryName": "Southwest"
                                },
                                {
                                    "StoreName": "Rally Master Company Inc",
                                    "TerritoryName": "Southwest"
                                },
                                {
                                    "StoreName": "Real Sporting Goods",
                                    "TerritoryName": "Southwest"
                                },
                                {
                                    "StoreName": "Regional Manufacturing",
                                    "TerritoryName": "Southwest"
                                },
                                {
                                    "StoreName": "Rental Bikes",
                                    "TerritoryName": "Southwest"
                                },
                                {
                                    "StoreName": "Resale Services",
                                    "TerritoryName": "Southwest"
                                },
                                {
                                    "StoreName": "Retail Cycle Shop",
                                    "TerritoryName": "Southwest"
                                },
                                {
                                    "StoreName": "Retail Sporting Equipment",
                                    "TerritoryName": "Southwest"
                                },
                                {
                                    "StoreName": "Riding Excursions",
                                    "TerritoryName": "Southwest"
                                },
                                {
                                    "StoreName": "Rural Department Store",
                                    "TerritoryName": "Southwest"
                                },
                                {
                                    "StoreName": "Rural Sales and Service",
                                    "TerritoryName": "Southwest"
                                },
                                {
                                    "StoreName": "Safe Toys",
                                    "TerritoryName": "Southwest"
                                },
                                {
                                    "StoreName": "Satin Finish Company",
                                    "TerritoryName": "Southwest"
                                },
                                {
                                    "StoreName": "Separate Parts Corporation",
                                    "TerritoryName": "Southwest"
                                },
                                {
                                    "StoreName": "Sheet Metal Manufacturing",
                                    "TerritoryName": "Southwest"
                                },
                                {
                                    "StoreName": "Small Bike Shop",
                                    "TerritoryName": "Southwest"
                                },
                                {
                                    "StoreName": "Social Activities Club",
                                    "TerritoryName": "Southwest"
                                },
                                {
                                    "StoreName": "Solid Bike Parts",
                                    "TerritoryName": "Southwest"
                                },
                                {
                                    "StoreName": "Sparkling Paint and Finishes",
                                    "TerritoryName": "Southwest"
                                },
                                {
                                    "StoreName": "Specialty Sports Store",
                                    "TerritoryName": "Southwest"
                                },
                                {
                                    "StoreName": "Sports Products Store",
                                    "TerritoryName": "Southwest"
                                },
                                {
                                    "StoreName": "Stationary Bikes and Stands",
                                    "TerritoryName": "Southwest"
                                },
                                {
                                    "StoreName": "Strenuous Exercise Shop",
                                    "TerritoryName": "Southwest"
                                },
                                {
                                    "StoreName": "Sturdy Toys",
                                    "TerritoryName": "Southwest"
                                },
                                {
                                    "StoreName": "Swift Cycles",
                                    "TerritoryName": "Southwest"
                                },
                                {
                                    "StoreName": "Systematic Sales",
                                    "TerritoryName": "Southwest"
                                },
                                {
                                    "StoreName": "Technical Parts Manufacturing",
                                    "TerritoryName": "Southwest"
                                },
                                {
                                    "StoreName": "The Bicycle Accessories Company",
                                    "TerritoryName": "Southwest"
                                },
                                {
                                    "StoreName": "The Gear Store",
                                    "TerritoryName": "Southwest"
                                },
                                {
                                    "StoreName": "The New Bike Store",
                                    "TerritoryName": "Southwest"
                                },
                                {
                                    "StoreName": "Third Bike Store",
                                    "TerritoryName": "Southwest"
                                },
                                {
                                    "StoreName": "Thrifty Parts and Sales",
                                    "TerritoryName": "Southwest"
                                },
                                {
                                    "StoreName": "Thrilling Bike Tours",
                                    "TerritoryName": "Southwest"
                                },
                                {
                                    "StoreName": "Timely Shipping Service",
                                    "TerritoryName": "Southwest"
                                },
                                {
                                    "StoreName": "Totes & Baskets Company",
                                    "TerritoryName": "Southwest"
                                },
                                {
                                    "StoreName": "Town Industries",
                                    "TerritoryName": "Southwest"
                                },
                                {
                                    "StoreName": "Traction Tire Company",
                                    "TerritoryName": "Southwest"
                                },
                                {
                                    "StoreName": "Trailblazing Sports",
                                    "TerritoryName": "Southwest"
                                },
                                {
                                    "StoreName": "Trendy Department Stores",
                                    "TerritoryName": "Southwest"
                                },
                                {
                                    "StoreName": "Two Wheels Cycle Store",
                                    "TerritoryName": "Southwest"
                                },
                                {
                                    "StoreName": "Two-Seater Bikes",
                                    "TerritoryName": "Southwest"
                                },
                                {
                                    "StoreName": "Unicycles, Bicycles, and Tricycles",
                                    "TerritoryName": "Southwest"
                                },
                                {
                                    "StoreName": "Unsurpassed Bikes",
                                    "TerritoryName": "Southwest"
                                },
                                {
                                    "StoreName": "Vale Riding Supplies",
                                    "TerritoryName": "Southwest"
                                },
                                {
                                    "StoreName": "Valley Bicycle Distributors",
                                    "TerritoryName": "Southwest"
                                },
                                {
                                    "StoreName": "Vehicle Shop",
                                    "TerritoryName": "Southwest"
                                },
                                {
                                    "StoreName": "Weekend Bike Tours",
                                    "TerritoryName": "Southwest"
                                },
                                {
                                    "StoreName": "Westside Plaza",
                                    "TerritoryName": "Southwest"
                                },
                                {
                                    "StoreName": "Wheel Gallery",
                                    "TerritoryName": "Southwest"
                                },
                                {
                                    "StoreName": "Wire Baskets and Parts",
                                    "TerritoryName": "Southwest"
                                },
                                {
                                    "StoreName": "World Bike Discount Store",
                                    "TerritoryName": "Southwest"
                                },
                                {
                                    "StoreName": "Action Bicycle Specialists",
                                    "TerritoryName": "United Kingdom"
                                },
                                {
                                    "StoreName": "Area Sheet Metal Supply",
                                    "TerritoryName": "United Kingdom"
                                },
                                {
                                    "StoreName": "Authentic Sales and Service",
                                    "TerritoryName": "United Kingdom"
                                },
                                {
                                    "StoreName": "Bulk Discount Store",
                                    "TerritoryName": "United Kingdom"
                                },
                                {
                                    "StoreName": "Central Bicycle Specialists",
                                    "TerritoryName": "United Kingdom"
                                },
                                {
                                    "StoreName": "Channel Outlet",
                                    "TerritoryName": "United Kingdom"
                                },
                                {
                                    "StoreName": "Closest Bicycle Store",
                                    "TerritoryName": "United Kingdom"
                                },
                                {
                                    "StoreName": "Commerce Bicycle Specialists",
                                    "TerritoryName": "United Kingdom"
                                },
                                {
                                    "StoreName": "Consumer Equipment",
                                    "TerritoryName": "United Kingdom"
                                },
                                {
                                    "StoreName": "Cycles Wholesaler & Mfg.",
                                    "TerritoryName": "United Kingdom"
                                },
                                {
                                    "StoreName": "Cycling Goods",
                                    "TerritoryName": "United Kingdom"
                                },
                                {
                                    "StoreName": "Downhill Bicycle Specialists",
                                    "TerritoryName": "United Kingdom"
                                },
                                {
                                    "StoreName": "Essential Bike Works",
                                    "TerritoryName": "United Kingdom"
                                },
                                {
                                    "StoreName": "Exceptional Cycle Services",
                                    "TerritoryName": "United Kingdom"
                                },
                                {
                                    "StoreName": "Exclusive Bicycle Mart",
                                    "TerritoryName": "United Kingdom"
                                },
                                {
                                    "StoreName": "Exhibition Showroom",
                                    "TerritoryName": "United Kingdom"
                                },
                                {
                                    "StoreName": "Express Bike Services",
                                    "TerritoryName": "United Kingdom"
                                },
                                {
                                    "StoreName": "Extended Tours",
                                    "TerritoryName": "United Kingdom"
                                },
                                {
                                    "StoreName": "Instruments and Parts Company",
                                    "TerritoryName": "United Kingdom"
                                },
                                {
                                    "StoreName": "Leisure Clearing House",
                                    "TerritoryName": "United Kingdom"
                                },
                                {
                                    "StoreName": "Little Sports Center",
                                    "TerritoryName": "United Kingdom"
                                },
                                {
                                    "StoreName": "Mail Market",
                                    "TerritoryName": "United Kingdom"
                                },
                                {
                                    "StoreName": "Metro Metals Co.",
                                    "TerritoryName": "United Kingdom"
                                },
                                {
                                    "StoreName": "Metropolitan Bicycle Supply",
                                    "TerritoryName": "United Kingdom"
                                },
                                {
                                    "StoreName": "Nearby Cycle Shop",
                                    "TerritoryName": "United Kingdom"
                                },
                                {
                                    "StoreName": "Nearby Sporting Goods",
                                    "TerritoryName": "United Kingdom"
                                },
                                {
                                    "StoreName": "Number One Bike Co.",
                                    "TerritoryName": "United Kingdom"
                                },
                                {
                                    "StoreName": "Oils and Fluids Warehouse",
                                    "TerritoryName": "United Kingdom"
                                },
                                {
                                    "StoreName": "Outdoor Aerobic Systems Company",
                                    "TerritoryName": "United Kingdom"
                                },
                                {
                                    "StoreName": "Prosperous Tours",
                                    "TerritoryName": "United Kingdom"
                                },
                                {
                                    "StoreName": "Rampart Amusement Company",
                                    "TerritoryName": "United Kingdom"
                                },
                                {
                                    "StoreName": "Riding Cycles",
                                    "TerritoryName": "United Kingdom"
                                },
                                {
                                    "StoreName": "Shipping Specialists",
                                    "TerritoryName": "United Kingdom"
                                },
                                {
                                    "StoreName": "Sports Store",
                                    "TerritoryName": "United Kingdom"
                                },
                                {
                                    "StoreName": "Tachometers and Accessories",
                                    "TerritoryName": "United Kingdom"
                                },
                                {
                                    "StoreName": "Tubeless Tire Company",
                                    "TerritoryName": "United Kingdom"
                                },
                                {
                                    "StoreName": "Uttermost Bike Shop",
                                    "TerritoryName": "United Kingdom"
                                },
                                {
                                    "StoreName": "Variety Cycling",
                                    "TerritoryName": "United Kingdom"
                                },
                                {
                                    "StoreName": "Vigorous Sports Store",
                                    "TerritoryName": "United Kingdom"
                                },
                                {
                                    "StoreName": "West Side Mart",
                                    "TerritoryName": "United Kingdom"
                                }
                            ]
                        },
                        "text/html": [
                            "<table>",
                            "<tr><th>StoreName</th><th>TerritoryName</th></tr>",
                            "<tr><td>Bike Part Wholesalers</td><td>Australia</td></tr>",
                            "<tr><td>Budget Toy Store</td><td>Australia</td></tr>",
                            "<tr><td>Cross-town Parts Shop</td><td>Australia</td></tr>",
                            "<tr><td>Cycle Parts and Accessories</td><td>Australia</td></tr>",
                            "<tr><td>Eastside Cycle Shop</td><td>Australia</td></tr>",
                            "<tr><td>Eastward Bike Accessories</td><td>Australia</td></tr>",
                            "<tr><td>Expert Cycle Store</td><td>Australia</td></tr>",
                            "<tr><td>Fast Bike Works</td><td>Australia</td></tr>",
                            "<tr><td>First Supplies</td><td>Australia</td></tr>",
                            "<tr><td>Fitness Bike Accessories</td><td>Australia</td></tr>",
                            "<tr><td>Fitness Discount Store</td><td>Australia</td></tr>",
                            "<tr><td>Gears and Parts Company</td><td>Australia</td></tr>",
                            "<tr><td>Global Sports Outlet</td><td>Australia</td></tr>",
                            "<tr><td>Helmets and Cycles</td><td>Australia</td></tr>",
                            "<tr><td>Helpful Sales and Repair Service </td><td>Australia</td></tr>",
                            "<tr><td>Ideal Components</td><td>Australia</td></tr>",
                            "<tr><td>Inexpensive Parts Shop</td><td>Australia</td></tr>",
                            "<tr><td>Jumbo Bikes</td><td>Australia</td></tr>",
                            "<tr><td>Kids and Adults Cycle Shop</td><td>Australia</td></tr>",
                            "<tr><td>Liquidation Sales</td><td>Australia</td></tr>",
                            "<tr><td>List Price Catalog Company</td><td>Australia</td></tr>",
                            "<tr><td>Major Bicycle Store</td><td>Australia</td></tr>",
                            "<tr><td>Mass Market Bikes</td><td>Australia</td></tr>",
                            "<tr><td>Nationwide Supply</td><td>Australia</td></tr>",
                            "<tr><td>Nearest Bike Store</td><td>Australia</td></tr>",
                            "<tr><td>Online Bike Catalog</td><td>Australia</td></tr>",
                            "<tr><td>Plastic Products Manufacturers</td><td>Australia</td></tr>",
                            "<tr><td>Popular Bike Lines</td><td>Australia</td></tr>",
                            "<tr><td>Preferable Bikes</td><td>Australia</td></tr>",
                            "<tr><td>Quality Bike Sales</td><td>Australia</td></tr>",
                            "<tr><td>Region Bike Company</td><td>Australia</td></tr>",
                            "<tr><td>Rental Gallery</td><td>Australia</td></tr>",
                            "<tr><td>Rich Department Store</td><td>Australia</td></tr>",
                            "<tr><td>Seaside Bike Works</td><td>Australia</td></tr>",
                            "<tr><td>Second Bike Shop</td><td>Australia</td></tr>",
                            "<tr><td>Sensible Sports</td><td>Australia</td></tr>",
                            "<tr><td>Twin Cycles</td><td>Australia</td></tr>",
                            "<tr><td>Uncompromising Quality Co</td><td>Australia</td></tr>",
                            "<tr><td>Unusual Bicycle Company</td><td>Australia</td></tr>",
                            "<tr><td>Volume Bike Sellers</td><td>Australia</td></tr>",
                            "<tr><td>Acceptable Sales &amp; Service</td><td>Canada</td></tr>",
                            "<tr><td>Active Life Toys</td><td>Canada</td></tr>",
                            "<tr><td>Bikes and Motorbikes</td><td>Canada</td></tr>",
                            "<tr><td>Bikes for Kids and Adults</td><td>Canada</td></tr>",
                            "<tr><td>Bikes for Two</td><td>Canada</td></tr>",
                            "<tr><td>Camping and Sports Store</td><td>Canada</td></tr>",
                            "<tr><td>Certified Sports Supply</td><td>Canada</td></tr>",
                            "<tr><td>City Cycling</td><td>Canada</td></tr>",
                            "<tr><td>Citywide Service and Repair</td><td>Canada</td></tr>",
                            "<tr><td>Commuter Bicycle Store</td><td>Canada</td></tr>",
                            "<tr><td>Consolidated Messenger</td><td>Canada</td></tr>",
                            "<tr><td>Corner Bicycle Supply</td><td>Canada</td></tr>",
                            "<tr><td>Courteous Bicycle Specialists</td><td>Canada</td></tr>",
                            "<tr><td>Cross-Country Riding Supplies</td><td>Canada</td></tr>",
                            "<tr><td>Custom Accessories Company</td><td>Canada</td></tr>",
                            "<tr><td>Custom Sales and Service</td><td>Canada</td></tr>",
                            "<tr><td>Cycle Merchants</td><td>Canada</td></tr>",
                            "<tr><td>Designated Distributors</td><td>Canada</td></tr>",
                            "<tr><td>Eastside Parts Shop</td><td>Canada</td></tr>",
                            "<tr><td>Economy Center</td><td>Canada</td></tr>",
                            "<tr><td>Efficient Cycling</td><td>Canada</td></tr>",
                            "<tr><td>Family Cycle Store</td><td>Canada</td></tr>",
                            "<tr><td>Family&#39;s Favorite Bike Shop</td><td>Canada</td></tr>",
                            "<tr><td>Famous Bike Shop</td><td>Canada</td></tr>",
                            "<tr><td>Farthest Bike Store</td><td>Canada</td></tr>",
                            "<tr><td>Fasteners &amp; Bolts Outlet</td><td>Canada</td></tr>",
                            "<tr><td>Finer Cycle Shop</td><td>Canada</td></tr>",
                            "<tr><td>Finer Riding Supplies</td><td>Canada</td></tr>",
                            "<tr><td>Finer Sales and Service</td><td>Canada</td></tr>",
                            "<tr><td>First-Rate Outlet</td><td>Canada</td></tr>",
                            "<tr><td>Future Bikes</td><td>Canada</td></tr>",
                            "<tr><td>Gasless Cycle Shop</td><td>Canada</td></tr>",
                            "<tr><td>Gear-Shift Bikes Limited</td><td>Canada</td></tr>",
                            "<tr><td>General Bike Corporation</td><td>Canada</td></tr>",
                            "<tr><td>General Cycle Storehouse</td><td>Canada</td></tr>",
                            "<tr><td>General Department Stores</td><td>Canada</td></tr>",
                            "<tr><td>General Industries</td><td>Canada</td></tr>",
                            "<tr><td>General Riding Supplies</td><td>Canada</td></tr>",
                            "<tr><td>General Supplies</td><td>Canada</td></tr>",
                            "<tr><td>Grand Industries</td><td>Canada</td></tr>",
                            "<tr><td>Greater Bike Store</td><td>Canada</td></tr>",
                            "<tr><td>Health Spa, Limited</td><td>Canada</td></tr>",
                            "<tr><td>Home Town Bike Store</td><td>Canada</td></tr>",
                            "<tr><td>Large Bike Shop</td><td>Canada</td></tr>",
                            "<tr><td>Leather Seat Factory</td><td>Canada</td></tr>",
                            "<tr><td>Leisure Activities</td><td>Canada</td></tr>",
                            "<tr><td>Low Price Cycles</td><td>Canada</td></tr>",
                            "<tr><td>Machines &amp; Cycles Store</td><td>Canada</td></tr>",
                            "<tr><td>Major Cycling</td><td>Canada</td></tr>",
                            "<tr><td>Mercantile Outlet</td><td>Canada</td></tr>",
                            "<tr><td>Metal Clearing House</td><td>Canada</td></tr>",
                            "<tr><td>Metal Processing Company</td><td>Canada</td></tr>",
                            "<tr><td>Metro Manufacturing</td><td>Canada</td></tr>",
                            "<tr><td>National Manufacturing</td><td>Canada</td></tr>",
                            "<tr><td>Neighborhood Store</td><td>Canada</td></tr>",
                            "<tr><td>Nice Bikes</td><td>Canada</td></tr>",
                            "<tr><td>Non-Slip Pedal Company</td><td>Canada</td></tr>",
                            "<tr><td>Nuts and Bolts Mfg.</td><td>Canada</td></tr>",
                            "<tr><td>Odometers and Accessories Company</td><td>Canada</td></tr>",
                            "<tr><td>One Bike Company</td><td>Canada</td></tr>",
                            "<tr><td>Online Bike Warehouse</td><td>Canada</td></tr>",
                            "<tr><td>Operational Manufacturing</td><td>Canada</td></tr>",
                            "<tr><td>Original Bicycle Supply Company</td><td>Canada</td></tr>",
                            "<tr><td>Our Sporting Goods Store</td><td>Canada</td></tr>",
                            "<tr><td>Petroleum Products Distributors</td><td>Canada</td></tr>",
                            "<tr><td>Plastic Parts Company</td><td>Canada</td></tr>",
                            "<tr><td>Price-Cutter Discount Bikes</td><td>Canada</td></tr>",
                            "<tr><td>Primary Bike Distributors</td><td>Canada</td></tr>",
                            "<tr><td>Professional Cyclists</td><td>Canada</td></tr>",
                            "<tr><td>Purple Bicycle Company</td><td>Canada</td></tr>",
                            "<tr><td>Quick Delivery Service</td><td>Canada</td></tr>",
                            "<tr><td>Quick Parts and Service</td><td>Canada</td></tr>",
                            "<tr><td>Racing Partners</td><td>Canada</td></tr>",
                            "<tr><td>Rapid Bikes</td><td>Canada</td></tr>",
                            "<tr><td>Recommended Bicycles</td><td>Canada</td></tr>",
                            "<tr><td>Red Bicycle Company</td><td>Canada</td></tr>",
                            "<tr><td>Refined Department Stores</td><td>Canada</td></tr>",
                            "<tr><td>Reliable Retail Center</td><td>Canada</td></tr>",
                            "<tr><td>Remote Bicycle Specialists</td><td>Canada</td></tr>",
                            "<tr><td>Requisite Part Supply</td><td>Canada</td></tr>",
                            "<tr><td>Retail Discount Store</td><td>Canada</td></tr>",
                            "<tr><td>Retail Mall</td><td>Canada</td></tr>",
                            "<tr><td>Retreat Inn</td><td>Canada</td></tr>",
                            "<tr><td>Rewarding Activities Company</td><td>Canada</td></tr>",
                            "<tr><td>Road Way Sales and Rental</td><td>Canada</td></tr>",
                            "<tr><td>Rural Bicycle Supply</td><td>Canada</td></tr>",
                            "<tr><td>Rural Cycle Emporium</td><td>Canada</td></tr>",
                            "<tr><td>Scratch-Resistant Finishes Company</td><td>Canada</td></tr>",
                            "<tr><td>Seats and Saddles Company</td><td>Canada</td></tr>",
                            "<tr><td>Serious Cycles</td><td>Canada</td></tr>",
                            "<tr><td>Sharp Bikes</td><td>Canada</td></tr>",
                            "<tr><td>Sixth Bike Store</td><td>Canada</td></tr>",
                            "<tr><td>South Bike Company</td><td>Canada</td></tr>",
                            "<tr><td>Standard Bikes</td><td>Canada</td></tr>",
                            "<tr><td>Sundry Sporting Goods</td><td>Canada</td></tr>",
                            "<tr><td>Superb Sales and Repair</td><td>Canada</td></tr>",
                            "<tr><td>Tandem Sales and Service</td><td>Canada</td></tr>",
                            "<tr><td>Tenth Bike Store</td><td>Canada</td></tr>",
                            "<tr><td>The Commissary</td><td>Canada</td></tr>",
                            "<tr><td>The Showroom</td><td>Canada</td></tr>",
                            "<tr><td>Tire Exchange</td><td>Canada</td></tr>",
                            "<tr><td>Top Bike Market</td><td>Canada</td></tr>",
                            "<tr><td>Top Sports Supply</td><td>Canada</td></tr>",
                            "<tr><td>Toy Manufacturing Inc</td><td>Canada</td></tr>",
                            "<tr><td>Transportation Options</td><td>Canada</td></tr>",
                            "<tr><td>Twelfth Bike Store</td><td>Canada</td></tr>",
                            "<tr><td>Two-Wheeled Transit Company</td><td>Canada</td></tr>",
                            "<tr><td>Up-To-Date Sports</td><td>Canada</td></tr>",
                            "<tr><td>Urban Sports Emporium</td><td>Canada</td></tr>",
                            "<tr><td>Valley Toy Store</td><td>Canada</td></tr>",
                            "<tr><td>Vigorous Exercise Company</td><td>Canada</td></tr>",
                            "<tr><td>Vinyl and Plastic Goods Corporation</td><td>Canada</td></tr>",
                            "<tr><td>Wholesale Parts</td><td>Canada</td></tr>",
                            "<tr><td>Workout Emporium</td><td>Canada</td></tr>",
                            "<tr><td>A Great Bicycle Company</td><td>Central</td></tr>",
                            "<tr><td>Active Systems</td><td>Central</td></tr>",
                            "<tr><td>Another Sporting Goods Company</td><td>Central</td></tr>",
                            "<tr><td>Best o&#39; Bikes</td><td>Central</td></tr>",
                            "<tr><td>Bicycle Lines Distributors</td><td>Central</td></tr>",
                            "<tr><td>Black Bicycle Company</td><td>Central</td></tr>",
                            "<tr><td>Blue Bicycle Company</td><td>Central</td></tr>",
                            "<tr><td>Bold Bike Accessories</td><td>Central</td></tr>",
                            "<tr><td>Catalog Store</td><td>Central</td></tr>",
                            "<tr><td>Client Discount Store</td><td>Central</td></tr>",
                            "<tr><td>Discount Bicycle Specialists</td><td>Central</td></tr>",
                            "<tr><td>District Mall</td><td>Central</td></tr>",
                            "<tr><td>Exhilarating Cycles</td><td>Central</td></tr>",
                            "<tr><td>Extras Sporting Goods</td><td>Central</td></tr>",
                            "<tr><td>Fabrikam Inc., West</td><td>Central</td></tr>",
                            "<tr><td>Field Trip Inc</td><td>Central</td></tr>",
                            "<tr><td>Field Trip Store</td><td>Central</td></tr>",
                            "<tr><td>First Bike Store</td><td>Central</td></tr>",
                            "<tr><td>Fitness Hotel</td><td>Central</td></tr>",
                            "<tr><td>Friendly Bike Shop</td><td>Central</td></tr>",
                            "<tr><td>Friendly Neighborhood Bikes</td><td>Central</td></tr>",
                            "<tr><td>Full-Service Bike Store</td><td>Central</td></tr>",
                            "<tr><td>Fun Times Club</td><td>Central</td></tr>",
                            "<tr><td>Futuristic Sport Distributors</td><td>Central</td></tr>",
                            "<tr><td>Gift and Toy Store</td><td>Central</td></tr>",
                            "<tr><td>Good Bike Shop</td><td>Central</td></tr>",
                            "<tr><td>Grand Sport Boutique</td><td>Central</td></tr>",
                            "<tr><td>Great Bicycle Supply</td><td>Central</td></tr>",
                            "<tr><td>Handy Bike Services</td><td>Central</td></tr>",
                            "<tr><td>Hardware Components</td><td>Central</td></tr>",
                            "<tr><td>Historic Bicycle Sales</td><td>Central</td></tr>",
                            "<tr><td>Immense Manufacturing Company</td><td>Central</td></tr>",
                            "<tr><td>Initial Bike Company</td><td>Central</td></tr>",
                            "<tr><td>Kickstand Sellers</td><td>Central</td></tr>",
                            "<tr><td>Largest Bike Store</td><td>Central</td></tr>",
                            "<tr><td>Leading Sales &amp; Repair</td><td>Central</td></tr>",
                            "<tr><td>Little Bicycle Supply Shop</td><td>Central</td></tr>",
                            "<tr><td>Local Hardware Factory</td><td>Central</td></tr>",
                            "<tr><td>Local Sales and Rental</td><td>Central</td></tr>",
                            "<tr><td>Lots of Bikes Storehouse</td><td>Central</td></tr>",
                            "<tr><td>Metro Bike Works</td><td>Central</td></tr>",
                            "<tr><td>Novelty Bikes</td><td>Central</td></tr>",
                            "<tr><td>Online Bike Sellers</td><td>Central</td></tr>",
                            "<tr><td>Orange Bicycle Company</td><td>Central</td></tr>",
                            "<tr><td>Out-of-the-Way Hotels</td><td>Central</td></tr>",
                            "<tr><td>Paints and Solvents Company</td><td>Central</td></tr>",
                            "<tr><td>Practical Bike Supply Company</td><td>Central</td></tr>",
                            "<tr><td>Reasonable Bicycle Sales</td><td>Central</td></tr>",
                            "<tr><td>Responsible Bike Dealers</td><td>Central</td></tr>",
                            "<tr><td>Riders Company</td><td>Central</td></tr>",
                            "<tr><td>Sample Bike Store</td><td>Central</td></tr>",
                            "<tr><td>Sleek Bikes </td><td>Central</td></tr>",
                            "<tr><td>Small Cycle Store</td><td>Central</td></tr>",
                            "<tr><td>Summer Sports Place</td><td>Central</td></tr>",
                            "<tr><td>The Accessories Store</td><td>Central</td></tr>",
                            "<tr><td>This Area Sporting Goods</td><td>Central</td></tr>",
                            "<tr><td>Travel Systems</td><td>Central</td></tr>",
                            "<tr><td>Unique Bikes</td><td>Central</td></tr>",
                            "<tr><td>Valley Bicycle Specialists</td><td>Central</td></tr>",
                            "<tr><td>Westside Cycle Store</td><td>Central</td></tr>",
                            "<tr><td>Work and Play Association</td><td>Central</td></tr>",
                            "<tr><td>World of Bikes</td><td>Central</td></tr>",
                            "<tr><td>Yellow Bicycle Company</td><td>Central</td></tr>",
                            "<tr><td>Accessories Network</td><td>France</td></tr>",
                            "<tr><td>Ace Bicycle Supply</td><td>France</td></tr>",
                            "<tr><td>Atypical Bike Company</td><td>France</td></tr>",
                            "<tr><td>Brand New Bikes</td><td>France</td></tr>",
                            "<tr><td>Community Department Stores</td><td>France</td></tr>",
                            "<tr><td>Country Parts Shop</td><td>France</td></tr>",
                            "<tr><td>Cycles Sales and Repair</td><td>France</td></tr>",
                            "<tr><td>Favorite Toy Distributor</td><td>France</td></tr>",
                            "<tr><td>Finer Sporting Goods</td><td>France</td></tr>",
                            "<tr><td>Finished Parts Shop</td><td>France</td></tr>",
                            "<tr><td>First Center</td><td>France</td></tr>",
                            "<tr><td>Full Sports Supply</td><td>France</td></tr>",
                            "<tr><td>Getaway Inn</td><td>France</td></tr>",
                            "<tr><td>Hiatus Bike Tours</td><td>France</td></tr>",
                            "<tr><td>Impervious Paint Company</td><td>France</td></tr>",
                            "<tr><td>Instant Cycle Store</td><td>France</td></tr>",
                            "<tr><td>Major Amusement Company</td><td>France</td></tr>",
                            "<tr><td>Metro Sports Equipment</td><td>France</td></tr>",
                            "<tr><td>Metropolitan Equipment</td><td>France</td></tr>",
                            "<tr><td>Neighborhood Bicycle Storehouse</td><td>France</td></tr>",
                            "<tr><td>Outdoor Toy Store</td><td>France</td></tr>",
                            "<tr><td>Perfect Toys</td><td>France</td></tr>",
                            "<tr><td>Pretty Bikes and Toys</td><td>France</td></tr>",
                            "<tr><td>Racing Sales and Service</td><td>France</td></tr>",
                            "<tr><td>Racing Store</td><td>France</td></tr>",
                            "<tr><td>Racing Supply Distributors</td><td>France</td></tr>",
                            "<tr><td>Racing Tours</td><td>France</td></tr>",
                            "<tr><td>Recreation Toy Store</td><td>France</td></tr>",
                            "<tr><td>Registered Cycle Store</td><td>France</td></tr>",
                            "<tr><td>Roadway Bicycle Supply</td><td>France</td></tr>",
                            "<tr><td>Rural Mountain Bike Mart</td><td>France</td></tr>",
                            "<tr><td>Self-Contained Cycle Parts Company</td><td>France</td></tr>",
                            "<tr><td>Spa and Exercise Outfitters</td><td>France</td></tr>",
                            "<tr><td>Spare Parts Co.</td><td>France</td></tr>",
                            "<tr><td>Sports Products Store</td><td>France</td></tr>",
                            "<tr><td>Steel Inc.</td><td>France</td></tr>",
                            "<tr><td>The Bike Outlet</td><td>France</td></tr>",
                            "<tr><td>Township Inn</td><td>France</td></tr>",
                            "<tr><td>Ultimate Bicycle Company</td><td>France</td></tr>",
                            "<tr><td>Wheels Inc.</td><td>France</td></tr>",
                            "<tr><td>Amalgamated Parts Shop</td><td>Germany</td></tr>",
                            "<tr><td>Best Cycle Store</td><td>Germany</td></tr>",
                            "<tr><td>Bicycle Exporters</td><td>Germany</td></tr>",
                            "<tr><td>Bicycle Warehouse Inc.</td><td>Germany</td></tr>",
                            "<tr><td>Capital Riding Supplies</td><td>Germany</td></tr>",
                            "<tr><td>Educational Services</td><td>Germany</td></tr>",
                            "<tr><td>Enterprise Center</td><td>Germany</td></tr>",
                            "<tr><td>Excellent Bikes</td><td>Germany</td></tr>",
                            "<tr><td>Fabrikam Inc., East</td><td>Germany</td></tr>",
                            "<tr><td>Fast Services</td><td>Germany</td></tr>",
                            "<tr><td>Fitness Toys</td><td>Germany</td></tr>",
                            "<tr><td>Functional Store South</td><td>Germany</td></tr>",
                            "<tr><td>Global Bike Retailers</td><td>Germany</td></tr>",
                            "<tr><td>Good Bicycle Store</td><td>Germany</td></tr>",
                            "<tr><td>Hometown Riding Supplies</td><td>Germany</td></tr>",
                            "<tr><td>Irregulars Outlet</td><td>Germany</td></tr>",
                            "<tr><td>Links Works</td><td>Germany</td></tr>",
                            "<tr><td>Lustrous Paints and Components</td><td>Germany</td></tr>",
                            "<tr><td>Major Equipment Co</td><td>Germany</td></tr>",
                            "<tr><td>Mechanical Brake Manufacturers</td><td>Germany</td></tr>",
                            "<tr><td>Nearby Bike Mall</td><td>Germany</td></tr>",
                            "<tr><td>Next Door Cycles</td><td>Germany</td></tr>",
                            "<tr><td>North Bike Company</td><td>Germany</td></tr>",
                            "<tr><td>Off-Price Bike Center</td><td>Germany</td></tr>",
                            "<tr><td>Pedaling Components</td><td>Germany</td></tr>",
                            "<tr><td>Precision Gears Inc.</td><td>Germany</td></tr>",
                            "<tr><td>Primary Cycle Shop</td><td>Germany</td></tr>",
                            "<tr><td>Producer Goods Clearinghouse</td><td>Germany</td></tr>",
                            "<tr><td>Rambling Tours</td><td>Germany</td></tr>",
                            "<tr><td>Regional Cycle Shop</td><td>Germany</td></tr>",
                            "<tr><td>Rodeway Bike Store</td><td>Germany</td></tr>",
                            "<tr><td>Rural Sporting Goods</td><td>Germany</td></tr>",
                            "<tr><td>Rustic Bike Store</td><td>Germany</td></tr>",
                            "<tr><td>Showcase for Cycles</td><td>Germany</td></tr>",
                            "<tr><td>Speedometer Sales</td><td>Germany</td></tr>",
                            "<tr><td>Teen Discount Store</td><td>Germany</td></tr>",
                            "<tr><td>Top of the Line Bikes</td><td>Germany</td></tr>",
                            "<tr><td>Versatile Sporting Goods Company</td><td>Germany</td></tr>",
                            "<tr><td>Very Best Sports Supply</td><td>Germany</td></tr>",
                            "<tr><td>West Wind Distributors</td><td>Germany</td></tr>",
                            "<tr><td>A Bicycle Association</td><td>Northeast</td></tr>",
                            "<tr><td>Active Cycling</td><td>Northeast</td></tr>",
                            "<tr><td>Active Transport Inc.</td><td>Northeast</td></tr>",
                            "<tr><td>Bicycle Outfitters</td><td>Northeast</td></tr>",
                            "<tr><td>Bike Boutique</td><td>Northeast</td></tr>",
                            "<tr><td>Bikes Anyone?</td><td>Northeast</td></tr>",
                            "<tr><td>Casual Bicycle Store</td><td>Northeast</td></tr>",
                            "<tr><td>Classic Cycle Store</td><td>Northeast</td></tr>",
                            "<tr><td>Convenient Bike Shop</td><td>Northeast</td></tr>",
                            "<tr><td>Curbside Universe</td><td>Northeast</td></tr>",
                            "<tr><td>Eastside Sporting Goods</td><td>Northeast</td></tr>",
                            "<tr><td>Economic Parts Supply</td><td>Northeast</td></tr>",
                            "<tr><td>Eleventh Bike Store</td><td>Northeast</td></tr>",
                            "<tr><td>Endurance Bikes</td><td>Northeast</td></tr>",
                            "<tr><td>Executive Gift Store</td><td>Northeast</td></tr>",
                            "<tr><td>Exotic Bikes</td><td>Northeast</td></tr>",
                            "<tr><td>Expert Sports Store</td><td>Northeast</td></tr>",
                            "<tr><td>Famous Bike Sales and Service</td><td>Northeast</td></tr>",
                            "<tr><td>Fashionable Department Stores</td><td>Northeast</td></tr>",
                            "<tr><td>Fitness Sport Boutique</td><td>Northeast</td></tr>",
                            "<tr><td>Fourth Bike Store</td><td>Northeast</td></tr>",
                            "<tr><td>Glossy Bikes</td><td>Northeast</td></tr>",
                            "<tr><td>Grand Discount Store</td><td>Northeast</td></tr>",
                            "<tr><td>Grown-up Bike Store</td><td>Northeast</td></tr>",
                            "<tr><td>Guaranteed Sales and Service</td><td>Northeast</td></tr>",
                            "<tr><td>Immediate Repair Shop</td><td>Northeast</td></tr>",
                            "<tr><td>Incomparable Bicycle Store</td><td>Northeast</td></tr>",
                            "<tr><td>Independent Outlet</td><td>Northeast</td></tr>",
                            "<tr><td>Larger Cycle Shop</td><td>Northeast</td></tr>",
                            "<tr><td>Lease-a-Bike Shop</td><td>Northeast</td></tr>",
                            "<tr><td>Leather and Vinyl Manufacturing</td><td>Northeast</td></tr>",
                            "<tr><td>Margie&#39;s Travel</td><td>Northeast</td></tr>",
                            "<tr><td>Mechanical Sports Center</td><td>Northeast</td></tr>",
                            "<tr><td>Metropolitan Sales and Rental</td><td>Northeast</td></tr>",
                            "<tr><td>Mobile Outlet</td><td>Northeast</td></tr>",
                            "<tr><td>Modern Bike Store</td><td>Northeast</td></tr>",
                            "<tr><td>Mountain Bike Store</td><td>Northeast</td></tr>",
                            "<tr><td>Only Bikes and Accessories</td><td>Northeast</td></tr>",
                            "<tr><td>Outdoor Distributors</td><td>Northeast</td></tr>",
                            "<tr><td>Outdoor Equipment Store</td><td>Northeast</td></tr>",
                            "<tr><td>Painters Bicycle Specialists</td><td>Northeast</td></tr>",
                            "<tr><td>Professional Sporting Goods</td><td>Northeast</td></tr>",
                            "<tr><td>Purchase Mart</td><td>Northeast</td></tr>",
                            "<tr><td>Recreation Systems</td><td>Northeast</td></tr>",
                            "<tr><td>Retail Sales and Service</td><td>Northeast</td></tr>",
                            "<tr><td>Riverside Company</td><td>Northeast</td></tr>",
                            "<tr><td>Seventh Bike Store</td><td>Northeast</td></tr>",
                            "<tr><td>Small Bike Accessories Shop</td><td>Northeast</td></tr>",
                            "<tr><td>Strong Metal Manufacturing</td><td>Northeast</td></tr>",
                            "<tr><td>Super Sports Store</td><td>Northeast</td></tr>",
                            "<tr><td>The Bike Mechanics</td><td>Northeast</td></tr>",
                            "<tr><td>Tire Company</td><td>Northeast</td></tr>",
                            "<tr><td>Traditional Department Stores</td><td>Northeast</td></tr>",
                            "<tr><td>Weekend Tours</td><td>Northeast</td></tr>",
                            "<tr><td>Wheelsets Storehouse</td><td>Northeast</td></tr>",
                            "<tr><td>Wholesale Bikes</td><td>Northeast</td></tr>",
                            "<tr><td>A Bike Store</td><td>Northwest</td></tr>",
                            "<tr><td>A Cycle Shop</td><td>Northwest</td></tr>",
                            "<tr><td>All Cycle Shop</td><td>Northwest</td></tr>",
                            "<tr><td>Alternative Vehicles</td><td>Northwest</td></tr>",
                            "<tr><td>Another Bicycle Company</td><td>Northwest</td></tr>",
                            "<tr><td>Associated Bikes</td><td>Northwest</td></tr>",
                            "<tr><td>Authorized Bike Sales and Rental</td><td>Northwest</td></tr>",
                            "<tr><td>Basic Bike Company</td><td>Northwest</td></tr>",
                            "<tr><td>Bicycle Accessories and Kits</td><td>Northwest</td></tr>",
                            "<tr><td>Bike Experts</td><td>Northwest</td></tr>",
                            "<tr><td>Brakes and Gears</td><td>Northwest</td></tr>",
                            "<tr><td>Brightwork Company</td><td>Northwest</td></tr>",
                            "<tr><td>Capable Sales and Service</td><td>Northwest</td></tr>",
                            "<tr><td>Center Cycle Shop</td><td>Northwest</td></tr>",
                            "<tr><td>Central Discount Store</td><td>Northwest</td></tr>",
                            "<tr><td>Certified Bicycle Supply</td><td>Northwest</td></tr>",
                            "<tr><td>City Manufacturing</td><td>Northwest</td></tr>",
                            "<tr><td>Closeout Boutique</td><td>Northwest</td></tr>",
                            "<tr><td>Coho Sports</td><td>Northwest</td></tr>",
                            "<tr><td>Commendable Bikes</td><td>Northwest</td></tr>",
                            "<tr><td>Convenient Sales and Service</td><td>Northwest</td></tr>",
                            "<tr><td>Countryside Company</td><td>Northwest</td></tr>",
                            "<tr><td>Cycle Clearance</td><td>Northwest</td></tr>",
                            "<tr><td>Demand Distributors</td><td>Northwest</td></tr>",
                            "<tr><td>Downtown Hotel</td><td>Northwest</td></tr>",
                            "<tr><td>Fad Outlet</td><td>Northwest</td></tr>",
                            "<tr><td>Family Entertainment Center</td><td>Northwest</td></tr>",
                            "<tr><td>Fashionable Bikes and Accessories</td><td>Northwest</td></tr>",
                            "<tr><td>Fifth Bike Store</td><td>Northwest</td></tr>",
                            "<tr><td>Finer Mart</td><td>Northwest</td></tr>",
                            "<tr><td>Finer Parts Shop</td><td>Northwest</td></tr>",
                            "<tr><td>First Department Stores</td><td>Northwest</td></tr>",
                            "<tr><td>Fitness Supplies</td><td>Northwest</td></tr>",
                            "<tr><td>Friendly Bike Shop</td><td>Northwest</td></tr>",
                            "<tr><td>Front Sporting Goods</td><td>Northwest</td></tr>",
                            "<tr><td>Frugal Bike Shop</td><td>Northwest</td></tr>",
                            "<tr><td>Grand Cycle Store</td><td>Northwest</td></tr>",
                            "<tr><td>Great Bikes </td><td>Northwest</td></tr>",
                            "<tr><td>Honest Repair Service</td><td>Northwest</td></tr>",
                            "<tr><td>Imaginary Toys</td><td>Northwest</td></tr>",
                            "<tr><td>Imported and Domestic Cycles</td><td>Northwest</td></tr>",
                            "<tr><td>Impromptu Trips</td><td>Northwest</td></tr>",
                            "<tr><td>Kickstands and Accessories Company</td><td>Northwest</td></tr>",
                            "<tr><td>Latest Accessories Sales</td><td>Northwest</td></tr>",
                            "<tr><td>Latest Sports Equipment</td><td>Northwest</td></tr>",
                            "<tr><td>Mail-Order Outlet</td><td>Northwest</td></tr>",
                            "<tr><td>Major Sport Suppliers</td><td>Northwest</td></tr>",
                            "<tr><td>Metro Cycle Shop</td><td>Northwest</td></tr>",
                            "<tr><td>Moderately-Priced Bikes Store</td><td>Northwest</td></tr>",
                            "<tr><td>Nonskid Tire Company</td><td>Northwest</td></tr>",
                            "<tr><td>Official Parts Shop</td><td>Northwest</td></tr>",
                            "<tr><td>Outdoor Sports Supply</td><td>Northwest</td></tr>",
                            "<tr><td>Outstanding Cycles</td><td>Northwest</td></tr>",
                            "<tr><td>Parcel Express Delivery Service</td><td>Northwest</td></tr>",
                            "<tr><td>Permanent Finish Products</td><td>Northwest</td></tr>",
                            "<tr><td>Progressive Sports</td><td>Northwest</td></tr>",
                            "<tr><td>Racing Bike Outlet</td><td>Northwest</td></tr>",
                            "<tr><td>Raw Materials Inc</td><td>Northwest</td></tr>",
                            "<tr><td>Remarkable Bike Store</td><td>Northwest</td></tr>",
                            "<tr><td>Retail Sporting Goods</td><td>Northwest</td></tr>",
                            "<tr><td>Riding Associates</td><td>Northwest</td></tr>",
                            "<tr><td>Roadway Bike Emporium</td><td>Northwest</td></tr>",
                            "<tr><td>Road-Way Mart</td><td>Northwest</td></tr>",
                            "<tr><td>Roadway Supplies</td><td>Northwest</td></tr>",
                            "<tr><td>Roving Sports</td><td>Northwest</td></tr>",
                            "<tr><td>Rugged Bikes</td><td>Northwest</td></tr>",
                            "<tr><td>Running and Cycling Gear</td><td>Northwest</td></tr>",
                            "<tr><td>Safe Cycles Shop</td><td>Northwest</td></tr>",
                            "<tr><td>Scooters and Bikes Store</td><td>Northwest</td></tr>",
                            "<tr><td>Security Racks and Locks Wholesalers</td><td>Northwest</td></tr>",
                            "<tr><td>Sellers of Cycles</td><td>Northwest</td></tr>",
                            "<tr><td>Some Discount Store</td><td>Northwest</td></tr>",
                            "<tr><td>Sports Commodities</td><td>Northwest</td></tr>",
                            "<tr><td>Sports Merchandise</td><td>Northwest</td></tr>",
                            "<tr><td>Stock Parts and Supplies</td><td>Northwest</td></tr>",
                            "<tr><td>Suburban Cycle Shop</td><td>Northwest</td></tr>",
                            "<tr><td>Successful Sales Company</td><td>Northwest</td></tr>",
                            "<tr><td>Superior Hardware Distributors</td><td>Northwest</td></tr>",
                            "<tr><td>Sure &amp; Reliable Sporting Goods</td><td>Northwest</td></tr>",
                            "<tr><td>Synthetic Materials Manufacturing</td><td>Northwest</td></tr>",
                            "<tr><td>The Bike Shop</td><td>Northwest</td></tr>",
                            "<tr><td>Thorough Parts and Repair Services</td><td>Northwest</td></tr>",
                            "<tr><td>Tires and Tubes</td><td>Northwest</td></tr>",
                            "<tr><td>Transport Bikes</td><td>Northwest</td></tr>",
                            "<tr><td>Travel Sports</td><td>Northwest</td></tr>",
                            "<tr><td>Two Bike Shops</td><td>Northwest</td></tr>",
                            "<tr><td>Utilitarian Sporting Goods</td><td>Northwest</td></tr>",
                            "<tr><td>Vast Bike Sales and Rental</td><td>Northwest</td></tr>",
                            "<tr><td>Vintage Sport Boutique</td><td>Northwest</td></tr>",
                            "<tr><td>Western Bike Supplies</td><td>Northwest</td></tr>",
                            "<tr><td>Wingtip Toys</td><td>Northwest</td></tr>",
                            "<tr><td>Year-Round Sports</td><td>Northwest</td></tr>",
                            "<tr><td>Acclaimed Bicycle Company</td><td>Southeast</td></tr>",
                            "<tr><td>Activity Center</td><td>Southeast</td></tr>",
                            "<tr><td>Better Bike Shop</td><td>Southeast</td></tr>",
                            "<tr><td>Bike Goods </td><td>Southeast</td></tr>",
                            "<tr><td>Bike Products and Accessories</td><td>Southeast</td></tr>",
                            "<tr><td>Bike Rims Company</td><td>Southeast</td></tr>",
                            "<tr><td>Blue-Ribbon Bike Company</td><td>Southeast</td></tr>",
                            "<tr><td>Budget Bike Company</td><td>Southeast</td></tr>",
                            "<tr><td>Chain and Chain Tool Distributions</td><td>Southeast</td></tr>",
                            "<tr><td>Clamps &amp; Brackets Co.</td><td>Southeast</td></tr>",
                            "<tr><td>Consolidated Sales</td><td>Southeast</td></tr>",
                            "<tr><td>Cycles and Scooters</td><td>Southeast</td></tr>",
                            "<tr><td>Daring Rides</td><td>Southeast</td></tr>",
                            "<tr><td>Distance Bikes</td><td>Southeast</td></tr>",
                            "<tr><td>Distinctive Cycles Sales &amp; Service</td><td>Southeast</td></tr>",
                            "<tr><td>eCommerce Bikes</td><td>Southeast</td></tr>",
                            "<tr><td>Eighty Toy Stores</td><td>Southeast</td></tr>",
                            "<tr><td>Elemental Sporting Goods</td><td>Southeast</td></tr>",
                            "<tr><td>Every Bike Shop</td><td>Southeast</td></tr>",
                            "<tr><td>Excellent Riding Supplies</td><td>Southeast</td></tr>",
                            "<tr><td>Exchange Parts Inc.</td><td>Southeast</td></tr>",
                            "<tr><td>Executive Discount Store</td><td>Southeast</td></tr>",
                            "<tr><td>Exemplary Cycles</td><td>Southeast</td></tr>",
                            "<tr><td>Extreme Toy Store</td><td>Southeast</td></tr>",
                            "<tr><td>Front Runner Bikes</td><td>Southeast</td></tr>",
                            "<tr><td>Functional Store North</td><td>Southeast</td></tr>",
                            "<tr><td>Games and Sport Supply Company</td><td>Southeast</td></tr>",
                            "<tr><td>General Associates</td><td>Southeast</td></tr>",
                            "<tr><td>Global Plaza</td><td>Southeast</td></tr>",
                            "<tr><td>Hobby Store</td><td>Southeast</td></tr>",
                            "<tr><td>Industrial Supplies</td><td>Southeast</td></tr>",
                            "<tr><td>Juvenile Sports Equipment</td><td>Southeast</td></tr>",
                            "<tr><td>Leading Bike Distributors</td><td>Southeast</td></tr>",
                            "<tr><td>Lubricant and Grease Suppliers</td><td>Southeast</td></tr>",
                            "<tr><td>Manufacturers Inc</td><td>Southeast</td></tr>",
                            "<tr><td>Metro Bike Mart</td><td>Southeast</td></tr>",
                            "<tr><td>Mountain Emporium</td><td>Southeast</td></tr>",
                            "<tr><td>New and Used Bicycles</td><td>Southeast</td></tr>",
                            "<tr><td>New Bikes Company</td><td>Southeast</td></tr>",
                            "<tr><td>Next-Door Bike Store</td><td>Southeast</td></tr>",
                            "<tr><td>Noiseless Gear Company</td><td>Southeast</td></tr>",
                            "<tr><td>One-Piece Handle Bars</td><td>Southeast</td></tr>",
                            "<tr><td>Optimal Bikes</td><td>Southeast</td></tr>",
                            "<tr><td>Parts Shop</td><td>Southeast</td></tr>",
                            "<tr><td>Pedal Systems Company</td><td>Southeast</td></tr>",
                            "<tr><td>Pedals Warehouse</td><td>Southeast</td></tr>",
                            "<tr><td>Principal Bicycle Supply</td><td>Southeast</td></tr>",
                            "<tr><td>Qualified Sales and Repair Services</td><td>Southeast</td></tr>",
                            "<tr><td>Quitting Business Distributors</td><td>Southeast</td></tr>",
                            "<tr><td>Racing Association</td><td>Southeast</td></tr>",
                            "<tr><td>Racks and Security Systems</td><td>Southeast</td></tr>",
                            "<tr><td>Rally Day Mall</td><td>Southeast</td></tr>",
                            "<tr><td>Recreation Supplies</td><td>Southeast</td></tr>",
                            "<tr><td>Reliable Brake Systems</td><td>Southeast</td></tr>",
                            "<tr><td>Resident Cycle Shop</td><td>Southeast</td></tr>",
                            "<tr><td>Retail Toy Store</td><td>Southeast</td></tr>",
                            "<tr><td>Retirement Activities Association</td><td>Southeast</td></tr>",
                            "<tr><td>Retread Tire Company</td><td>Southeast</td></tr>",
                            "<tr><td>Sales and Supply Company</td><td>Southeast</td></tr>",
                            "<tr><td>Selected Distributors</td><td>Southeast</td></tr>",
                            "<tr><td>Sensational Discount Store</td><td>Southeast</td></tr>",
                            "<tr><td>Simple Bike Parts</td><td>Southeast</td></tr>",
                            "<tr><td>Spoke Manufacturers</td><td>Southeast</td></tr>",
                            "<tr><td>Sporting Goods and Bicycle Shop</td><td>Southeast</td></tr>",
                            "<tr><td>Sports Sales and Rental</td><td>Southeast</td></tr>",
                            "<tr><td>Stylish Department Stores</td><td>Southeast</td></tr>",
                            "<tr><td>Sunny Place Bikes</td><td>Southeast</td></tr>",
                            "<tr><td>Superlative Bikes</td><td>Southeast</td></tr>",
                            "<tr><td>Tandem Bicycle Store</td><td>Southeast</td></tr>",
                            "<tr><td>The Cycle Store</td><td>Southeast</td></tr>",
                            "<tr><td>Tiny Bike Boutique</td><td>Southeast</td></tr>",
                            "<tr><td>Topnotch Bikes</td><td>Southeast</td></tr>",
                            "<tr><td>Tough and Reliable Parts</td><td>Southeast</td></tr>",
                            "<tr><td>Touring Services</td><td>Southeast</td></tr>",
                            "<tr><td>Tread Industries</td><td>Southeast</td></tr>",
                            "<tr><td>Trusted Catalog Store</td><td>Southeast</td></tr>",
                            "<tr><td>Ultimate Bike Shop</td><td>Southeast</td></tr>",
                            "<tr><td>Underglaze and Finish Company</td><td>Southeast</td></tr>",
                            "<tr><td>Unified Sports Company</td><td>Southeast</td></tr>",
                            "<tr><td>Valuable Bike Parts Company</td><td>Southeast</td></tr>",
                            "<tr><td>Variety Bike Outlet</td><td>Southeast</td></tr>",
                            "<tr><td>Village Tours</td><td>Southeast</td></tr>",
                            "<tr><td>Widget Bicycle Specialists</td><td>Southeast</td></tr>",
                            "<tr><td>Wonderful Bikes Inc.</td><td>Southeast</td></tr>",
                            "<tr><td>Worthwhile Activity Store</td><td>Southeast</td></tr>",
                            "<tr><td>A Typical Bike Shop</td><td>Southwest</td></tr>",
                            "<tr><td>Advanced Bike Components</td><td>Southwest</td></tr>",
                            "<tr><td>Aerobic Exercise Company</td><td>Southwest</td></tr>",
                            "<tr><td>Affordable Sports Equipment</td><td>Southwest</td></tr>",
                            "<tr><td>All Seasons Sports Supply</td><td>Southwest</td></tr>",
                            "<tr><td>Alpine Ski House</td><td>Southwest</td></tr>",
                            "<tr><td>Area Bike Accessories</td><td>Southwest</td></tr>",
                            "<tr><td>Basic Sports Equipment</td><td>Southwest</td></tr>",
                            "<tr><td>Beneficial Exercises and Activities</td><td>Southwest</td></tr>",
                            "<tr><td>Bicycle Merchandise Warehouse</td><td>Southwest</td></tr>",
                            "<tr><td>Big Cycle Mall</td><td>Southwest</td></tr>",
                            "<tr><td>Big-Time Bike Store</td><td>Southwest</td></tr>",
                            "<tr><td>Bike Dealers Association</td><td>Southwest</td></tr>",
                            "<tr><td>Bike Universe</td><td>Southwest</td></tr>",
                            "<tr><td>Bike World</td><td>Southwest</td></tr>",
                            "<tr><td>Brown Bicycle Company</td><td>Southwest</td></tr>",
                            "<tr><td>Cash &amp; Carry Bikes</td><td>Southwest</td></tr>",
                            "<tr><td>Chic Department Stores</td><td>Southwest</td></tr>",
                            "<tr><td>Coalition Bike Company</td><td>Southwest</td></tr>",
                            "<tr><td>Commercial Sporting Goods</td><td>Southwest</td></tr>",
                            "<tr><td>Contoso, Ltd.</td><td>Southwest</td></tr>",
                            "<tr><td>Curbside Sporting Goods</td><td>Southwest</td></tr>",
                            "<tr><td>Designer Department Stores</td><td>Southwest</td></tr>",
                            "<tr><td>Discount Tours</td><td>Southwest</td></tr>",
                            "<tr><td>Distant Inn</td><td>Southwest</td></tr>",
                            "<tr><td>Distinctive Store</td><td>Southwest</td></tr>",
                            "<tr><td>Eastside Department Store</td><td>Southwest</td></tr>",
                            "<tr><td>Economy Bikes Company</td><td>Southwest</td></tr>",
                            "<tr><td>Eighth Bike Store</td><td>Southwest</td></tr>",
                            "<tr><td>Elite Bikes</td><td>Southwest</td></tr>",
                            "<tr><td>Engineered Bike Systems</td><td>Southwest</td></tr>",
                            "<tr><td>Exercise Center</td><td>Southwest</td></tr>",
                            "<tr><td>Exertion Activities Club</td><td>Southwest</td></tr>",
                            "<tr><td>Extended Bike Sales</td><td>Southwest</td></tr>",
                            "<tr><td>Extraordinary Bike Works</td><td>Southwest</td></tr>",
                            "<tr><td>Extreme Riding Supplies</td><td>Southwest</td></tr>",
                            "<tr><td>Farthermost Bike Shop</td><td>Southwest</td></tr>",
                            "<tr><td>Finish and Sealant Products</td><td>Southwest</td></tr>",
                            "<tr><td>First Cycle Store</td><td>Southwest</td></tr>",
                            "<tr><td>Fitness Cycling</td><td>Southwest</td></tr>",
                            "<tr><td>Fitness Department Stores</td><td>Southwest</td></tr>",
                            "<tr><td>Fitness Toy Store</td><td>Southwest</td></tr>",
                            "<tr><td>Flawless Bike Shop</td><td>Southwest</td></tr>",
                            "<tr><td>Fleet Bikes</td><td>Southwest</td></tr>",
                            "<tr><td>Fun Toys and Bikes</td><td>Southwest</td></tr>",
                            "<tr><td>Futuristic Bikes</td><td>Southwest</td></tr>",
                            "<tr><td>Genial Bike Associates</td><td>Southwest</td></tr>",
                            "<tr><td>Genuine Bike Shop</td><td>Southwest</td></tr>",
                            "<tr><td>Global Sporting Goods</td><td>Southwest</td></tr>",
                            "<tr><td>Go-cart and Bike Specialists</td><td>Southwest</td></tr>",
                            "<tr><td>Golf and Cycle Store</td><td>Southwest</td></tr>",
                            "<tr><td>Good Toys</td><td>Southwest</td></tr>",
                            "<tr><td>Grand Bicycle Stores</td><td>Southwest</td></tr>",
                            "<tr><td>Grease and Oil Products Company</td><td>Southwest</td></tr>",
                            "<tr><td>Healthy Activity Store</td><td>Southwest</td></tr>",
                            "<tr><td>Highway Bike Shop</td><td>Southwest</td></tr>",
                            "<tr><td>Journey Sporting Goods</td><td>Southwest</td></tr>",
                            "<tr><td>Locks Company</td><td>Southwest</td></tr>",
                            "<tr><td>Main Bicycle Services</td><td>Southwest</td></tr>",
                            "<tr><td>Maintenance and Repair for Bicycles</td><td>Southwest</td></tr>",
                            "<tr><td>Major Sporting Goods</td><td>Southwest</td></tr>",
                            "<tr><td>Many Bikes Store</td><td>Southwest</td></tr>",
                            "<tr><td>Mechanical Products Ltd.</td><td>Southwest</td></tr>",
                            "<tr><td>Metallic Paint and Overcoat Co</td><td>Southwest</td></tr>",
                            "<tr><td>Metropolitan Manufacturing</td><td>Southwest</td></tr>",
                            "<tr><td>Metropolitan Sports Supply</td><td>Southwest</td></tr>",
                            "<tr><td>Modular Cycle Systems</td><td>Southwest</td></tr>",
                            "<tr><td>More Bikes!</td><td>Southwest</td></tr>",
                            "<tr><td>Mountain Bike Center</td><td>Southwest</td></tr>",
                            "<tr><td>Mountain Toy Store</td><td>Southwest</td></tr>",
                            "<tr><td>Number 1 Supply</td><td>Southwest</td></tr>",
                            "<tr><td>Outdoor Sporting Goods</td><td>Southwest</td></tr>",
                            "<tr><td>Paint Supply</td><td>Southwest</td></tr>",
                            "<tr><td>Preferred Bikes</td><td>Southwest</td></tr>",
                            "<tr><td>Principal Bike Company</td><td>Southwest</td></tr>",
                            "<tr><td>Pro Sporting Goods</td><td>Southwest</td></tr>",
                            "<tr><td>Professional Containers and Packaging Co.</td><td>Southwest</td></tr>",
                            "<tr><td>Professional Cycle Store</td><td>Southwest</td></tr>",
                            "<tr><td>Professional Sales and Service</td><td>Southwest</td></tr>",
                            "<tr><td>Quantity Discounts</td><td>Southwest</td></tr>",
                            "<tr><td>Racing Toys</td><td>Southwest</td></tr>",
                            "<tr><td>Rally Master Company Inc</td><td>Southwest</td></tr>",
                            "<tr><td>Real Sporting Goods</td><td>Southwest</td></tr>",
                            "<tr><td>Regional Manufacturing</td><td>Southwest</td></tr>",
                            "<tr><td>Rental Bikes</td><td>Southwest</td></tr>",
                            "<tr><td>Resale Services</td><td>Southwest</td></tr>",
                            "<tr><td>Retail Cycle Shop</td><td>Southwest</td></tr>",
                            "<tr><td>Retail Sporting Equipment</td><td>Southwest</td></tr>",
                            "<tr><td>Riding Excursions</td><td>Southwest</td></tr>",
                            "<tr><td>Rural Department Store</td><td>Southwest</td></tr>",
                            "<tr><td>Rural Sales and Service</td><td>Southwest</td></tr>",
                            "<tr><td>Safe Toys</td><td>Southwest</td></tr>",
                            "<tr><td>Satin Finish Company</td><td>Southwest</td></tr>",
                            "<tr><td>Separate Parts Corporation</td><td>Southwest</td></tr>",
                            "<tr><td>Sheet Metal Manufacturing</td><td>Southwest</td></tr>",
                            "<tr><td>Small Bike Shop</td><td>Southwest</td></tr>",
                            "<tr><td>Social Activities Club</td><td>Southwest</td></tr>",
                            "<tr><td>Solid Bike Parts</td><td>Southwest</td></tr>",
                            "<tr><td>Sparkling Paint and Finishes</td><td>Southwest</td></tr>",
                            "<tr><td>Specialty Sports Store</td><td>Southwest</td></tr>",
                            "<tr><td>Sports Products Store</td><td>Southwest</td></tr>",
                            "<tr><td>Stationary Bikes and Stands</td><td>Southwest</td></tr>",
                            "<tr><td>Strenuous Exercise Shop</td><td>Southwest</td></tr>",
                            "<tr><td>Sturdy Toys</td><td>Southwest</td></tr>",
                            "<tr><td>Swift Cycles</td><td>Southwest</td></tr>",
                            "<tr><td>Systematic Sales</td><td>Southwest</td></tr>",
                            "<tr><td>Technical Parts Manufacturing</td><td>Southwest</td></tr>",
                            "<tr><td>The Bicycle Accessories Company</td><td>Southwest</td></tr>",
                            "<tr><td>The Gear Store</td><td>Southwest</td></tr>",
                            "<tr><td>The New Bike Store</td><td>Southwest</td></tr>",
                            "<tr><td>Third Bike Store</td><td>Southwest</td></tr>",
                            "<tr><td>Thrifty Parts and Sales</td><td>Southwest</td></tr>",
                            "<tr><td>Thrilling Bike Tours</td><td>Southwest</td></tr>",
                            "<tr><td>Timely Shipping Service</td><td>Southwest</td></tr>",
                            "<tr><td>Totes &amp; Baskets Company</td><td>Southwest</td></tr>",
                            "<tr><td>Town Industries</td><td>Southwest</td></tr>",
                            "<tr><td>Traction Tire Company</td><td>Southwest</td></tr>",
                            "<tr><td>Trailblazing Sports</td><td>Southwest</td></tr>",
                            "<tr><td>Trendy Department Stores</td><td>Southwest</td></tr>",
                            "<tr><td>Two Wheels Cycle Store</td><td>Southwest</td></tr>",
                            "<tr><td>Two-Seater Bikes</td><td>Southwest</td></tr>",
                            "<tr><td>Unicycles, Bicycles, and Tricycles</td><td>Southwest</td></tr>",
                            "<tr><td>Unsurpassed Bikes</td><td>Southwest</td></tr>",
                            "<tr><td>Vale Riding Supplies</td><td>Southwest</td></tr>",
                            "<tr><td>Valley Bicycle Distributors</td><td>Southwest</td></tr>",
                            "<tr><td>Vehicle Shop</td><td>Southwest</td></tr>",
                            "<tr><td>Weekend Bike Tours</td><td>Southwest</td></tr>",
                            "<tr><td>Westside Plaza</td><td>Southwest</td></tr>",
                            "<tr><td>Wheel Gallery</td><td>Southwest</td></tr>",
                            "<tr><td>Wire Baskets and Parts</td><td>Southwest</td></tr>",
                            "<tr><td>World Bike Discount Store</td><td>Southwest</td></tr>",
                            "<tr><td>Action Bicycle Specialists</td><td>United Kingdom</td></tr>",
                            "<tr><td>Area Sheet Metal Supply</td><td>United Kingdom</td></tr>",
                            "<tr><td>Authentic Sales and Service</td><td>United Kingdom</td></tr>",
                            "<tr><td>Bulk Discount Store</td><td>United Kingdom</td></tr>",
                            "<tr><td>Central Bicycle Specialists</td><td>United Kingdom</td></tr>",
                            "<tr><td>Channel Outlet</td><td>United Kingdom</td></tr>",
                            "<tr><td>Closest Bicycle Store</td><td>United Kingdom</td></tr>",
                            "<tr><td>Commerce Bicycle Specialists</td><td>United Kingdom</td></tr>",
                            "<tr><td>Consumer Equipment</td><td>United Kingdom</td></tr>",
                            "<tr><td>Cycles Wholesaler &amp; Mfg.</td><td>United Kingdom</td></tr>",
                            "<tr><td>Cycling Goods</td><td>United Kingdom</td></tr>",
                            "<tr><td>Downhill Bicycle Specialists</td><td>United Kingdom</td></tr>",
                            "<tr><td>Essential Bike Works</td><td>United Kingdom</td></tr>",
                            "<tr><td>Exceptional Cycle Services</td><td>United Kingdom</td></tr>",
                            "<tr><td>Exclusive Bicycle Mart</td><td>United Kingdom</td></tr>",
                            "<tr><td>Exhibition Showroom</td><td>United Kingdom</td></tr>",
                            "<tr><td>Express Bike Services</td><td>United Kingdom</td></tr>",
                            "<tr><td>Extended Tours</td><td>United Kingdom</td></tr>",
                            "<tr><td>Instruments and Parts Company</td><td>United Kingdom</td></tr>",
                            "<tr><td>Leisure Clearing House</td><td>United Kingdom</td></tr>",
                            "<tr><td>Little Sports Center</td><td>United Kingdom</td></tr>",
                            "<tr><td>Mail Market</td><td>United Kingdom</td></tr>",
                            "<tr><td>Metro Metals Co.</td><td>United Kingdom</td></tr>",
                            "<tr><td>Metropolitan Bicycle Supply</td><td>United Kingdom</td></tr>",
                            "<tr><td>Nearby Cycle Shop</td><td>United Kingdom</td></tr>",
                            "<tr><td>Nearby Sporting Goods</td><td>United Kingdom</td></tr>",
                            "<tr><td>Number One Bike Co.</td><td>United Kingdom</td></tr>",
                            "<tr><td>Oils and Fluids Warehouse</td><td>United Kingdom</td></tr>",
                            "<tr><td>Outdoor Aerobic Systems Company</td><td>United Kingdom</td></tr>",
                            "<tr><td>Prosperous Tours</td><td>United Kingdom</td></tr>",
                            "<tr><td>Rampart Amusement Company</td><td>United Kingdom</td></tr>",
                            "<tr><td>Riding Cycles</td><td>United Kingdom</td></tr>",
                            "<tr><td>Shipping Specialists</td><td>United Kingdom</td></tr>",
                            "<tr><td>Sports Store</td><td>United Kingdom</td></tr>",
                            "<tr><td>Tachometers and Accessories</td><td>United Kingdom</td></tr>",
                            "<tr><td>Tubeless Tire Company</td><td>United Kingdom</td></tr>",
                            "<tr><td>Uttermost Bike Shop</td><td>United Kingdom</td></tr>",
                            "<tr><td>Variety Cycling</td><td>United Kingdom</td></tr>",
                            "<tr><td>Vigorous Sports Store</td><td>United Kingdom</td></tr>",
                            "<tr><td>West Side Mart</td><td>United Kingdom</td></tr>",
                            "</table>"
                        ]
                    }
                }
            ],
            "execution_count": 4
        }
    ]
}